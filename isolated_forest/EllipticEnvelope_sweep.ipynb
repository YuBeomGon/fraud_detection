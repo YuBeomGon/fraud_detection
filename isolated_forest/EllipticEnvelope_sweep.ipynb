{
 "cells": [
  {
   "cell_type": "code",
   "execution_count": 50,
   "id": "1a0f9b29-8dd2-4484-9fb5-bc1348626c8a",
   "metadata": {},
   "outputs": [],
   "source": [
    "import torch\n",
    "import pandas as pd\n",
    "import numpy as np\n",
    "import sklearn\n",
    "import random\n",
    "import os\n",
    "\n",
    "from sklearn.covariance import EllipticEnvelope\n",
    "from sklearn.metrics import f1_score, confusion_matrix, classification_report\n",
    "\n",
    "import matplotlib.pyplot as plt\n",
    "\n",
    "import warnings\n",
    "warnings.filterwarnings(action='ignore')\n",
    "\n",
    "from datetime import datetime\n",
    "import wandb\n",
    "\n",
    "import pickle\n",
    "from joblib import dump, load"
   ]
  },
  {
   "cell_type": "code",
   "execution_count": 51,
   "id": "635dea7c-02a6-471f-8b39-e28b868877f1",
   "metadata": {},
   "outputs": [],
   "source": [
    "pd.options.display.float_format = '{:.2f}'.format"
   ]
  },
  {
   "cell_type": "code",
   "execution_count": 52,
   "id": "e72ac133-e73f-4715-8b27-5bdbe770c85c",
   "metadata": {},
   "outputs": [
    {
     "name": "stdout",
     "output_type": "stream",
     "text": [
      "\u001b[34m\u001b[1mwandb\u001b[0m: Currently logged in as: \u001b[33mbeomgon-yu\u001b[0m. Use \u001b[1m`wandb login --relogin`\u001b[0m to force relogin\n"
     ]
    }
   ],
   "source": [
    "!wandb login"
   ]
  },
  {
   "cell_type": "markdown",
   "id": "abe1250f-55d3-4ce7-9fc5-be018b79ae11",
   "metadata": {},
   "source": [
    "## hyperparameter for sweeping using wandb"
   ]
  },
  {
   "cell_type": "code",
   "execution_count": 53,
   "id": "7cd80646-5f70-4f23-a2c3-d732a783474c",
   "metadata": {},
   "outputs": [],
   "source": [
    "test_num = 15\n",
    "\n",
    "# use random search\n",
    "sweep_config = {\n",
    "    'method': 'random'\n",
    "    }\n",
    "\n",
    "# for bayesian search, this value should be included\n",
    "metric = {\n",
    "    'name': 'f1_score',\n",
    "    'goal': 'maximize'   \n",
    "    }\n",
    "\n",
    "sweep_config['metric'] = metric    \n",
    "\n",
    "parameters_dict = {\n",
    "    'seed': {\n",
    "        'distribution': 'int_uniform',\n",
    "        'min': 0,\n",
    "        'max': 30,\n",
    "        },\n",
    "    }\n",
    "\n",
    "parameters_dict.update({\n",
    "    'support_fraction': {\n",
    "        'distribution': 'uniform',\n",
    "        # 'q':1e-5,\n",
    "        'min': 0.99,\n",
    "        'max': 0.999,\n",
    "    }\n",
    "    })\n",
    "\n",
    "sweep_config['parameters'] = parameters_dict\n",
    "\n",
    "parameters_dict.update({\n",
    "    'val_ratio': {\n",
    "        # a q_log_uniform_values distribution between 0 and 0.1\n",
    "        'distribution': 'uniform',\n",
    "        'min': 0.0002,\n",
    "        'max': 0.003,\n",
    "      },\n",
    "    'topk': {\n",
    "        # 'value': 29,\n",
    "        'distribution': 'int_uniform',\n",
    "        'min': 28,\n",
    "        'max': 32,\n",
    "      },\n",
    "    'denom': {\n",
    "        'distribution': 'int_uniform',\n",
    "        'min': 2,\n",
    "        'max': 6,\n",
    "      },    \n",
    "    })"
   ]
  },
  {
   "cell_type": "code",
   "execution_count": 54,
   "id": "f84e17a7-8794-424c-af92-9f46e70d6bbf",
   "metadata": {},
   "outputs": [
    {
     "name": "stdout",
     "output_type": "stream",
     "text": [
      "{'method': 'random',\n",
      " 'metric': {'goal': 'maximize', 'name': 'f1_score'},\n",
      " 'parameters': {'denom': {'distribution': 'int_uniform', 'max': 6, 'min': 2},\n",
      "                'seed': {'distribution': 'int_uniform', 'max': 30, 'min': 0},\n",
      "                'support_fraction': {'distribution': 'uniform',\n",
      "                                     'max': 0.999,\n",
      "                                     'min': 0.99},\n",
      "                'topk': {'distribution': 'int_uniform', 'max': 32, 'min': 28},\n",
      "                'val_ratio': {'distribution': 'uniform',\n",
      "                              'max': 0.003,\n",
      "                              'min': 0.0002}}}\n",
      "Create sweep with ID: aplf5edd\n",
      "Sweep URL: https://wandb.ai/beomgon-yu/EllipseEnvelope%20Sweep/sweeps/aplf5edd\n"
     ]
    }
   ],
   "source": [
    "import pprint\n",
    "\n",
    "pprint.pprint(sweep_config)\n",
    "sweep_id = wandb.sweep(sweep_config, project=\"EllipseEnvelope Sweep\")"
   ]
  },
  {
   "cell_type": "code",
   "execution_count": 55,
   "id": "a0e5f721-c899-4478-9eaa-26c81f5205cc",
   "metadata": {},
   "outputs": [],
   "source": [
    "# with wandb.init(config=None) :\n",
    "#     config = wandb.config\n",
    "#     config.support_fraction"
   ]
  },
  {
   "cell_type": "markdown",
   "id": "e0eb1498-0b11-4b99-b238-200fb1f063bb",
   "metadata": {},
   "source": [
    "## Data load"
   ]
  },
  {
   "cell_type": "code",
   "execution_count": 56,
   "id": "3398eef2-cffe-4a7a-9c42-9b46b5710575",
   "metadata": {},
   "outputs": [
    {
     "name": "stdout",
     "output_type": "stream",
     "text": [
      "(113842, 31)\n"
     ]
    }
   ],
   "source": [
    "train = pd.read_csv('../dataset/train.csv')\n",
    "val = pd.read_csv('../dataset/val.csv')\n",
    "test = pd.read_csv('../dataset/test.csv')\n",
    "print(train.shape)"
   ]
  },
  {
   "cell_type": "code",
   "execution_count": 57,
   "id": "0f553a60-2dd8-417e-97dd-10000074cd72",
   "metadata": {},
   "outputs": [
    {
     "name": "stdout",
     "output_type": "stream",
     "text": [
      "28432 30 0.0010551491277433877\n"
     ]
    }
   ],
   "source": [
    "val_normal, val_abnormal = val.Class.value_counts()\n",
    "val_ratio = val_abnormal / val_normal\n",
    "print(val_normal, val_abnormal, val_ratio)\n"
   ]
  },
  {
   "cell_type": "code",
   "execution_count": 58,
   "id": "f5e6139e-e9ca-40ad-bae2-5675f84f1b18",
   "metadata": {},
   "outputs": [],
   "source": [
    "def seed_everything(seed) :\n",
    "    random.seed(seed)\n",
    "    os.environ['PYHONHASHSEED'] = str(seed)\n",
    "    np.random.seed(seed)\n",
    "    torch.manual_seed(seed)\n",
    "    torch.cuda.manual_seed(seed)\n",
    "    torch.backends.cudnn.deterministic = True\n",
    "    torch.backends.cudnn.benchmark = True  "
   ]
  },
  {
   "cell_type": "code",
   "execution_count": 59,
   "id": "0d5e5464-36b3-4767-a242-8dc7158bb726",
   "metadata": {},
   "outputs": [],
   "source": [
    "from sklearn.preprocessing import RobustScaler, StandardScaler, MinMaxScaler\n",
    "col=[col for col in val.columns if col not in ['ID','Class']]\n",
    "\n",
    "for i in col:\n",
    "    sc=StandardScaler()\n",
    "    scaler = sc.fit(train[i].values.reshape(-1,1))\n",
    "    train[i] = scaler.transform(train[i].values.reshape(-1,1))\n",
    "    val[i] = scaler.transform(val[i].values.reshape(-1,1))\n",
    "    test[i] = scaler.transform(test[i].values.reshape(-1,1))"
   ]
  },
  {
   "cell_type": "code",
   "execution_count": 60,
   "id": "7a669c49-b2ad-4604-a3ad-36f085b58012",
   "metadata": {},
   "outputs": [],
   "source": [
    "def get_pred(model, x, k, thres) :\n",
    "    prob = model.score_samples(x)\n",
    "    prob = torch.tensor(prob, dtype=torch.float)\n",
    "    if k is not None :\n",
    "        topk_indices = torch.topk(prob, k=k, largest=False).indices\n",
    "\n",
    "        pred = torch.zeros(len(x), dtype=torch.int8)\n",
    "        pred[topk_indices] = 1\n",
    "        \n",
    "        return pred.tolist(), prob.tolist(), prob[topk_indices][-1]\n",
    "    else :\n",
    "        # pred = torch.zeros(len(x), dtype=torch.int8)\n",
    "        pred = torch.where(prob<thres, 1, 0)\n",
    "        \n",
    "        return pred.tolist(), prob.tolist(), _\n",
    "    \n",
    "    "
   ]
  },
  {
   "cell_type": "code",
   "execution_count": 61,
   "id": "3745d5e7-ab14-4e96-b02a-c67dab01454c",
   "metadata": {},
   "outputs": [],
   "source": [
    "train = train.drop(columns=['ID'])\n",
    "val_x = val.drop(columns=['ID', 'Class'])\n",
    "val_y = val['Class']\n",
    "test_x = test.drop(columns=['ID'])"
   ]
  },
  {
   "cell_type": "code",
   "execution_count": 62,
   "id": "959cc6aa-1740-450b-b364-4f4c09e22928",
   "metadata": {},
   "outputs": [
    {
     "data": {
      "text/plain": [
       "(142503, 2)"
      ]
     },
     "execution_count": 62,
     "metadata": {},
     "output_type": "execute_result"
    }
   ],
   "source": [
    "submit = pd.read_csv('../dataset/sample_submission.csv')\n",
    "submit.shape"
   ]
  },
  {
   "cell_type": "code",
   "execution_count": 63,
   "id": "5018e8a4-3291-4048-9bf4-0a3542e461c4",
   "metadata": {},
   "outputs": [],
   "source": [
    "def main() :\n",
    "    \n",
    "    with wandb.init(config=None) as run :\n",
    "        print(run.name)\n",
    "        \n",
    "        config = wandb.config\n",
    "        seed_everything(config.seed) \n",
    "        train_x = train.sample(frac=1)[:len(train)//config.denom]\n",
    "        # print(train_x.shape)\n",
    "        # print(config.support_fraction)\n",
    "        # val_ratio = 0.0010551491277433877\n",
    "        \n",
    "        model = EllipticEnvelope(support_fraction=config.support_fraction, \n",
    "                                 contamination=config.val_ratio, random_state=config.seed)\n",
    "        model.fit(train_x) \n",
    "        \n",
    "        val_pred, val_prob, prob_thres = get_pred(model, val_x, config.topk, None)\n",
    "        val_score = f1_score(val_y, val_pred, average='macro')\n",
    "        \n",
    "        wandb.log({'f1_score' : val_score})\n",
    "        \n",
    "        print(classification_report(val_y, val_pred))    \n",
    "        print(prob_thres)\n",
    "        \n",
    "        tn, fp, fn, tp = confusion_matrix(val_y, val_pred).ravel()\n",
    "        print('tp : ', tp, ', fp : ', fp, ', tn : ', tn, ', fn : ', fn)     \n",
    "        \n",
    "        wrong_answer = np.where(np.array(val_y) != np.array(val_pred))[0]\n",
    "        print(wrong_answer) \n",
    "        \n",
    "        if val_score > 0.8 :\n",
    "            test_pred, test_prob, _ = get_pred(model, test_x, None, prob_thres)\n",
    "            \n",
    "            # save test result\n",
    "            submit = pd.read_csv('../dataset/sample_submission.csv')\n",
    "            submit['Class'] = test_pred\n",
    "            submit.to_csv('results/'+run.name+'.csv', index=False)\n",
    "            \n",
    "            val_df = pd.read_csv('../dataset/val.csv')\n",
    "            val_df = val_df.drop(columns=val_df.columns[1:], axis=1)\n",
    "            val_df['Class'] = val_pred\n",
    "            val_df.to_csv('val_results/'+run.name+'.csv',index=False)\n",
    "\n",
    "            # save model\n",
    "            # saved_model = pickle.dumps(model)\n",
    "            dump(model, 'models/'+run.name+'.joblib')\n",
    "            \n",
    "            # wandb.save(\"./results/eval/*\", base_path=\"./results\", policy=\"now\")        "
   ]
  },
  {
   "cell_type": "code",
   "execution_count": 64,
   "id": "1a6fadb0-7863-4a7b-8c1f-71ea46b8d994",
   "metadata": {},
   "outputs": [
    {
     "name": "stderr",
     "output_type": "stream",
     "text": [
      "\u001b[34m\u001b[1mwandb\u001b[0m: Agent Starting Run: 5s8zdsua with config:\n",
      "\u001b[34m\u001b[1mwandb\u001b[0m: \tdenom: 3\n",
      "\u001b[34m\u001b[1mwandb\u001b[0m: \tseed: 21\n",
      "\u001b[34m\u001b[1mwandb\u001b[0m: \tsupport_fraction: 0.9912575459610292\n",
      "\u001b[34m\u001b[1mwandb\u001b[0m: \ttopk: 30\n",
      "\u001b[34m\u001b[1mwandb\u001b[0m: \tval_ratio: 0.001922639629882452\n"
     ]
    },
    {
     "data": {
      "text/html": [
       "Tracking run with wandb version 0.12.21"
      ],
      "text/plain": [
       "<IPython.core.display.HTML object>"
      ]
     },
     "metadata": {},
     "output_type": "display_data"
    },
    {
     "data": {
      "text/html": [
       "Run data is saved locally in <code>/home/beomgon/dacon/fraud_detection/isolated_forest/wandb/run-20220803_215728-5s8zdsua</code>"
      ],
      "text/plain": [
       "<IPython.core.display.HTML object>"
      ]
     },
     "metadata": {},
     "output_type": "display_data"
    },
    {
     "data": {
      "text/html": [
       "Syncing run <strong><a href=\"https://wandb.ai/beomgon-yu/EllipseEnvelope%20Sweep/runs/5s8zdsua\" target=\"_blank\">rural-sweep-1</a></strong> to <a href=\"https://wandb.ai/beomgon-yu/EllipseEnvelope%20Sweep\" target=\"_blank\">Weights & Biases</a> (<a href=\"https://wandb.me/run\" target=\"_blank\">docs</a>)<br/>Sweep page:  <a href=\"https://wandb.ai/beomgon-yu/EllipseEnvelope%20Sweep/sweeps/aplf5edd\" target=\"_blank\">https://wandb.ai/beomgon-yu/EllipseEnvelope%20Sweep/sweeps/aplf5edd</a>"
      ],
      "text/plain": [
       "<IPython.core.display.HTML object>"
      ]
     },
     "metadata": {},
     "output_type": "display_data"
    },
    {
     "name": "stdout",
     "output_type": "stream",
     "text": [
      "rural-sweep-1\n",
      "              precision    recall  f1-score   support\n",
      "\n",
      "           0       1.00      1.00      1.00     28432\n",
      "           1       0.67      0.67      0.67        30\n",
      "\n",
      "    accuracy                           1.00     28462\n",
      "   macro avg       0.83      0.83      0.83     28462\n",
      "weighted avg       1.00      1.00      1.00     28462\n",
      "\n",
      "tensor(-6.9687e+08)\n",
      "tp :  20 , fp :  10 , tn :  28422 , fn :  10\n",
      "[   71  1047  1210  3197  4039  4917  9326 12377 13706 14221 15306 17534\n",
      " 19226 20225 24110 25504 26010 27905 27998 28146]\n"
     ]
    },
    {
     "data": {
      "text/html": [
       "Waiting for W&B process to finish... <strong style=\"color:green\">(success).</strong>"
      ],
      "text/plain": [
       "<IPython.core.display.HTML object>"
      ]
     },
     "metadata": {},
     "output_type": "display_data"
    },
    {
     "data": {
      "application/vnd.jupyter.widget-view+json": {
       "model_id": "",
       "version_major": 2,
       "version_minor": 0
      },
      "text/plain": [
       "VBox(children=(Label(value='0.001 MB of 0.001 MB uploaded (0.000 MB deduped)\\r'), FloatProgress(value=1.0, max…"
      ]
     },
     "metadata": {},
     "output_type": "display_data"
    },
    {
     "data": {
      "text/html": [
       "<style>\n",
       "    table.wandb td:nth-child(1) { padding: 0 10px; text-align: left ; width: auto;} td:nth-child(2) {text-align: left ; width: 100%}\n",
       "    .wandb-row { display: flex; flex-direction: row; flex-wrap: wrap; justify-content: flex-start; width: 100% }\n",
       "    .wandb-col { display: flex; flex-direction: column; flex-basis: 100%; flex: 1; padding: 10px; }\n",
       "    </style>\n",
       "<div class=\"wandb-row\"><div class=\"wandb-col\"><h3>Run history:</h3><br/><table class=\"wandb\"><tr><td>f1_score</td><td>▁</td></tr></table><br/></div><div class=\"wandb-col\"><h3>Run summary:</h3><br/><table class=\"wandb\"><tr><td>f1_score</td><td>0.83316</td></tr></table><br/></div></div>"
      ],
      "text/plain": [
       "<IPython.core.display.HTML object>"
      ]
     },
     "metadata": {},
     "output_type": "display_data"
    },
    {
     "data": {
      "text/html": [
       "Synced <strong style=\"color:#cdcd00\">rural-sweep-1</strong>: <a href=\"https://wandb.ai/beomgon-yu/EllipseEnvelope%20Sweep/runs/5s8zdsua\" target=\"_blank\">https://wandb.ai/beomgon-yu/EllipseEnvelope%20Sweep/runs/5s8zdsua</a><br/>Synced 6 W&B file(s), 0 media file(s), 0 artifact file(s) and 0 other file(s)"
      ],
      "text/plain": [
       "<IPython.core.display.HTML object>"
      ]
     },
     "metadata": {},
     "output_type": "display_data"
    },
    {
     "data": {
      "text/html": [
       "Find logs at: <code>./wandb/run-20220803_215728-5s8zdsua/logs</code>"
      ],
      "text/plain": [
       "<IPython.core.display.HTML object>"
      ]
     },
     "metadata": {},
     "output_type": "display_data"
    },
    {
     "name": "stderr",
     "output_type": "stream",
     "text": [
      "\u001b[34m\u001b[1mwandb\u001b[0m: Agent Starting Run: 4dzl1h3d with config:\n",
      "\u001b[34m\u001b[1mwandb\u001b[0m: \tdenom: 6\n",
      "\u001b[34m\u001b[1mwandb\u001b[0m: \tseed: 2\n",
      "\u001b[34m\u001b[1mwandb\u001b[0m: \tsupport_fraction: 0.9965421492082428\n",
      "\u001b[34m\u001b[1mwandb\u001b[0m: \ttopk: 29\n",
      "\u001b[34m\u001b[1mwandb\u001b[0m: \tval_ratio: 0.0015278281284054117\n"
     ]
    },
    {
     "data": {
      "text/html": [
       "Tracking run with wandb version 0.12.21"
      ],
      "text/plain": [
       "<IPython.core.display.HTML object>"
      ]
     },
     "metadata": {},
     "output_type": "display_data"
    },
    {
     "data": {
      "text/html": [
       "Run data is saved locally in <code>/home/beomgon/dacon/fraud_detection/isolated_forest/wandb/run-20220803_215805-4dzl1h3d</code>"
      ],
      "text/plain": [
       "<IPython.core.display.HTML object>"
      ]
     },
     "metadata": {},
     "output_type": "display_data"
    },
    {
     "data": {
      "text/html": [
       "Syncing run <strong><a href=\"https://wandb.ai/beomgon-yu/EllipseEnvelope%20Sweep/runs/4dzl1h3d\" target=\"_blank\">balmy-sweep-2</a></strong> to <a href=\"https://wandb.ai/beomgon-yu/EllipseEnvelope%20Sweep\" target=\"_blank\">Weights & Biases</a> (<a href=\"https://wandb.me/run\" target=\"_blank\">docs</a>)<br/>Sweep page:  <a href=\"https://wandb.ai/beomgon-yu/EllipseEnvelope%20Sweep/sweeps/aplf5edd\" target=\"_blank\">https://wandb.ai/beomgon-yu/EllipseEnvelope%20Sweep/sweeps/aplf5edd</a>"
      ],
      "text/plain": [
       "<IPython.core.display.HTML object>"
      ]
     },
     "metadata": {},
     "output_type": "display_data"
    },
    {
     "name": "stdout",
     "output_type": "stream",
     "text": [
      "balmy-sweep-2\n",
      "              precision    recall  f1-score   support\n",
      "\n",
      "           0       1.00      1.00      1.00     28432\n",
      "           1       0.86      0.83      0.85        30\n",
      "\n",
      "    accuracy                           1.00     28462\n",
      "   macro avg       0.93      0.92      0.92     28462\n",
      "weighted avg       1.00      1.00      1.00     28462\n",
      "\n",
      "tensor(-3433857.5000)\n",
      "tp :  25 , fp :  4 , tn :  28428 , fn :  5\n",
      "[   71  1047  1210  4039  7000  9326 14221 15306 28146]\n"
     ]
    },
    {
     "data": {
      "text/html": [
       "Waiting for W&B process to finish... <strong style=\"color:green\">(success).</strong>"
      ],
      "text/plain": [
       "<IPython.core.display.HTML object>"
      ]
     },
     "metadata": {},
     "output_type": "display_data"
    },
    {
     "data": {
      "application/vnd.jupyter.widget-view+json": {
       "model_id": "",
       "version_major": 2,
       "version_minor": 0
      },
      "text/plain": [
       "VBox(children=(Label(value='0.001 MB of 0.001 MB uploaded (0.000 MB deduped)\\r'), FloatProgress(value=1.0, max…"
      ]
     },
     "metadata": {},
     "output_type": "display_data"
    },
    {
     "data": {
      "text/html": [
       "<style>\n",
       "    table.wandb td:nth-child(1) { padding: 0 10px; text-align: left ; width: auto;} td:nth-child(2) {text-align: left ; width: 100%}\n",
       "    .wandb-row { display: flex; flex-direction: row; flex-wrap: wrap; justify-content: flex-start; width: 100% }\n",
       "    .wandb-col { display: flex; flex-direction: column; flex-basis: 100%; flex: 1; padding: 10px; }\n",
       "    </style>\n",
       "<div class=\"wandb-row\"><div class=\"wandb-col\"><h3>Run history:</h3><br/><table class=\"wandb\"><tr><td>f1_score</td><td>▁</td></tr></table><br/></div><div class=\"wandb-col\"><h3>Run summary:</h3><br/><table class=\"wandb\"><tr><td>f1_score</td><td>0.92365</td></tr></table><br/></div></div>"
      ],
      "text/plain": [
       "<IPython.core.display.HTML object>"
      ]
     },
     "metadata": {},
     "output_type": "display_data"
    },
    {
     "data": {
      "text/html": [
       "Synced <strong style=\"color:#cdcd00\">balmy-sweep-2</strong>: <a href=\"https://wandb.ai/beomgon-yu/EllipseEnvelope%20Sweep/runs/4dzl1h3d\" target=\"_blank\">https://wandb.ai/beomgon-yu/EllipseEnvelope%20Sweep/runs/4dzl1h3d</a><br/>Synced 6 W&B file(s), 0 media file(s), 0 artifact file(s) and 0 other file(s)"
      ],
      "text/plain": [
       "<IPython.core.display.HTML object>"
      ]
     },
     "metadata": {},
     "output_type": "display_data"
    },
    {
     "data": {
      "text/html": [
       "Find logs at: <code>./wandb/run-20220803_215805-4dzl1h3d/logs</code>"
      ],
      "text/plain": [
       "<IPython.core.display.HTML object>"
      ]
     },
     "metadata": {},
     "output_type": "display_data"
    },
    {
     "name": "stderr",
     "output_type": "stream",
     "text": [
      "\u001b[34m\u001b[1mwandb\u001b[0m: Agent Starting Run: vj4lnsti with config:\n",
      "\u001b[34m\u001b[1mwandb\u001b[0m: \tdenom: 4\n",
      "\u001b[34m\u001b[1mwandb\u001b[0m: \tseed: 4\n",
      "\u001b[34m\u001b[1mwandb\u001b[0m: \tsupport_fraction: 0.992708114780334\n",
      "\u001b[34m\u001b[1mwandb\u001b[0m: \ttopk: 31\n",
      "\u001b[34m\u001b[1mwandb\u001b[0m: \tval_ratio: 0.0005074612167550485\n"
     ]
    },
    {
     "data": {
      "text/html": [
       "Tracking run with wandb version 0.12.21"
      ],
      "text/plain": [
       "<IPython.core.display.HTML object>"
      ]
     },
     "metadata": {},
     "output_type": "display_data"
    },
    {
     "data": {
      "text/html": [
       "Run data is saved locally in <code>/home/beomgon/dacon/fraud_detection/isolated_forest/wandb/run-20220803_215831-vj4lnsti</code>"
      ],
      "text/plain": [
       "<IPython.core.display.HTML object>"
      ]
     },
     "metadata": {},
     "output_type": "display_data"
    },
    {
     "data": {
      "text/html": [
       "Syncing run <strong><a href=\"https://wandb.ai/beomgon-yu/EllipseEnvelope%20Sweep/runs/vj4lnsti\" target=\"_blank\">deep-sweep-3</a></strong> to <a href=\"https://wandb.ai/beomgon-yu/EllipseEnvelope%20Sweep\" target=\"_blank\">Weights & Biases</a> (<a href=\"https://wandb.me/run\" target=\"_blank\">docs</a>)<br/>Sweep page:  <a href=\"https://wandb.ai/beomgon-yu/EllipseEnvelope%20Sweep/sweeps/aplf5edd\" target=\"_blank\">https://wandb.ai/beomgon-yu/EllipseEnvelope%20Sweep/sweeps/aplf5edd</a>"
      ],
      "text/plain": [
       "<IPython.core.display.HTML object>"
      ]
     },
     "metadata": {},
     "output_type": "display_data"
    },
    {
     "name": "stdout",
     "output_type": "stream",
     "text": [
      "deep-sweep-3\n",
      "              precision    recall  f1-score   support\n",
      "\n",
      "           0       1.00      1.00      1.00     28432\n",
      "           1       0.81      0.83      0.82        30\n",
      "\n",
      "    accuracy                           1.00     28462\n",
      "   macro avg       0.90      0.92      0.91     28462\n",
      "weighted avg       1.00      1.00      1.00     28462\n",
      "\n",
      "tensor(-296238.1875)\n",
      "tp :  25 , fp :  6 , tn :  28426 , fn :  5\n",
      "[   71  1047  1210  4039  4917  7000  9326 14221 15306 19113 28146]\n"
     ]
    },
    {
     "data": {
      "text/html": [
       "Waiting for W&B process to finish... <strong style=\"color:green\">(success).</strong>"
      ],
      "text/plain": [
       "<IPython.core.display.HTML object>"
      ]
     },
     "metadata": {},
     "output_type": "display_data"
    },
    {
     "data": {
      "application/vnd.jupyter.widget-view+json": {
       "model_id": "",
       "version_major": 2,
       "version_minor": 0
      },
      "text/plain": [
       "VBox(children=(Label(value='0.001 MB of 0.001 MB uploaded (0.000 MB deduped)\\r'), FloatProgress(value=1.0, max…"
      ]
     },
     "metadata": {},
     "output_type": "display_data"
    },
    {
     "data": {
      "text/html": [
       "<style>\n",
       "    table.wandb td:nth-child(1) { padding: 0 10px; text-align: left ; width: auto;} td:nth-child(2) {text-align: left ; width: 100%}\n",
       "    .wandb-row { display: flex; flex-direction: row; flex-wrap: wrap; justify-content: flex-start; width: 100% }\n",
       "    .wandb-col { display: flex; flex-direction: column; flex-basis: 100%; flex: 1; padding: 10px; }\n",
       "    </style>\n",
       "<div class=\"wandb-row\"><div class=\"wandb-col\"><h3>Run history:</h3><br/><table class=\"wandb\"><tr><td>f1_score</td><td>▁</td></tr></table><br/></div><div class=\"wandb-col\"><h3>Run summary:</h3><br/><table class=\"wandb\"><tr><td>f1_score</td><td>0.90974</td></tr></table><br/></div></div>"
      ],
      "text/plain": [
       "<IPython.core.display.HTML object>"
      ]
     },
     "metadata": {},
     "output_type": "display_data"
    },
    {
     "data": {
      "text/html": [
       "Synced <strong style=\"color:#cdcd00\">deep-sweep-3</strong>: <a href=\"https://wandb.ai/beomgon-yu/EllipseEnvelope%20Sweep/runs/vj4lnsti\" target=\"_blank\">https://wandb.ai/beomgon-yu/EllipseEnvelope%20Sweep/runs/vj4lnsti</a><br/>Synced 6 W&B file(s), 0 media file(s), 0 artifact file(s) and 0 other file(s)"
      ],
      "text/plain": [
       "<IPython.core.display.HTML object>"
      ]
     },
     "metadata": {},
     "output_type": "display_data"
    },
    {
     "data": {
      "text/html": [
       "Find logs at: <code>./wandb/run-20220803_215831-vj4lnsti/logs</code>"
      ],
      "text/plain": [
       "<IPython.core.display.HTML object>"
      ]
     },
     "metadata": {},
     "output_type": "display_data"
    },
    {
     "name": "stderr",
     "output_type": "stream",
     "text": [
      "\u001b[34m\u001b[1mwandb\u001b[0m: Agent Starting Run: tjvzji33 with config:\n",
      "\u001b[34m\u001b[1mwandb\u001b[0m: \tdenom: 6\n",
      "\u001b[34m\u001b[1mwandb\u001b[0m: \tseed: 30\n",
      "\u001b[34m\u001b[1mwandb\u001b[0m: \tsupport_fraction: 0.9923108223615674\n",
      "\u001b[34m\u001b[1mwandb\u001b[0m: \ttopk: 29\n",
      "\u001b[34m\u001b[1mwandb\u001b[0m: \tval_ratio: 0.0023991042711351573\n"
     ]
    },
    {
     "data": {
      "text/html": [
       "Tracking run with wandb version 0.12.21"
      ],
      "text/plain": [
       "<IPython.core.display.HTML object>"
      ]
     },
     "metadata": {},
     "output_type": "display_data"
    },
    {
     "data": {
      "text/html": [
       "Run data is saved locally in <code>/home/beomgon/dacon/fraud_detection/isolated_forest/wandb/run-20220803_215903-tjvzji33</code>"
      ],
      "text/plain": [
       "<IPython.core.display.HTML object>"
      ]
     },
     "metadata": {},
     "output_type": "display_data"
    },
    {
     "data": {
      "text/html": [
       "Syncing run <strong><a href=\"https://wandb.ai/beomgon-yu/EllipseEnvelope%20Sweep/runs/tjvzji33\" target=\"_blank\">gallant-sweep-4</a></strong> to <a href=\"https://wandb.ai/beomgon-yu/EllipseEnvelope%20Sweep\" target=\"_blank\">Weights & Biases</a> (<a href=\"https://wandb.me/run\" target=\"_blank\">docs</a>)<br/>Sweep page:  <a href=\"https://wandb.ai/beomgon-yu/EllipseEnvelope%20Sweep/sweeps/aplf5edd\" target=\"_blank\">https://wandb.ai/beomgon-yu/EllipseEnvelope%20Sweep/sweeps/aplf5edd</a>"
      ],
      "text/plain": [
       "<IPython.core.display.HTML object>"
      ]
     },
     "metadata": {},
     "output_type": "display_data"
    },
    {
     "name": "stdout",
     "output_type": "stream",
     "text": [
      "gallant-sweep-4\n",
      "              precision    recall  f1-score   support\n",
      "\n",
      "           0       1.00      1.00      1.00     28432\n",
      "           1       0.66      0.63      0.64        30\n",
      "\n",
      "    accuracy                           1.00     28462\n",
      "   macro avg       0.83      0.82      0.82     28462\n",
      "weighted avg       1.00      1.00      1.00     28462\n",
      "\n",
      "tensor(-6.5448e+08)\n",
      "tp :  19 , fp :  10 , tn :  28422 , fn :  11\n",
      "[   71  1047  1210  3197  4039  4917  9326 12377 12797 13706 14221 15306\n",
      " 17534 19226 20225 24110 25504 26010 27905 27998 28146]\n"
     ]
    },
    {
     "data": {
      "text/html": [
       "Waiting for W&B process to finish... <strong style=\"color:green\">(success).</strong>"
      ],
      "text/plain": [
       "<IPython.core.display.HTML object>"
      ]
     },
     "metadata": {},
     "output_type": "display_data"
    },
    {
     "data": {
      "application/vnd.jupyter.widget-view+json": {
       "model_id": "",
       "version_major": 2,
       "version_minor": 0
      },
      "text/plain": [
       "VBox(children=(Label(value='0.001 MB of 0.001 MB uploaded (0.000 MB deduped)\\r'), FloatProgress(value=1.0, max…"
      ]
     },
     "metadata": {},
     "output_type": "display_data"
    },
    {
     "data": {
      "text/html": [
       "<style>\n",
       "    table.wandb td:nth-child(1) { padding: 0 10px; text-align: left ; width: auto;} td:nth-child(2) {text-align: left ; width: 100%}\n",
       "    .wandb-row { display: flex; flex-direction: row; flex-wrap: wrap; justify-content: flex-start; width: 100% }\n",
       "    .wandb-col { display: flex; flex-direction: column; flex-basis: 100%; flex: 1; padding: 10px; }\n",
       "    </style>\n",
       "<div class=\"wandb-row\"><div class=\"wandb-col\"><h3>Run history:</h3><br/><table class=\"wandb\"><tr><td>f1_score</td><td>▁</td></tr></table><br/></div><div class=\"wandb-col\"><h3>Run summary:</h3><br/><table class=\"wandb\"><tr><td>f1_score</td><td>0.82185</td></tr></table><br/></div></div>"
      ],
      "text/plain": [
       "<IPython.core.display.HTML object>"
      ]
     },
     "metadata": {},
     "output_type": "display_data"
    },
    {
     "data": {
      "text/html": [
       "Synced <strong style=\"color:#cdcd00\">gallant-sweep-4</strong>: <a href=\"https://wandb.ai/beomgon-yu/EllipseEnvelope%20Sweep/runs/tjvzji33\" target=\"_blank\">https://wandb.ai/beomgon-yu/EllipseEnvelope%20Sweep/runs/tjvzji33</a><br/>Synced 6 W&B file(s), 0 media file(s), 0 artifact file(s) and 0 other file(s)"
      ],
      "text/plain": [
       "<IPython.core.display.HTML object>"
      ]
     },
     "metadata": {},
     "output_type": "display_data"
    },
    {
     "data": {
      "text/html": [
       "Find logs at: <code>./wandb/run-20220803_215903-tjvzji33/logs</code>"
      ],
      "text/plain": [
       "<IPython.core.display.HTML object>"
      ]
     },
     "metadata": {},
     "output_type": "display_data"
    },
    {
     "name": "stderr",
     "output_type": "stream",
     "text": [
      "\u001b[34m\u001b[1mwandb\u001b[0m: Agent Starting Run: 842pf8fq with config:\n",
      "\u001b[34m\u001b[1mwandb\u001b[0m: \tdenom: 6\n",
      "\u001b[34m\u001b[1mwandb\u001b[0m: \tseed: 19\n",
      "\u001b[34m\u001b[1mwandb\u001b[0m: \tsupport_fraction: 0.9906566177818672\n",
      "\u001b[34m\u001b[1mwandb\u001b[0m: \ttopk: 31\n",
      "\u001b[34m\u001b[1mwandb\u001b[0m: \tval_ratio: 0.00042953560241946006\n"
     ]
    },
    {
     "data": {
      "text/html": [
       "Tracking run with wandb version 0.12.21"
      ],
      "text/plain": [
       "<IPython.core.display.HTML object>"
      ]
     },
     "metadata": {},
     "output_type": "display_data"
    },
    {
     "data": {
      "text/html": [
       "Run data is saved locally in <code>/home/beomgon/dacon/fraud_detection/isolated_forest/wandb/run-20220803_215945-842pf8fq</code>"
      ],
      "text/plain": [
       "<IPython.core.display.HTML object>"
      ]
     },
     "metadata": {},
     "output_type": "display_data"
    },
    {
     "data": {
      "text/html": [
       "Syncing run <strong><a href=\"https://wandb.ai/beomgon-yu/EllipseEnvelope%20Sweep/runs/842pf8fq\" target=\"_blank\">comic-sweep-5</a></strong> to <a href=\"https://wandb.ai/beomgon-yu/EllipseEnvelope%20Sweep\" target=\"_blank\">Weights & Biases</a> (<a href=\"https://wandb.me/run\" target=\"_blank\">docs</a>)<br/>Sweep page:  <a href=\"https://wandb.ai/beomgon-yu/EllipseEnvelope%20Sweep/sweeps/aplf5edd\" target=\"_blank\">https://wandb.ai/beomgon-yu/EllipseEnvelope%20Sweep/sweeps/aplf5edd</a>"
      ],
      "text/plain": [
       "<IPython.core.display.HTML object>"
      ]
     },
     "metadata": {},
     "output_type": "display_data"
    },
    {
     "name": "stdout",
     "output_type": "stream",
     "text": [
      "comic-sweep-5\n",
      "              precision    recall  f1-score   support\n",
      "\n",
      "           0       1.00      1.00      1.00     28432\n",
      "           1       0.65      0.67      0.66        30\n",
      "\n",
      "    accuracy                           1.00     28462\n",
      "   macro avg       0.82      0.83      0.83     28462\n",
      "weighted avg       1.00      1.00      1.00     28462\n",
      "\n",
      "tensor(-5.0510e+08)\n",
      "tp :  20 , fp :  11 , tn :  28421 , fn :  10\n",
      "[   71  1047  1210  3197  4039  4917  9326 10880 12377 13706 14221 15306\n",
      " 17534 19226 20225 24110 25504 26010 27905 27998 28146]\n"
     ]
    },
    {
     "data": {
      "text/html": [
       "Waiting for W&B process to finish... <strong style=\"color:green\">(success).</strong>"
      ],
      "text/plain": [
       "<IPython.core.display.HTML object>"
      ]
     },
     "metadata": {},
     "output_type": "display_data"
    },
    {
     "data": {
      "application/vnd.jupyter.widget-view+json": {
       "model_id": "",
       "version_major": 2,
       "version_minor": 0
      },
      "text/plain": [
       "VBox(children=(Label(value='0.001 MB of 0.001 MB uploaded (0.000 MB deduped)\\r'), FloatProgress(value=1.0, max…"
      ]
     },
     "metadata": {},
     "output_type": "display_data"
    },
    {
     "data": {
      "text/html": [
       "<style>\n",
       "    table.wandb td:nth-child(1) { padding: 0 10px; text-align: left ; width: auto;} td:nth-child(2) {text-align: left ; width: 100%}\n",
       "    .wandb-row { display: flex; flex-direction: row; flex-wrap: wrap; justify-content: flex-start; width: 100% }\n",
       "    .wandb-col { display: flex; flex-direction: column; flex-basis: 100%; flex: 1; padding: 10px; }\n",
       "    </style>\n",
       "<div class=\"wandb-row\"><div class=\"wandb-col\"><h3>Run history:</h3><br/><table class=\"wandb\"><tr><td>f1_score</td><td>▁</td></tr></table><br/></div><div class=\"wandb-col\"><h3>Run summary:</h3><br/><table class=\"wandb\"><tr><td>f1_score</td><td>0.82768</td></tr></table><br/></div></div>"
      ],
      "text/plain": [
       "<IPython.core.display.HTML object>"
      ]
     },
     "metadata": {},
     "output_type": "display_data"
    },
    {
     "data": {
      "text/html": [
       "Synced <strong style=\"color:#cdcd00\">comic-sweep-5</strong>: <a href=\"https://wandb.ai/beomgon-yu/EllipseEnvelope%20Sweep/runs/842pf8fq\" target=\"_blank\">https://wandb.ai/beomgon-yu/EllipseEnvelope%20Sweep/runs/842pf8fq</a><br/>Synced 6 W&B file(s), 0 media file(s), 0 artifact file(s) and 0 other file(s)"
      ],
      "text/plain": [
       "<IPython.core.display.HTML object>"
      ]
     },
     "metadata": {},
     "output_type": "display_data"
    },
    {
     "data": {
      "text/html": [
       "Find logs at: <code>./wandb/run-20220803_215945-842pf8fq/logs</code>"
      ],
      "text/plain": [
       "<IPython.core.display.HTML object>"
      ]
     },
     "metadata": {},
     "output_type": "display_data"
    },
    {
     "name": "stderr",
     "output_type": "stream",
     "text": [
      "\u001b[34m\u001b[1mwandb\u001b[0m: Agent Starting Run: enrpj427 with config:\n",
      "\u001b[34m\u001b[1mwandb\u001b[0m: \tdenom: 4\n",
      "\u001b[34m\u001b[1mwandb\u001b[0m: \tseed: 19\n",
      "\u001b[34m\u001b[1mwandb\u001b[0m: \tsupport_fraction: 0.9905442664094508\n",
      "\u001b[34m\u001b[1mwandb\u001b[0m: \ttopk: 32\n",
      "\u001b[34m\u001b[1mwandb\u001b[0m: \tval_ratio: 0.0006280294157332209\n"
     ]
    },
    {
     "data": {
      "text/html": [
       "Tracking run with wandb version 0.12.21"
      ],
      "text/plain": [
       "<IPython.core.display.HTML object>"
      ]
     },
     "metadata": {},
     "output_type": "display_data"
    },
    {
     "data": {
      "text/html": [
       "Run data is saved locally in <code>/home/beomgon/dacon/fraud_detection/isolated_forest/wandb/run-20220803_220012-enrpj427</code>"
      ],
      "text/plain": [
       "<IPython.core.display.HTML object>"
      ]
     },
     "metadata": {},
     "output_type": "display_data"
    },
    {
     "data": {
      "text/html": [
       "Syncing run <strong><a href=\"https://wandb.ai/beomgon-yu/EllipseEnvelope%20Sweep/runs/enrpj427\" target=\"_blank\">comic-sweep-6</a></strong> to <a href=\"https://wandb.ai/beomgon-yu/EllipseEnvelope%20Sweep\" target=\"_blank\">Weights & Biases</a> (<a href=\"https://wandb.me/run\" target=\"_blank\">docs</a>)<br/>Sweep page:  <a href=\"https://wandb.ai/beomgon-yu/EllipseEnvelope%20Sweep/sweeps/aplf5edd\" target=\"_blank\">https://wandb.ai/beomgon-yu/EllipseEnvelope%20Sweep/sweeps/aplf5edd</a>"
      ],
      "text/plain": [
       "<IPython.core.display.HTML object>"
      ]
     },
     "metadata": {},
     "output_type": "display_data"
    },
    {
     "name": "stdout",
     "output_type": "stream",
     "text": [
      "comic-sweep-6\n",
      "              precision    recall  f1-score   support\n",
      "\n",
      "           0       1.00      1.00      1.00     28432\n",
      "           1       0.62      0.67      0.65        30\n",
      "\n",
      "    accuracy                           1.00     28462\n",
      "   macro avg       0.81      0.83      0.82     28462\n",
      "weighted avg       1.00      1.00      1.00     28462\n",
      "\n",
      "tensor(-5.4412e+08)\n",
      "tp :  20 , fp :  12 , tn :  28420 , fn :  10\n",
      "[   71  1047  1210  3197  4039  4917  9326 10880 12377 13706 14221 15306\n",
      " 17534 19226 20225 21892 24110 25504 26010 27905 27998 28146]\n"
     ]
    },
    {
     "data": {
      "text/html": [
       "Waiting for W&B process to finish... <strong style=\"color:green\">(success).</strong>"
      ],
      "text/plain": [
       "<IPython.core.display.HTML object>"
      ]
     },
     "metadata": {},
     "output_type": "display_data"
    },
    {
     "data": {
      "application/vnd.jupyter.widget-view+json": {
       "model_id": "",
       "version_major": 2,
       "version_minor": 0
      },
      "text/plain": [
       "VBox(children=(Label(value='0.001 MB of 0.001 MB uploaded (0.000 MB deduped)\\r'), FloatProgress(value=1.0, max…"
      ]
     },
     "metadata": {},
     "output_type": "display_data"
    },
    {
     "data": {
      "text/html": [
       "<style>\n",
       "    table.wandb td:nth-child(1) { padding: 0 10px; text-align: left ; width: auto;} td:nth-child(2) {text-align: left ; width: 100%}\n",
       "    .wandb-row { display: flex; flex-direction: row; flex-wrap: wrap; justify-content: flex-start; width: 100% }\n",
       "    .wandb-col { display: flex; flex-direction: column; flex-basis: 100%; flex: 1; padding: 10px; }\n",
       "    </style>\n",
       "<div class=\"wandb-row\"><div class=\"wandb-col\"><h3>Run history:</h3><br/><table class=\"wandb\"><tr><td>f1_score</td><td>▁</td></tr></table><br/></div><div class=\"wandb-col\"><h3>Run summary:</h3><br/><table class=\"wandb\"><tr><td>f1_score</td><td>0.82239</td></tr></table><br/></div></div>"
      ],
      "text/plain": [
       "<IPython.core.display.HTML object>"
      ]
     },
     "metadata": {},
     "output_type": "display_data"
    },
    {
     "data": {
      "text/html": [
       "Synced <strong style=\"color:#cdcd00\">comic-sweep-6</strong>: <a href=\"https://wandb.ai/beomgon-yu/EllipseEnvelope%20Sweep/runs/enrpj427\" target=\"_blank\">https://wandb.ai/beomgon-yu/EllipseEnvelope%20Sweep/runs/enrpj427</a><br/>Synced 6 W&B file(s), 0 media file(s), 0 artifact file(s) and 0 other file(s)"
      ],
      "text/plain": [
       "<IPython.core.display.HTML object>"
      ]
     },
     "metadata": {},
     "output_type": "display_data"
    },
    {
     "data": {
      "text/html": [
       "Find logs at: <code>./wandb/run-20220803_220012-enrpj427/logs</code>"
      ],
      "text/plain": [
       "<IPython.core.display.HTML object>"
      ]
     },
     "metadata": {},
     "output_type": "display_data"
    },
    {
     "name": "stderr",
     "output_type": "stream",
     "text": [
      "\u001b[34m\u001b[1mwandb\u001b[0m: Agent Starting Run: hlyl0fxf with config:\n",
      "\u001b[34m\u001b[1mwandb\u001b[0m: \tdenom: 2\n",
      "\u001b[34m\u001b[1mwandb\u001b[0m: \tseed: 0\n",
      "\u001b[34m\u001b[1mwandb\u001b[0m: \tsupport_fraction: 0.993215046664082\n",
      "\u001b[34m\u001b[1mwandb\u001b[0m: \ttopk: 31\n",
      "\u001b[34m\u001b[1mwandb\u001b[0m: \tval_ratio: 0.002214136300605513\n"
     ]
    },
    {
     "data": {
      "text/html": [
       "Tracking run with wandb version 0.12.21"
      ],
      "text/plain": [
       "<IPython.core.display.HTML object>"
      ]
     },
     "metadata": {},
     "output_type": "display_data"
    },
    {
     "data": {
      "text/html": [
       "Run data is saved locally in <code>/home/beomgon/dacon/fraud_detection/isolated_forest/wandb/run-20220803_220049-hlyl0fxf</code>"
      ],
      "text/plain": [
       "<IPython.core.display.HTML object>"
      ]
     },
     "metadata": {},
     "output_type": "display_data"
    },
    {
     "data": {
      "text/html": [
       "Syncing run <strong><a href=\"https://wandb.ai/beomgon-yu/EllipseEnvelope%20Sweep/runs/hlyl0fxf\" target=\"_blank\">peach-sweep-7</a></strong> to <a href=\"https://wandb.ai/beomgon-yu/EllipseEnvelope%20Sweep\" target=\"_blank\">Weights & Biases</a> (<a href=\"https://wandb.me/run\" target=\"_blank\">docs</a>)<br/>Sweep page:  <a href=\"https://wandb.ai/beomgon-yu/EllipseEnvelope%20Sweep/sweeps/aplf5edd\" target=\"_blank\">https://wandb.ai/beomgon-yu/EllipseEnvelope%20Sweep/sweeps/aplf5edd</a>"
      ],
      "text/plain": [
       "<IPython.core.display.HTML object>"
      ]
     },
     "metadata": {},
     "output_type": "display_data"
    },
    {
     "name": "stdout",
     "output_type": "stream",
     "text": [
      "peach-sweep-7\n",
      "              precision    recall  f1-score   support\n",
      "\n",
      "           0       1.00      1.00      1.00     28432\n",
      "           1       0.65      0.67      0.66        30\n",
      "\n",
      "    accuracy                           1.00     28462\n",
      "   macro avg       0.82      0.83      0.83     28462\n",
      "weighted avg       1.00      1.00      1.00     28462\n",
      "\n",
      "tensor(-4.7915e+08)\n",
      "tp :  20 , fp :  11 , tn :  28421 , fn :  10\n",
      "[   71  1047  1210  3197  4039  4917  9326 10880 12377 13706 14221 15306\n",
      " 17534 19226 20225 24110 25504 26010 27905 27998 28146]\n"
     ]
    },
    {
     "data": {
      "text/html": [
       "Waiting for W&B process to finish... <strong style=\"color:green\">(success).</strong>"
      ],
      "text/plain": [
       "<IPython.core.display.HTML object>"
      ]
     },
     "metadata": {},
     "output_type": "display_data"
    },
    {
     "data": {
      "application/vnd.jupyter.widget-view+json": {
       "model_id": "",
       "version_major": 2,
       "version_minor": 0
      },
      "text/plain": [
       "VBox(children=(Label(value='0.001 MB of 0.001 MB uploaded (0.000 MB deduped)\\r'), FloatProgress(value=1.0, max…"
      ]
     },
     "metadata": {},
     "output_type": "display_data"
    },
    {
     "data": {
      "text/html": [
       "<style>\n",
       "    table.wandb td:nth-child(1) { padding: 0 10px; text-align: left ; width: auto;} td:nth-child(2) {text-align: left ; width: 100%}\n",
       "    .wandb-row { display: flex; flex-direction: row; flex-wrap: wrap; justify-content: flex-start; width: 100% }\n",
       "    .wandb-col { display: flex; flex-direction: column; flex-basis: 100%; flex: 1; padding: 10px; }\n",
       "    </style>\n",
       "<div class=\"wandb-row\"><div class=\"wandb-col\"><h3>Run history:</h3><br/><table class=\"wandb\"><tr><td>f1_score</td><td>▁</td></tr></table><br/></div><div class=\"wandb-col\"><h3>Run summary:</h3><br/><table class=\"wandb\"><tr><td>f1_score</td><td>0.82768</td></tr></table><br/></div></div>"
      ],
      "text/plain": [
       "<IPython.core.display.HTML object>"
      ]
     },
     "metadata": {},
     "output_type": "display_data"
    },
    {
     "data": {
      "text/html": [
       "Synced <strong style=\"color:#cdcd00\">peach-sweep-7</strong>: <a href=\"https://wandb.ai/beomgon-yu/EllipseEnvelope%20Sweep/runs/hlyl0fxf\" target=\"_blank\">https://wandb.ai/beomgon-yu/EllipseEnvelope%20Sweep/runs/hlyl0fxf</a><br/>Synced 6 W&B file(s), 0 media file(s), 0 artifact file(s) and 0 other file(s)"
      ],
      "text/plain": [
       "<IPython.core.display.HTML object>"
      ]
     },
     "metadata": {},
     "output_type": "display_data"
    },
    {
     "data": {
      "text/html": [
       "Find logs at: <code>./wandb/run-20220803_220049-hlyl0fxf/logs</code>"
      ],
      "text/plain": [
       "<IPython.core.display.HTML object>"
      ]
     },
     "metadata": {},
     "output_type": "display_data"
    },
    {
     "name": "stderr",
     "output_type": "stream",
     "text": [
      "\u001b[34m\u001b[1mwandb\u001b[0m: Sweep Agent: Waiting for job.\n",
      "\u001b[34m\u001b[1mwandb\u001b[0m: Job received.\n",
      "\u001b[34m\u001b[1mwandb\u001b[0m: Agent Starting Run: 6l3dowzz with config:\n",
      "\u001b[34m\u001b[1mwandb\u001b[0m: \tdenom: 5\n",
      "\u001b[34m\u001b[1mwandb\u001b[0m: \tseed: 14\n",
      "\u001b[34m\u001b[1mwandb\u001b[0m: \tsupport_fraction: 0.9928283444493836\n",
      "\u001b[34m\u001b[1mwandb\u001b[0m: \ttopk: 29\n",
      "\u001b[34m\u001b[1mwandb\u001b[0m: \tval_ratio: 0.0009829863553392532\n"
     ]
    },
    {
     "data": {
      "text/html": [
       "Tracking run with wandb version 0.12.21"
      ],
      "text/plain": [
       "<IPython.core.display.HTML object>"
      ]
     },
     "metadata": {},
     "output_type": "display_data"
    },
    {
     "data": {
      "text/html": [
       "Run data is saved locally in <code>/home/beomgon/dacon/fraud_detection/isolated_forest/wandb/run-20220803_220224-6l3dowzz</code>"
      ],
      "text/plain": [
       "<IPython.core.display.HTML object>"
      ]
     },
     "metadata": {},
     "output_type": "display_data"
    },
    {
     "data": {
      "text/html": [
       "Syncing run <strong><a href=\"https://wandb.ai/beomgon-yu/EllipseEnvelope%20Sweep/runs/6l3dowzz\" target=\"_blank\">icy-sweep-8</a></strong> to <a href=\"https://wandb.ai/beomgon-yu/EllipseEnvelope%20Sweep\" target=\"_blank\">Weights & Biases</a> (<a href=\"https://wandb.me/run\" target=\"_blank\">docs</a>)<br/>Sweep page:  <a href=\"https://wandb.ai/beomgon-yu/EllipseEnvelope%20Sweep/sweeps/aplf5edd\" target=\"_blank\">https://wandb.ai/beomgon-yu/EllipseEnvelope%20Sweep/sweeps/aplf5edd</a>"
      ],
      "text/plain": [
       "<IPython.core.display.HTML object>"
      ]
     },
     "metadata": {},
     "output_type": "display_data"
    },
    {
     "name": "stdout",
     "output_type": "stream",
     "text": [
      "icy-sweep-8\n",
      "              precision    recall  f1-score   support\n",
      "\n",
      "           0       1.00      1.00      1.00     28432\n",
      "           1       0.86      0.83      0.85        30\n",
      "\n",
      "    accuracy                           1.00     28462\n",
      "   macro avg       0.93      0.92      0.92     28462\n",
      "weighted avg       1.00      1.00      1.00     28462\n",
      "\n",
      "tensor(-3553285.5000)\n",
      "tp :  25 , fp :  4 , tn :  28428 , fn :  5\n",
      "[   71  1047  1210  4039  7000  9326 14221 15306 28146]\n"
     ]
    },
    {
     "data": {
      "text/html": [
       "Waiting for W&B process to finish... <strong style=\"color:green\">(success).</strong>"
      ],
      "text/plain": [
       "<IPython.core.display.HTML object>"
      ]
     },
     "metadata": {},
     "output_type": "display_data"
    },
    {
     "data": {
      "application/vnd.jupyter.widget-view+json": {
       "model_id": "",
       "version_major": 2,
       "version_minor": 0
      },
      "text/plain": [
       "VBox(children=(Label(value='0.001 MB of 0.001 MB uploaded (0.000 MB deduped)\\r'), FloatProgress(value=1.0, max…"
      ]
     },
     "metadata": {},
     "output_type": "display_data"
    },
    {
     "data": {
      "text/html": [
       "<style>\n",
       "    table.wandb td:nth-child(1) { padding: 0 10px; text-align: left ; width: auto;} td:nth-child(2) {text-align: left ; width: 100%}\n",
       "    .wandb-row { display: flex; flex-direction: row; flex-wrap: wrap; justify-content: flex-start; width: 100% }\n",
       "    .wandb-col { display: flex; flex-direction: column; flex-basis: 100%; flex: 1; padding: 10px; }\n",
       "    </style>\n",
       "<div class=\"wandb-row\"><div class=\"wandb-col\"><h3>Run history:</h3><br/><table class=\"wandb\"><tr><td>f1_score</td><td>▁</td></tr></table><br/></div><div class=\"wandb-col\"><h3>Run summary:</h3><br/><table class=\"wandb\"><tr><td>f1_score</td><td>0.92365</td></tr></table><br/></div></div>"
      ],
      "text/plain": [
       "<IPython.core.display.HTML object>"
      ]
     },
     "metadata": {},
     "output_type": "display_data"
    },
    {
     "data": {
      "text/html": [
       "Synced <strong style=\"color:#cdcd00\">icy-sweep-8</strong>: <a href=\"https://wandb.ai/beomgon-yu/EllipseEnvelope%20Sweep/runs/6l3dowzz\" target=\"_blank\">https://wandb.ai/beomgon-yu/EllipseEnvelope%20Sweep/runs/6l3dowzz</a><br/>Synced 6 W&B file(s), 0 media file(s), 0 artifact file(s) and 0 other file(s)"
      ],
      "text/plain": [
       "<IPython.core.display.HTML object>"
      ]
     },
     "metadata": {},
     "output_type": "display_data"
    },
    {
     "data": {
      "text/html": [
       "Find logs at: <code>./wandb/run-20220803_220224-6l3dowzz/logs</code>"
      ],
      "text/plain": [
       "<IPython.core.display.HTML object>"
      ]
     },
     "metadata": {},
     "output_type": "display_data"
    },
    {
     "name": "stderr",
     "output_type": "stream",
     "text": [
      "\u001b[34m\u001b[1mwandb\u001b[0m: Agent Starting Run: vquemxgj with config:\n",
      "\u001b[34m\u001b[1mwandb\u001b[0m: \tdenom: 5\n",
      "\u001b[34m\u001b[1mwandb\u001b[0m: \tseed: 10\n",
      "\u001b[34m\u001b[1mwandb\u001b[0m: \tsupport_fraction: 0.9949982329219128\n",
      "\u001b[34m\u001b[1mwandb\u001b[0m: \ttopk: 31\n",
      "\u001b[34m\u001b[1mwandb\u001b[0m: \tval_ratio: 0.000531835824977183\n"
     ]
    },
    {
     "data": {
      "text/html": [
       "Tracking run with wandb version 0.12.21"
      ],
      "text/plain": [
       "<IPython.core.display.HTML object>"
      ]
     },
     "metadata": {},
     "output_type": "display_data"
    },
    {
     "data": {
      "text/html": [
       "Run data is saved locally in <code>/home/beomgon/dacon/fraud_detection/isolated_forest/wandb/run-20220803_220251-vquemxgj</code>"
      ],
      "text/plain": [
       "<IPython.core.display.HTML object>"
      ]
     },
     "metadata": {},
     "output_type": "display_data"
    },
    {
     "data": {
      "text/html": [
       "Syncing run <strong><a href=\"https://wandb.ai/beomgon-yu/EllipseEnvelope%20Sweep/runs/vquemxgj\" target=\"_blank\">exalted-sweep-9</a></strong> to <a href=\"https://wandb.ai/beomgon-yu/EllipseEnvelope%20Sweep\" target=\"_blank\">Weights & Biases</a> (<a href=\"https://wandb.me/run\" target=\"_blank\">docs</a>)<br/>Sweep page:  <a href=\"https://wandb.ai/beomgon-yu/EllipseEnvelope%20Sweep/sweeps/aplf5edd\" target=\"_blank\">https://wandb.ai/beomgon-yu/EllipseEnvelope%20Sweep/sweeps/aplf5edd</a>"
      ],
      "text/plain": [
       "<IPython.core.display.HTML object>"
      ]
     },
     "metadata": {},
     "output_type": "display_data"
    },
    {
     "name": "stdout",
     "output_type": "stream",
     "text": [
      "exalted-sweep-9\n",
      "              precision    recall  f1-score   support\n",
      "\n",
      "           0       1.00      1.00      1.00     28432\n",
      "           1       0.81      0.83      0.82        30\n",
      "\n",
      "    accuracy                           1.00     28462\n",
      "   macro avg       0.90      0.92      0.91     28462\n",
      "weighted avg       1.00      1.00      1.00     28462\n",
      "\n",
      "tensor(-359485.5625)\n",
      "tp :  25 , fp :  6 , tn :  28426 , fn :  5\n",
      "[   71  1047  1210  4039  4917  7000  9326 14221 15306 19113 28146]\n"
     ]
    },
    {
     "data": {
      "text/html": [
       "Waiting for W&B process to finish... <strong style=\"color:green\">(success).</strong>"
      ],
      "text/plain": [
       "<IPython.core.display.HTML object>"
      ]
     },
     "metadata": {},
     "output_type": "display_data"
    },
    {
     "data": {
      "application/vnd.jupyter.widget-view+json": {
       "model_id": "",
       "version_major": 2,
       "version_minor": 0
      },
      "text/plain": [
       "VBox(children=(Label(value='0.001 MB of 0.001 MB uploaded (0.000 MB deduped)\\r'), FloatProgress(value=1.0, max…"
      ]
     },
     "metadata": {},
     "output_type": "display_data"
    },
    {
     "data": {
      "text/html": [
       "<style>\n",
       "    table.wandb td:nth-child(1) { padding: 0 10px; text-align: left ; width: auto;} td:nth-child(2) {text-align: left ; width: 100%}\n",
       "    .wandb-row { display: flex; flex-direction: row; flex-wrap: wrap; justify-content: flex-start; width: 100% }\n",
       "    .wandb-col { display: flex; flex-direction: column; flex-basis: 100%; flex: 1; padding: 10px; }\n",
       "    </style>\n",
       "<div class=\"wandb-row\"><div class=\"wandb-col\"><h3>Run history:</h3><br/><table class=\"wandb\"><tr><td>f1_score</td><td>▁</td></tr></table><br/></div><div class=\"wandb-col\"><h3>Run summary:</h3><br/><table class=\"wandb\"><tr><td>f1_score</td><td>0.90974</td></tr></table><br/></div></div>"
      ],
      "text/plain": [
       "<IPython.core.display.HTML object>"
      ]
     },
     "metadata": {},
     "output_type": "display_data"
    },
    {
     "data": {
      "text/html": [
       "Synced <strong style=\"color:#cdcd00\">exalted-sweep-9</strong>: <a href=\"https://wandb.ai/beomgon-yu/EllipseEnvelope%20Sweep/runs/vquemxgj\" target=\"_blank\">https://wandb.ai/beomgon-yu/EllipseEnvelope%20Sweep/runs/vquemxgj</a><br/>Synced 6 W&B file(s), 0 media file(s), 0 artifact file(s) and 0 other file(s)"
      ],
      "text/plain": [
       "<IPython.core.display.HTML object>"
      ]
     },
     "metadata": {},
     "output_type": "display_data"
    },
    {
     "data": {
      "text/html": [
       "Find logs at: <code>./wandb/run-20220803_220251-vquemxgj/logs</code>"
      ],
      "text/plain": [
       "<IPython.core.display.HTML object>"
      ]
     },
     "metadata": {},
     "output_type": "display_data"
    },
    {
     "name": "stderr",
     "output_type": "stream",
     "text": [
      "\u001b[34m\u001b[1mwandb\u001b[0m: Agent Starting Run: b1tjm7gf with config:\n",
      "\u001b[34m\u001b[1mwandb\u001b[0m: \tdenom: 6\n",
      "\u001b[34m\u001b[1mwandb\u001b[0m: \tseed: 7\n",
      "\u001b[34m\u001b[1mwandb\u001b[0m: \tsupport_fraction: 0.9940514039419256\n",
      "\u001b[34m\u001b[1mwandb\u001b[0m: \ttopk: 28\n",
      "\u001b[34m\u001b[1mwandb\u001b[0m: \tval_ratio: 0.002905903004059433\n"
     ]
    },
    {
     "data": {
      "text/html": [
       "Tracking run with wandb version 0.12.21"
      ],
      "text/plain": [
       "<IPython.core.display.HTML object>"
      ]
     },
     "metadata": {},
     "output_type": "display_data"
    },
    {
     "data": {
      "text/html": [
       "Run data is saved locally in <code>/home/beomgon/dacon/fraud_detection/isolated_forest/wandb/run-20220803_220340-b1tjm7gf</code>"
      ],
      "text/plain": [
       "<IPython.core.display.HTML object>"
      ]
     },
     "metadata": {},
     "output_type": "display_data"
    },
    {
     "data": {
      "text/html": [
       "Syncing run <strong><a href=\"https://wandb.ai/beomgon-yu/EllipseEnvelope%20Sweep/runs/b1tjm7gf\" target=\"_blank\">firm-sweep-10</a></strong> to <a href=\"https://wandb.ai/beomgon-yu/EllipseEnvelope%20Sweep\" target=\"_blank\">Weights & Biases</a> (<a href=\"https://wandb.me/run\" target=\"_blank\">docs</a>)<br/>Sweep page:  <a href=\"https://wandb.ai/beomgon-yu/EllipseEnvelope%20Sweep/sweeps/aplf5edd\" target=\"_blank\">https://wandb.ai/beomgon-yu/EllipseEnvelope%20Sweep/sweeps/aplf5edd</a>"
      ],
      "text/plain": [
       "<IPython.core.display.HTML object>"
      ]
     },
     "metadata": {},
     "output_type": "display_data"
    },
    {
     "name": "stdout",
     "output_type": "stream",
     "text": [
      "firm-sweep-10\n",
      "              precision    recall  f1-score   support\n",
      "\n",
      "           0       1.00      1.00      1.00     28432\n",
      "           1       0.86      0.80      0.83        30\n",
      "\n",
      "    accuracy                           1.00     28462\n",
      "   macro avg       0.93      0.90      0.91     28462\n",
      "weighted avg       1.00      1.00      1.00     28462\n",
      "\n",
      "tensor(-4903978.5000)\n",
      "tp :  24 , fp :  4 , tn :  28428 , fn :  6\n",
      "[   71  1047  1210  4039  7000  9326 14221 15306 24110 28146]\n"
     ]
    },
    {
     "data": {
      "text/html": [
       "Waiting for W&B process to finish... <strong style=\"color:green\">(success).</strong>"
      ],
      "text/plain": [
       "<IPython.core.display.HTML object>"
      ]
     },
     "metadata": {},
     "output_type": "display_data"
    },
    {
     "data": {
      "application/vnd.jupyter.widget-view+json": {
       "model_id": "",
       "version_major": 2,
       "version_minor": 0
      },
      "text/plain": [
       "VBox(children=(Label(value='0.001 MB of 0.001 MB uploaded (0.000 MB deduped)\\r'), FloatProgress(value=1.0, max…"
      ]
     },
     "metadata": {},
     "output_type": "display_data"
    },
    {
     "data": {
      "text/html": [
       "<style>\n",
       "    table.wandb td:nth-child(1) { padding: 0 10px; text-align: left ; width: auto;} td:nth-child(2) {text-align: left ; width: 100%}\n",
       "    .wandb-row { display: flex; flex-direction: row; flex-wrap: wrap; justify-content: flex-start; width: 100% }\n",
       "    .wandb-col { display: flex; flex-direction: column; flex-basis: 100%; flex: 1; padding: 10px; }\n",
       "    </style>\n",
       "<div class=\"wandb-row\"><div class=\"wandb-col\"><h3>Run history:</h3><br/><table class=\"wandb\"><tr><td>f1_score</td><td>▁</td></tr></table><br/></div><div class=\"wandb-col\"><h3>Run summary:</h3><br/><table class=\"wandb\"><tr><td>f1_score</td><td>0.91371</td></tr></table><br/></div></div>"
      ],
      "text/plain": [
       "<IPython.core.display.HTML object>"
      ]
     },
     "metadata": {},
     "output_type": "display_data"
    },
    {
     "data": {
      "text/html": [
       "Synced <strong style=\"color:#cdcd00\">firm-sweep-10</strong>: <a href=\"https://wandb.ai/beomgon-yu/EllipseEnvelope%20Sweep/runs/b1tjm7gf\" target=\"_blank\">https://wandb.ai/beomgon-yu/EllipseEnvelope%20Sweep/runs/b1tjm7gf</a><br/>Synced 6 W&B file(s), 0 media file(s), 0 artifact file(s) and 0 other file(s)"
      ],
      "text/plain": [
       "<IPython.core.display.HTML object>"
      ]
     },
     "metadata": {},
     "output_type": "display_data"
    },
    {
     "data": {
      "text/html": [
       "Find logs at: <code>./wandb/run-20220803_220340-b1tjm7gf/logs</code>"
      ],
      "text/plain": [
       "<IPython.core.display.HTML object>"
      ]
     },
     "metadata": {},
     "output_type": "display_data"
    },
    {
     "name": "stderr",
     "output_type": "stream",
     "text": [
      "\u001b[34m\u001b[1mwandb\u001b[0m: Agent Starting Run: yh4rxgov with config:\n",
      "\u001b[34m\u001b[1mwandb\u001b[0m: \tdenom: 6\n",
      "\u001b[34m\u001b[1mwandb\u001b[0m: \tseed: 19\n",
      "\u001b[34m\u001b[1mwandb\u001b[0m: \tsupport_fraction: 0.9968564590482146\n",
      "\u001b[34m\u001b[1mwandb\u001b[0m: \ttopk: 31\n",
      "\u001b[34m\u001b[1mwandb\u001b[0m: \tval_ratio: 0.0013545610277499326\n"
     ]
    },
    {
     "data": {
      "text/html": [
       "Tracking run with wandb version 0.12.21"
      ],
      "text/plain": [
       "<IPython.core.display.HTML object>"
      ]
     },
     "metadata": {},
     "output_type": "display_data"
    },
    {
     "data": {
      "text/html": [
       "Run data is saved locally in <code>/home/beomgon/dacon/fraud_detection/isolated_forest/wandb/run-20220803_220407-yh4rxgov</code>"
      ],
      "text/plain": [
       "<IPython.core.display.HTML object>"
      ]
     },
     "metadata": {},
     "output_type": "display_data"
    },
    {
     "data": {
      "text/html": [
       "Syncing run <strong><a href=\"https://wandb.ai/beomgon-yu/EllipseEnvelope%20Sweep/runs/yh4rxgov\" target=\"_blank\">rich-sweep-11</a></strong> to <a href=\"https://wandb.ai/beomgon-yu/EllipseEnvelope%20Sweep\" target=\"_blank\">Weights & Biases</a> (<a href=\"https://wandb.me/run\" target=\"_blank\">docs</a>)<br/>Sweep page:  <a href=\"https://wandb.ai/beomgon-yu/EllipseEnvelope%20Sweep/sweeps/aplf5edd\" target=\"_blank\">https://wandb.ai/beomgon-yu/EllipseEnvelope%20Sweep/sweeps/aplf5edd</a>"
      ],
      "text/plain": [
       "<IPython.core.display.HTML object>"
      ]
     },
     "metadata": {},
     "output_type": "display_data"
    },
    {
     "name": "stdout",
     "output_type": "stream",
     "text": [
      "rich-sweep-11\n",
      "              precision    recall  f1-score   support\n",
      "\n",
      "           0       1.00      1.00      1.00     28432\n",
      "           1       0.81      0.83      0.82        30\n",
      "\n",
      "    accuracy                           1.00     28462\n",
      "   macro avg       0.90      0.92      0.91     28462\n",
      "weighted avg       1.00      1.00      1.00     28462\n",
      "\n",
      "tensor(-230100.8125)\n",
      "tp :  25 , fp :  6 , tn :  28426 , fn :  5\n",
      "[   71  1047  1210  4039  7000  9326 14221 15306 19113 21318 28146]\n"
     ]
    },
    {
     "data": {
      "text/html": [
       "Waiting for W&B process to finish... <strong style=\"color:green\">(success).</strong>"
      ],
      "text/plain": [
       "<IPython.core.display.HTML object>"
      ]
     },
     "metadata": {},
     "output_type": "display_data"
    },
    {
     "data": {
      "application/vnd.jupyter.widget-view+json": {
       "model_id": "",
       "version_major": 2,
       "version_minor": 0
      },
      "text/plain": [
       "VBox(children=(Label(value='0.001 MB of 0.001 MB uploaded (0.000 MB deduped)\\r'), FloatProgress(value=1.0, max…"
      ]
     },
     "metadata": {},
     "output_type": "display_data"
    },
    {
     "data": {
      "text/html": [
       "<style>\n",
       "    table.wandb td:nth-child(1) { padding: 0 10px; text-align: left ; width: auto;} td:nth-child(2) {text-align: left ; width: 100%}\n",
       "    .wandb-row { display: flex; flex-direction: row; flex-wrap: wrap; justify-content: flex-start; width: 100% }\n",
       "    .wandb-col { display: flex; flex-direction: column; flex-basis: 100%; flex: 1; padding: 10px; }\n",
       "    </style>\n",
       "<div class=\"wandb-row\"><div class=\"wandb-col\"><h3>Run history:</h3><br/><table class=\"wandb\"><tr><td>f1_score</td><td>▁</td></tr></table><br/></div><div class=\"wandb-col\"><h3>Run summary:</h3><br/><table class=\"wandb\"><tr><td>f1_score</td><td>0.90974</td></tr></table><br/></div></div>"
      ],
      "text/plain": [
       "<IPython.core.display.HTML object>"
      ]
     },
     "metadata": {},
     "output_type": "display_data"
    },
    {
     "data": {
      "text/html": [
       "Synced <strong style=\"color:#cdcd00\">rich-sweep-11</strong>: <a href=\"https://wandb.ai/beomgon-yu/EllipseEnvelope%20Sweep/runs/yh4rxgov\" target=\"_blank\">https://wandb.ai/beomgon-yu/EllipseEnvelope%20Sweep/runs/yh4rxgov</a><br/>Synced 6 W&B file(s), 0 media file(s), 0 artifact file(s) and 0 other file(s)"
      ],
      "text/plain": [
       "<IPython.core.display.HTML object>"
      ]
     },
     "metadata": {},
     "output_type": "display_data"
    },
    {
     "data": {
      "text/html": [
       "Find logs at: <code>./wandb/run-20220803_220407-yh4rxgov/logs</code>"
      ],
      "text/plain": [
       "<IPython.core.display.HTML object>"
      ]
     },
     "metadata": {},
     "output_type": "display_data"
    },
    {
     "name": "stderr",
     "output_type": "stream",
     "text": [
      "\u001b[34m\u001b[1mwandb\u001b[0m: Agent Starting Run: 20b174x0 with config:\n",
      "\u001b[34m\u001b[1mwandb\u001b[0m: \tdenom: 2\n",
      "\u001b[34m\u001b[1mwandb\u001b[0m: \tseed: 15\n",
      "\u001b[34m\u001b[1mwandb\u001b[0m: \tsupport_fraction: 0.9958442844399756\n",
      "\u001b[34m\u001b[1mwandb\u001b[0m: \ttopk: 29\n",
      "\u001b[34m\u001b[1mwandb\u001b[0m: \tval_ratio: 0.0012306276747549307\n"
     ]
    },
    {
     "data": {
      "text/html": [
       "Tracking run with wandb version 0.12.21"
      ],
      "text/plain": [
       "<IPython.core.display.HTML object>"
      ]
     },
     "metadata": {},
     "output_type": "display_data"
    },
    {
     "data": {
      "text/html": [
       "Run data is saved locally in <code>/home/beomgon/dacon/fraud_detection/isolated_forest/wandb/run-20220803_220433-20b174x0</code>"
      ],
      "text/plain": [
       "<IPython.core.display.HTML object>"
      ]
     },
     "metadata": {},
     "output_type": "display_data"
    },
    {
     "data": {
      "text/html": [
       "Syncing run <strong><a href=\"https://wandb.ai/beomgon-yu/EllipseEnvelope%20Sweep/runs/20b174x0\" target=\"_blank\">serene-sweep-12</a></strong> to <a href=\"https://wandb.ai/beomgon-yu/EllipseEnvelope%20Sweep\" target=\"_blank\">Weights & Biases</a> (<a href=\"https://wandb.me/run\" target=\"_blank\">docs</a>)<br/>Sweep page:  <a href=\"https://wandb.ai/beomgon-yu/EllipseEnvelope%20Sweep/sweeps/aplf5edd\" target=\"_blank\">https://wandb.ai/beomgon-yu/EllipseEnvelope%20Sweep/sweeps/aplf5edd</a>"
      ],
      "text/plain": [
       "<IPython.core.display.HTML object>"
      ]
     },
     "metadata": {},
     "output_type": "display_data"
    },
    {
     "name": "stdout",
     "output_type": "stream",
     "text": [
      "serene-sweep-12\n",
      "              precision    recall  f1-score   support\n",
      "\n",
      "           0       1.00      1.00      1.00     28432\n",
      "           1       0.86      0.83      0.85        30\n",
      "\n",
      "    accuracy                           1.00     28462\n",
      "   macro avg       0.93      0.92      0.92     28462\n",
      "weighted avg       1.00      1.00      1.00     28462\n",
      "\n",
      "tensor(-3455145.)\n",
      "tp :  25 , fp :  4 , tn :  28428 , fn :  5\n",
      "[   71  1047  1210  4039  7000  9326 14221 15306 28146]\n"
     ]
    },
    {
     "data": {
      "text/html": [
       "Waiting for W&B process to finish... <strong style=\"color:green\">(success).</strong>"
      ],
      "text/plain": [
       "<IPython.core.display.HTML object>"
      ]
     },
     "metadata": {},
     "output_type": "display_data"
    },
    {
     "data": {
      "application/vnd.jupyter.widget-view+json": {
       "model_id": "",
       "version_major": 2,
       "version_minor": 0
      },
      "text/plain": [
       "VBox(children=(Label(value='0.001 MB of 0.001 MB uploaded (0.000 MB deduped)\\r'), FloatProgress(value=1.0, max…"
      ]
     },
     "metadata": {},
     "output_type": "display_data"
    },
    {
     "data": {
      "text/html": [
       "<style>\n",
       "    table.wandb td:nth-child(1) { padding: 0 10px; text-align: left ; width: auto;} td:nth-child(2) {text-align: left ; width: 100%}\n",
       "    .wandb-row { display: flex; flex-direction: row; flex-wrap: wrap; justify-content: flex-start; width: 100% }\n",
       "    .wandb-col { display: flex; flex-direction: column; flex-basis: 100%; flex: 1; padding: 10px; }\n",
       "    </style>\n",
       "<div class=\"wandb-row\"><div class=\"wandb-col\"><h3>Run history:</h3><br/><table class=\"wandb\"><tr><td>f1_score</td><td>▁</td></tr></table><br/></div><div class=\"wandb-col\"><h3>Run summary:</h3><br/><table class=\"wandb\"><tr><td>f1_score</td><td>0.92365</td></tr></table><br/></div></div>"
      ],
      "text/plain": [
       "<IPython.core.display.HTML object>"
      ]
     },
     "metadata": {},
     "output_type": "display_data"
    },
    {
     "data": {
      "text/html": [
       "Synced <strong style=\"color:#cdcd00\">serene-sweep-12</strong>: <a href=\"https://wandb.ai/beomgon-yu/EllipseEnvelope%20Sweep/runs/20b174x0\" target=\"_blank\">https://wandb.ai/beomgon-yu/EllipseEnvelope%20Sweep/runs/20b174x0</a><br/>Synced 6 W&B file(s), 0 media file(s), 0 artifact file(s) and 0 other file(s)"
      ],
      "text/plain": [
       "<IPython.core.display.HTML object>"
      ]
     },
     "metadata": {},
     "output_type": "display_data"
    },
    {
     "data": {
      "text/html": [
       "Find logs at: <code>./wandb/run-20220803_220433-20b174x0/logs</code>"
      ],
      "text/plain": [
       "<IPython.core.display.HTML object>"
      ]
     },
     "metadata": {},
     "output_type": "display_data"
    },
    {
     "name": "stderr",
     "output_type": "stream",
     "text": [
      "\u001b[34m\u001b[1mwandb\u001b[0m: Agent Starting Run: w4r7ct2u with config:\n",
      "\u001b[34m\u001b[1mwandb\u001b[0m: \tdenom: 2\n",
      "\u001b[34m\u001b[1mwandb\u001b[0m: \tseed: 11\n",
      "\u001b[34m\u001b[1mwandb\u001b[0m: \tsupport_fraction: 0.9937079657282778\n",
      "\u001b[34m\u001b[1mwandb\u001b[0m: \ttopk: 32\n",
      "\u001b[34m\u001b[1mwandb\u001b[0m: \tval_ratio: 0.0016222483337669418\n"
     ]
    },
    {
     "data": {
      "text/html": [
       "Tracking run with wandb version 0.12.21"
      ],
      "text/plain": [
       "<IPython.core.display.HTML object>"
      ]
     },
     "metadata": {},
     "output_type": "display_data"
    },
    {
     "data": {
      "text/html": [
       "Run data is saved locally in <code>/home/beomgon/dacon/fraud_detection/isolated_forest/wandb/run-20220803_220521-w4r7ct2u</code>"
      ],
      "text/plain": [
       "<IPython.core.display.HTML object>"
      ]
     },
     "metadata": {},
     "output_type": "display_data"
    },
    {
     "data": {
      "text/html": [
       "Syncing run <strong><a href=\"https://wandb.ai/beomgon-yu/EllipseEnvelope%20Sweep/runs/w4r7ct2u\" target=\"_blank\">sparkling-sweep-13</a></strong> to <a href=\"https://wandb.ai/beomgon-yu/EllipseEnvelope%20Sweep\" target=\"_blank\">Weights & Biases</a> (<a href=\"https://wandb.me/run\" target=\"_blank\">docs</a>)<br/>Sweep page:  <a href=\"https://wandb.ai/beomgon-yu/EllipseEnvelope%20Sweep/sweeps/aplf5edd\" target=\"_blank\">https://wandb.ai/beomgon-yu/EllipseEnvelope%20Sweep/sweeps/aplf5edd</a>"
      ],
      "text/plain": [
       "<IPython.core.display.HTML object>"
      ]
     },
     "metadata": {},
     "output_type": "display_data"
    },
    {
     "name": "stdout",
     "output_type": "stream",
     "text": [
      "sparkling-sweep-13\n",
      "              precision    recall  f1-score   support\n",
      "\n",
      "           0       1.00      1.00      1.00     28432\n",
      "           1       0.78      0.83      0.81        30\n",
      "\n",
      "    accuracy                           1.00     28462\n",
      "   macro avg       0.89      0.92      0.90     28462\n",
      "weighted avg       1.00      1.00      1.00     28462\n",
      "\n",
      "tensor(-256941.3906)\n",
      "tp :  25 , fp :  7 , tn :  28425 , fn :  5\n",
      "[   71  1047  1210  4039  4917  7000  9326 14221 15306 19113 21318 28146]\n"
     ]
    },
    {
     "data": {
      "text/html": [
       "Waiting for W&B process to finish... <strong style=\"color:green\">(success).</strong>"
      ],
      "text/plain": [
       "<IPython.core.display.HTML object>"
      ]
     },
     "metadata": {},
     "output_type": "display_data"
    },
    {
     "data": {
      "application/vnd.jupyter.widget-view+json": {
       "model_id": "",
       "version_major": 2,
       "version_minor": 0
      },
      "text/plain": [
       "VBox(children=(Label(value='0.001 MB of 0.001 MB uploaded (0.000 MB deduped)\\r'), FloatProgress(value=1.0, max…"
      ]
     },
     "metadata": {},
     "output_type": "display_data"
    },
    {
     "data": {
      "text/html": [
       "<style>\n",
       "    table.wandb td:nth-child(1) { padding: 0 10px; text-align: left ; width: auto;} td:nth-child(2) {text-align: left ; width: 100%}\n",
       "    .wandb-row { display: flex; flex-direction: row; flex-wrap: wrap; justify-content: flex-start; width: 100% }\n",
       "    .wandb-col { display: flex; flex-direction: column; flex-basis: 100%; flex: 1; padding: 10px; }\n",
       "    </style>\n",
       "<div class=\"wandb-row\"><div class=\"wandb-col\"><h3>Run history:</h3><br/><table class=\"wandb\"><tr><td>f1_score</td><td>▁</td></tr></table><br/></div><div class=\"wandb-col\"><h3>Run summary:</h3><br/><table class=\"wandb\"><tr><td>f1_score</td><td>0.90312</td></tr></table><br/></div></div>"
      ],
      "text/plain": [
       "<IPython.core.display.HTML object>"
      ]
     },
     "metadata": {},
     "output_type": "display_data"
    },
    {
     "data": {
      "text/html": [
       "Synced <strong style=\"color:#cdcd00\">sparkling-sweep-13</strong>: <a href=\"https://wandb.ai/beomgon-yu/EllipseEnvelope%20Sweep/runs/w4r7ct2u\" target=\"_blank\">https://wandb.ai/beomgon-yu/EllipseEnvelope%20Sweep/runs/w4r7ct2u</a><br/>Synced 6 W&B file(s), 0 media file(s), 0 artifact file(s) and 0 other file(s)"
      ],
      "text/plain": [
       "<IPython.core.display.HTML object>"
      ]
     },
     "metadata": {},
     "output_type": "display_data"
    },
    {
     "data": {
      "text/html": [
       "Find logs at: <code>./wandb/run-20220803_220521-w4r7ct2u/logs</code>"
      ],
      "text/plain": [
       "<IPython.core.display.HTML object>"
      ]
     },
     "metadata": {},
     "output_type": "display_data"
    },
    {
     "name": "stderr",
     "output_type": "stream",
     "text": [
      "\u001b[34m\u001b[1mwandb\u001b[0m: Agent Starting Run: k8z13xsw with config:\n",
      "\u001b[34m\u001b[1mwandb\u001b[0m: \tdenom: 5\n",
      "\u001b[34m\u001b[1mwandb\u001b[0m: \tseed: 30\n",
      "\u001b[34m\u001b[1mwandb\u001b[0m: \tsupport_fraction: 0.9980600417791208\n",
      "\u001b[34m\u001b[1mwandb\u001b[0m: \ttopk: 29\n",
      "\u001b[34m\u001b[1mwandb\u001b[0m: \tval_ratio: 0.001287504923908067\n"
     ]
    },
    {
     "data": {
      "text/html": [
       "Tracking run with wandb version 0.12.21"
      ],
      "text/plain": [
       "<IPython.core.display.HTML object>"
      ]
     },
     "metadata": {},
     "output_type": "display_data"
    },
    {
     "data": {
      "text/html": [
       "Run data is saved locally in <code>/home/beomgon/dacon/fraud_detection/isolated_forest/wandb/run-20220803_220608-k8z13xsw</code>"
      ],
      "text/plain": [
       "<IPython.core.display.HTML object>"
      ]
     },
     "metadata": {},
     "output_type": "display_data"
    },
    {
     "data": {
      "text/html": [
       "Syncing run <strong><a href=\"https://wandb.ai/beomgon-yu/EllipseEnvelope%20Sweep/runs/k8z13xsw\" target=\"_blank\">clean-sweep-14</a></strong> to <a href=\"https://wandb.ai/beomgon-yu/EllipseEnvelope%20Sweep\" target=\"_blank\">Weights & Biases</a> (<a href=\"https://wandb.me/run\" target=\"_blank\">docs</a>)<br/>Sweep page:  <a href=\"https://wandb.ai/beomgon-yu/EllipseEnvelope%20Sweep/sweeps/aplf5edd\" target=\"_blank\">https://wandb.ai/beomgon-yu/EllipseEnvelope%20Sweep/sweeps/aplf5edd</a>"
      ],
      "text/plain": [
       "<IPython.core.display.HTML object>"
      ]
     },
     "metadata": {},
     "output_type": "display_data"
    },
    {
     "name": "stdout",
     "output_type": "stream",
     "text": [
      "clean-sweep-14\n",
      "              precision    recall  f1-score   support\n",
      "\n",
      "           0       1.00      1.00      1.00     28432\n",
      "           1       0.86      0.83      0.85        30\n",
      "\n",
      "    accuracy                           1.00     28462\n",
      "   macro avg       0.93      0.92      0.92     28462\n",
      "weighted avg       1.00      1.00      1.00     28462\n",
      "\n",
      "tensor(-3302970.5000)\n",
      "tp :  25 , fp :  4 , tn :  28428 , fn :  5\n",
      "[   71  1047  1210  4039  7000  9326 14221 15306 28146]\n"
     ]
    },
    {
     "data": {
      "text/html": [
       "Waiting for W&B process to finish... <strong style=\"color:green\">(success).</strong>"
      ],
      "text/plain": [
       "<IPython.core.display.HTML object>"
      ]
     },
     "metadata": {},
     "output_type": "display_data"
    },
    {
     "data": {
      "application/vnd.jupyter.widget-view+json": {
       "model_id": "",
       "version_major": 2,
       "version_minor": 0
      },
      "text/plain": [
       "VBox(children=(Label(value='0.001 MB of 0.001 MB uploaded (0.000 MB deduped)\\r'), FloatProgress(value=1.0, max…"
      ]
     },
     "metadata": {},
     "output_type": "display_data"
    },
    {
     "data": {
      "text/html": [
       "<style>\n",
       "    table.wandb td:nth-child(1) { padding: 0 10px; text-align: left ; width: auto;} td:nth-child(2) {text-align: left ; width: 100%}\n",
       "    .wandb-row { display: flex; flex-direction: row; flex-wrap: wrap; justify-content: flex-start; width: 100% }\n",
       "    .wandb-col { display: flex; flex-direction: column; flex-basis: 100%; flex: 1; padding: 10px; }\n",
       "    </style>\n",
       "<div class=\"wandb-row\"><div class=\"wandb-col\"><h3>Run history:</h3><br/><table class=\"wandb\"><tr><td>f1_score</td><td>▁</td></tr></table><br/></div><div class=\"wandb-col\"><h3>Run summary:</h3><br/><table class=\"wandb\"><tr><td>f1_score</td><td>0.92365</td></tr></table><br/></div></div>"
      ],
      "text/plain": [
       "<IPython.core.display.HTML object>"
      ]
     },
     "metadata": {},
     "output_type": "display_data"
    },
    {
     "data": {
      "text/html": [
       "Synced <strong style=\"color:#cdcd00\">clean-sweep-14</strong>: <a href=\"https://wandb.ai/beomgon-yu/EllipseEnvelope%20Sweep/runs/k8z13xsw\" target=\"_blank\">https://wandb.ai/beomgon-yu/EllipseEnvelope%20Sweep/runs/k8z13xsw</a><br/>Synced 6 W&B file(s), 0 media file(s), 0 artifact file(s) and 0 other file(s)"
      ],
      "text/plain": [
       "<IPython.core.display.HTML object>"
      ]
     },
     "metadata": {},
     "output_type": "display_data"
    },
    {
     "data": {
      "text/html": [
       "Find logs at: <code>./wandb/run-20220803_220608-k8z13xsw/logs</code>"
      ],
      "text/plain": [
       "<IPython.core.display.HTML object>"
      ]
     },
     "metadata": {},
     "output_type": "display_data"
    },
    {
     "name": "stderr",
     "output_type": "stream",
     "text": [
      "\u001b[34m\u001b[1mwandb\u001b[0m: Agent Starting Run: t7xoevtt with config:\n",
      "\u001b[34m\u001b[1mwandb\u001b[0m: \tdenom: 4\n",
      "\u001b[34m\u001b[1mwandb\u001b[0m: \tseed: 3\n",
      "\u001b[34m\u001b[1mwandb\u001b[0m: \tsupport_fraction: 0.9977779146562\n",
      "\u001b[34m\u001b[1mwandb\u001b[0m: \ttopk: 30\n",
      "\u001b[34m\u001b[1mwandb\u001b[0m: \tval_ratio: 0.0011201471512946365\n"
     ]
    },
    {
     "data": {
      "text/html": [
       "Tracking run with wandb version 0.12.21"
      ],
      "text/plain": [
       "<IPython.core.display.HTML object>"
      ]
     },
     "metadata": {},
     "output_type": "display_data"
    },
    {
     "data": {
      "text/html": [
       "Run data is saved locally in <code>/home/beomgon/dacon/fraud_detection/isolated_forest/wandb/run-20220803_220640-t7xoevtt</code>"
      ],
      "text/plain": [
       "<IPython.core.display.HTML object>"
      ]
     },
     "metadata": {},
     "output_type": "display_data"
    },
    {
     "data": {
      "text/html": [
       "Syncing run <strong><a href=\"https://wandb.ai/beomgon-yu/EllipseEnvelope%20Sweep/runs/t7xoevtt\" target=\"_blank\">different-sweep-15</a></strong> to <a href=\"https://wandb.ai/beomgon-yu/EllipseEnvelope%20Sweep\" target=\"_blank\">Weights & Biases</a> (<a href=\"https://wandb.me/run\" target=\"_blank\">docs</a>)<br/>Sweep page:  <a href=\"https://wandb.ai/beomgon-yu/EllipseEnvelope%20Sweep/sweeps/aplf5edd\" target=\"_blank\">https://wandb.ai/beomgon-yu/EllipseEnvelope%20Sweep/sweeps/aplf5edd</a>"
      ],
      "text/plain": [
       "<IPython.core.display.HTML object>"
      ]
     },
     "metadata": {},
     "output_type": "display_data"
    },
    {
     "name": "stdout",
     "output_type": "stream",
     "text": [
      "different-sweep-15\n",
      "              precision    recall  f1-score   support\n",
      "\n",
      "           0       1.00      1.00      1.00     28432\n",
      "           1       0.83      0.83      0.83        30\n",
      "\n",
      "    accuracy                           1.00     28462\n",
      "   macro avg       0.92      0.92      0.92     28462\n",
      "weighted avg       1.00      1.00      1.00     28462\n",
      "\n",
      "tensor(-3439032.7500)\n",
      "tp :  25 , fp :  5 , tn :  28427 , fn :  5\n",
      "[   71  1047  1210  4039  7000  9326 14221 15306 19113 28146]\n"
     ]
    },
    {
     "data": {
      "text/html": [
       "Waiting for W&B process to finish... <strong style=\"color:green\">(success).</strong>"
      ],
      "text/plain": [
       "<IPython.core.display.HTML object>"
      ]
     },
     "metadata": {},
     "output_type": "display_data"
    },
    {
     "data": {
      "application/vnd.jupyter.widget-view+json": {
       "model_id": "",
       "version_major": 2,
       "version_minor": 0
      },
      "text/plain": [
       "VBox(children=(Label(value='0.001 MB of 0.001 MB uploaded (0.000 MB deduped)\\r'), FloatProgress(value=1.0, max…"
      ]
     },
     "metadata": {},
     "output_type": "display_data"
    },
    {
     "data": {
      "text/html": [
       "<style>\n",
       "    table.wandb td:nth-child(1) { padding: 0 10px; text-align: left ; width: auto;} td:nth-child(2) {text-align: left ; width: 100%}\n",
       "    .wandb-row { display: flex; flex-direction: row; flex-wrap: wrap; justify-content: flex-start; width: 100% }\n",
       "    .wandb-col { display: flex; flex-direction: column; flex-basis: 100%; flex: 1; padding: 10px; }\n",
       "    </style>\n",
       "<div class=\"wandb-row\"><div class=\"wandb-col\"><h3>Run history:</h3><br/><table class=\"wandb\"><tr><td>f1_score</td><td>▁</td></tr></table><br/></div><div class=\"wandb-col\"><h3>Run summary:</h3><br/><table class=\"wandb\"><tr><td>f1_score</td><td>0.91658</td></tr></table><br/></div></div>"
      ],
      "text/plain": [
       "<IPython.core.display.HTML object>"
      ]
     },
     "metadata": {},
     "output_type": "display_data"
    },
    {
     "data": {
      "text/html": [
       "Synced <strong style=\"color:#cdcd00\">different-sweep-15</strong>: <a href=\"https://wandb.ai/beomgon-yu/EllipseEnvelope%20Sweep/runs/t7xoevtt\" target=\"_blank\">https://wandb.ai/beomgon-yu/EllipseEnvelope%20Sweep/runs/t7xoevtt</a><br/>Synced 6 W&B file(s), 0 media file(s), 0 artifact file(s) and 0 other file(s)"
      ],
      "text/plain": [
       "<IPython.core.display.HTML object>"
      ]
     },
     "metadata": {},
     "output_type": "display_data"
    },
    {
     "data": {
      "text/html": [
       "Find logs at: <code>./wandb/run-20220803_220640-t7xoevtt/logs</code>"
      ],
      "text/plain": [
       "<IPython.core.display.HTML object>"
      ]
     },
     "metadata": {},
     "output_type": "display_data"
    }
   ],
   "source": [
    "wandb.agent(sweep_id, main, count=test_num)"
   ]
  },
  {
   "cell_type": "code",
   "execution_count": 65,
   "id": "edf55fa5-75bd-447a-9e93-aaca351de6f4",
   "metadata": {},
   "outputs": [],
   "source": [
    "import os\n",
    "import glob"
   ]
  },
  {
   "cell_type": "code",
   "execution_count": 66,
   "id": "fde690cd-75df-4912-b3a7-22c8845908f1",
   "metadata": {},
   "outputs": [],
   "source": [
    "val = pd.read_csv('../dataset/val.csv')\n",
    "val_y = val['Class'].values\n",
    "val = val.drop(columns=val.columns[1:],axis=1)\n",
    "csv_list = glob.glob('val_results/*.csv')\n",
    "\n",
    "for i, csv in enumerate(csv_list) :\n",
    "    li = pd.read_csv(csv)['Class'].values\n",
    "    val['Class'+str(i)] = li"
   ]
  },
  {
   "cell_type": "code",
   "execution_count": 67,
   "id": "a4dba840-a5a0-4439-8ce7-937c7b360126",
   "metadata": {},
   "outputs": [
    {
     "data": {
      "text/html": [
       "<div>\n",
       "<style scoped>\n",
       "    .dataframe tbody tr th:only-of-type {\n",
       "        vertical-align: middle;\n",
       "    }\n",
       "\n",
       "    .dataframe tbody tr th {\n",
       "        vertical-align: top;\n",
       "    }\n",
       "\n",
       "    .dataframe thead th {\n",
       "        text-align: right;\n",
       "    }\n",
       "</style>\n",
       "<table border=\"1\" class=\"dataframe\">\n",
       "  <thead>\n",
       "    <tr style=\"text-align: right;\">\n",
       "      <th></th>\n",
       "      <th>ID</th>\n",
       "      <th>Class0</th>\n",
       "      <th>Class1</th>\n",
       "      <th>Class2</th>\n",
       "      <th>Class3</th>\n",
       "      <th>Class4</th>\n",
       "      <th>Class5</th>\n",
       "      <th>Class6</th>\n",
       "      <th>Class7</th>\n",
       "      <th>Class8</th>\n",
       "      <th>Class9</th>\n",
       "      <th>Class10</th>\n",
       "      <th>Class11</th>\n",
       "      <th>Class12</th>\n",
       "      <th>Class13</th>\n",
       "      <th>Class14</th>\n",
       "    </tr>\n",
       "  </thead>\n",
       "  <tbody>\n",
       "    <tr>\n",
       "      <th>0</th>\n",
       "      <td>10</td>\n",
       "      <td>0</td>\n",
       "      <td>0</td>\n",
       "      <td>0</td>\n",
       "      <td>0</td>\n",
       "      <td>0</td>\n",
       "      <td>0</td>\n",
       "      <td>0</td>\n",
       "      <td>0</td>\n",
       "      <td>0</td>\n",
       "      <td>0</td>\n",
       "      <td>0</td>\n",
       "      <td>0</td>\n",
       "      <td>0</td>\n",
       "      <td>0</td>\n",
       "      <td>0</td>\n",
       "    </tr>\n",
       "    <tr>\n",
       "      <th>1</th>\n",
       "      <td>22</td>\n",
       "      <td>0</td>\n",
       "      <td>0</td>\n",
       "      <td>0</td>\n",
       "      <td>0</td>\n",
       "      <td>0</td>\n",
       "      <td>0</td>\n",
       "      <td>0</td>\n",
       "      <td>0</td>\n",
       "      <td>0</td>\n",
       "      <td>0</td>\n",
       "      <td>0</td>\n",
       "      <td>0</td>\n",
       "      <td>0</td>\n",
       "      <td>0</td>\n",
       "      <td>0</td>\n",
       "    </tr>\n",
       "    <tr>\n",
       "      <th>2</th>\n",
       "      <td>63</td>\n",
       "      <td>0</td>\n",
       "      <td>0</td>\n",
       "      <td>0</td>\n",
       "      <td>0</td>\n",
       "      <td>0</td>\n",
       "      <td>0</td>\n",
       "      <td>0</td>\n",
       "      <td>0</td>\n",
       "      <td>0</td>\n",
       "      <td>0</td>\n",
       "      <td>0</td>\n",
       "      <td>0</td>\n",
       "      <td>0</td>\n",
       "      <td>0</td>\n",
       "      <td>0</td>\n",
       "    </tr>\n",
       "    <tr>\n",
       "      <th>3</th>\n",
       "      <td>69</td>\n",
       "      <td>0</td>\n",
       "      <td>0</td>\n",
       "      <td>0</td>\n",
       "      <td>0</td>\n",
       "      <td>0</td>\n",
       "      <td>0</td>\n",
       "      <td>0</td>\n",
       "      <td>0</td>\n",
       "      <td>0</td>\n",
       "      <td>0</td>\n",
       "      <td>0</td>\n",
       "      <td>0</td>\n",
       "      <td>0</td>\n",
       "      <td>0</td>\n",
       "      <td>0</td>\n",
       "    </tr>\n",
       "    <tr>\n",
       "      <th>4</th>\n",
       "      <td>83</td>\n",
       "      <td>0</td>\n",
       "      <td>0</td>\n",
       "      <td>0</td>\n",
       "      <td>0</td>\n",
       "      <td>0</td>\n",
       "      <td>0</td>\n",
       "      <td>0</td>\n",
       "      <td>0</td>\n",
       "      <td>0</td>\n",
       "      <td>0</td>\n",
       "      <td>0</td>\n",
       "      <td>0</td>\n",
       "      <td>0</td>\n",
       "      <td>0</td>\n",
       "      <td>0</td>\n",
       "    </tr>\n",
       "  </tbody>\n",
       "</table>\n",
       "</div>"
      ],
      "text/plain": [
       "   ID  Class0  Class1  Class2  Class3  Class4  Class5  Class6  Class7  Class8  \\\n",
       "0  10       0       0       0       0       0       0       0       0       0   \n",
       "1  22       0       0       0       0       0       0       0       0       0   \n",
       "2  63       0       0       0       0       0       0       0       0       0   \n",
       "3  69       0       0       0       0       0       0       0       0       0   \n",
       "4  83       0       0       0       0       0       0       0       0       0   \n",
       "\n",
       "   Class9  Class10  Class11  Class12  Class13  Class14  \n",
       "0       0        0        0        0        0        0  \n",
       "1       0        0        0        0        0        0  \n",
       "2       0        0        0        0        0        0  \n",
       "3       0        0        0        0        0        0  \n",
       "4       0        0        0        0        0        0  "
      ]
     },
     "execution_count": 67,
     "metadata": {},
     "output_type": "execute_result"
    }
   ],
   "source": [
    "val.head()"
   ]
  },
  {
   "cell_type": "code",
   "execution_count": 68,
   "id": "cceeb536-4bff-4400-beb5-a67eee843d07",
   "metadata": {},
   "outputs": [
    {
     "data": {
      "text/html": [
       "<div>\n",
       "<style scoped>\n",
       "    .dataframe tbody tr th:only-of-type {\n",
       "        vertical-align: middle;\n",
       "    }\n",
       "\n",
       "    .dataframe tbody tr th {\n",
       "        vertical-align: top;\n",
       "    }\n",
       "\n",
       "    .dataframe thead th {\n",
       "        text-align: right;\n",
       "    }\n",
       "</style>\n",
       "<table border=\"1\" class=\"dataframe\">\n",
       "  <thead>\n",
       "    <tr style=\"text-align: right;\">\n",
       "      <th></th>\n",
       "      <th>ID</th>\n",
       "      <th>Class0</th>\n",
       "      <th>Class1</th>\n",
       "      <th>Class2</th>\n",
       "      <th>Class3</th>\n",
       "      <th>Class4</th>\n",
       "      <th>Class5</th>\n",
       "      <th>Class6</th>\n",
       "      <th>Class7</th>\n",
       "      <th>Class8</th>\n",
       "      <th>Class9</th>\n",
       "      <th>Class10</th>\n",
       "      <th>Class11</th>\n",
       "      <th>Class12</th>\n",
       "      <th>Class13</th>\n",
       "      <th>Class14</th>\n",
       "      <th>Count</th>\n",
       "    </tr>\n",
       "  </thead>\n",
       "  <tbody>\n",
       "    <tr>\n",
       "      <th>0</th>\n",
       "      <td>10</td>\n",
       "      <td>0</td>\n",
       "      <td>0</td>\n",
       "      <td>0</td>\n",
       "      <td>0</td>\n",
       "      <td>0</td>\n",
       "      <td>0</td>\n",
       "      <td>0</td>\n",
       "      <td>0</td>\n",
       "      <td>0</td>\n",
       "      <td>0</td>\n",
       "      <td>0</td>\n",
       "      <td>0</td>\n",
       "      <td>0</td>\n",
       "      <td>0</td>\n",
       "      <td>0</td>\n",
       "      <td>0</td>\n",
       "    </tr>\n",
       "    <tr>\n",
       "      <th>1</th>\n",
       "      <td>22</td>\n",
       "      <td>0</td>\n",
       "      <td>0</td>\n",
       "      <td>0</td>\n",
       "      <td>0</td>\n",
       "      <td>0</td>\n",
       "      <td>0</td>\n",
       "      <td>0</td>\n",
       "      <td>0</td>\n",
       "      <td>0</td>\n",
       "      <td>0</td>\n",
       "      <td>0</td>\n",
       "      <td>0</td>\n",
       "      <td>0</td>\n",
       "      <td>0</td>\n",
       "      <td>0</td>\n",
       "      <td>0</td>\n",
       "    </tr>\n",
       "    <tr>\n",
       "      <th>2</th>\n",
       "      <td>63</td>\n",
       "      <td>0</td>\n",
       "      <td>0</td>\n",
       "      <td>0</td>\n",
       "      <td>0</td>\n",
       "      <td>0</td>\n",
       "      <td>0</td>\n",
       "      <td>0</td>\n",
       "      <td>0</td>\n",
       "      <td>0</td>\n",
       "      <td>0</td>\n",
       "      <td>0</td>\n",
       "      <td>0</td>\n",
       "      <td>0</td>\n",
       "      <td>0</td>\n",
       "      <td>0</td>\n",
       "      <td>0</td>\n",
       "    </tr>\n",
       "    <tr>\n",
       "      <th>3</th>\n",
       "      <td>69</td>\n",
       "      <td>0</td>\n",
       "      <td>0</td>\n",
       "      <td>0</td>\n",
       "      <td>0</td>\n",
       "      <td>0</td>\n",
       "      <td>0</td>\n",
       "      <td>0</td>\n",
       "      <td>0</td>\n",
       "      <td>0</td>\n",
       "      <td>0</td>\n",
       "      <td>0</td>\n",
       "      <td>0</td>\n",
       "      <td>0</td>\n",
       "      <td>0</td>\n",
       "      <td>0</td>\n",
       "      <td>0</td>\n",
       "    </tr>\n",
       "    <tr>\n",
       "      <th>4</th>\n",
       "      <td>83</td>\n",
       "      <td>0</td>\n",
       "      <td>0</td>\n",
       "      <td>0</td>\n",
       "      <td>0</td>\n",
       "      <td>0</td>\n",
       "      <td>0</td>\n",
       "      <td>0</td>\n",
       "      <td>0</td>\n",
       "      <td>0</td>\n",
       "      <td>0</td>\n",
       "      <td>0</td>\n",
       "      <td>0</td>\n",
       "      <td>0</td>\n",
       "      <td>0</td>\n",
       "      <td>0</td>\n",
       "      <td>0</td>\n",
       "    </tr>\n",
       "  </tbody>\n",
       "</table>\n",
       "</div>"
      ],
      "text/plain": [
       "   ID  Class0  Class1  Class2  Class3  Class4  Class5  Class6  Class7  Class8  \\\n",
       "0  10       0       0       0       0       0       0       0       0       0   \n",
       "1  22       0       0       0       0       0       0       0       0       0   \n",
       "2  63       0       0       0       0       0       0       0       0       0   \n",
       "3  69       0       0       0       0       0       0       0       0       0   \n",
       "4  83       0       0       0       0       0       0       0       0       0   \n",
       "\n",
       "   Class9  Class10  Class11  Class12  Class13  Class14  Count  \n",
       "0       0        0        0        0        0        0      0  \n",
       "1       0        0        0        0        0        0      0  \n",
       "2       0        0        0        0        0        0      0  \n",
       "3       0        0        0        0        0        0      0  \n",
       "4       0        0        0        0        0        0      0  "
      ]
     },
     "execution_count": 68,
     "metadata": {},
     "output_type": "execute_result"
    }
   ],
   "source": [
    "val['Count'] = val.apply(lambda x : sum(list(x[1:].values)), axis=1)\n",
    "val.head()"
   ]
  },
  {
   "cell_type": "code",
   "execution_count": 69,
   "id": "b08bf663-99e3-45e5-b26b-85cc9f8fb218",
   "metadata": {},
   "outputs": [
    {
     "data": {
      "text/plain": [
       "0     28422\n",
       "15       22\n",
       "5         7\n",
       "10        5\n",
       "8         1\n",
       "3         1\n",
       "14        1\n",
       "2         1\n",
       "1         1\n",
       "9         1\n",
       "Name: Count, dtype: int64"
      ]
     },
     "execution_count": 69,
     "metadata": {},
     "output_type": "execute_result"
    }
   ],
   "source": [
    "val.Count.value_counts()"
   ]
  },
  {
   "cell_type": "code",
   "execution_count": 70,
   "id": "7e49357d-b894-4c4c-958a-3a00494b0505",
   "metadata": {},
   "outputs": [],
   "source": [
    "def set_label(x) :\n",
    "    if x == 0 :\n",
    "        return 0\n",
    "    elif x == test_num-1 :\n",
    "        return 1\n",
    "\n",
    "    elif x > test_num//2 :\n",
    "        return 1\n",
    "    else :\n",
    "        return 0"
   ]
  },
  {
   "cell_type": "code",
   "execution_count": 71,
   "id": "ed40df2b-8d0f-4438-bd11-fe4bc8c621e9",
   "metadata": {},
   "outputs": [],
   "source": [
    "val['Class'] = val.Count.apply(lambda x : set_label(x))\n",
    "pred_y = val['Class'].values"
   ]
  },
  {
   "cell_type": "code",
   "execution_count": 72,
   "id": "617ec687-9e41-47f4-a623-6c923bfe2d71",
   "metadata": {},
   "outputs": [
    {
     "data": {
      "text/plain": [
       "0.9165787375726882"
      ]
     },
     "execution_count": 72,
     "metadata": {},
     "output_type": "execute_result"
    }
   ],
   "source": [
    "f1_score(val_y, pred_y, average='macro')"
   ]
  },
  {
   "cell_type": "code",
   "execution_count": null,
   "id": "4ed33b76-892e-4868-83b2-06141bb7b019",
   "metadata": {},
   "outputs": [],
   "source": []
  },
  {
   "cell_type": "code",
   "execution_count": null,
   "id": "b077433a-216e-4a0a-9953-208f409436b5",
   "metadata": {},
   "outputs": [],
   "source": []
  },
  {
   "cell_type": "code",
   "execution_count": 73,
   "id": "3a7822b1-26c9-4aca-ab32-b2f0b14fd631",
   "metadata": {},
   "outputs": [],
   "source": [
    "# os.listdir('results/')\n",
    "submit = pd.read_csv('../dataset/sample_submission.csv')\n",
    "csv_list = glob.glob('results/*.csv')\n",
    "\n",
    "for i, csv in enumerate(csv_list) :\n",
    "    li = pd.read_csv(csv)['Class'].values\n",
    "    submit['Class'+str(i)] = li\n",
    "    "
   ]
  },
  {
   "cell_type": "code",
   "execution_count": 74,
   "id": "674ec003-1a13-4309-9802-8d32d2ea8366",
   "metadata": {},
   "outputs": [
    {
     "data": {
      "text/html": [
       "<div>\n",
       "<style scoped>\n",
       "    .dataframe tbody tr th:only-of-type {\n",
       "        vertical-align: middle;\n",
       "    }\n",
       "\n",
       "    .dataframe tbody tr th {\n",
       "        vertical-align: top;\n",
       "    }\n",
       "\n",
       "    .dataframe thead th {\n",
       "        text-align: right;\n",
       "    }\n",
       "</style>\n",
       "<table border=\"1\" class=\"dataframe\">\n",
       "  <thead>\n",
       "    <tr style=\"text-align: right;\">\n",
       "      <th></th>\n",
       "      <th>ID</th>\n",
       "      <th>Class0</th>\n",
       "      <th>Class1</th>\n",
       "      <th>Class2</th>\n",
       "      <th>Class3</th>\n",
       "      <th>Class4</th>\n",
       "      <th>Class5</th>\n",
       "      <th>Class6</th>\n",
       "      <th>Class7</th>\n",
       "      <th>Class8</th>\n",
       "      <th>Class9</th>\n",
       "      <th>Class10</th>\n",
       "      <th>Class11</th>\n",
       "      <th>Class12</th>\n",
       "      <th>Class13</th>\n",
       "      <th>Class14</th>\n",
       "    </tr>\n",
       "  </thead>\n",
       "  <tbody>\n",
       "    <tr>\n",
       "      <th>0</th>\n",
       "      <td>AAAA0x1</td>\n",
       "      <td>0</td>\n",
       "      <td>0</td>\n",
       "      <td>0</td>\n",
       "      <td>0</td>\n",
       "      <td>0</td>\n",
       "      <td>0</td>\n",
       "      <td>0</td>\n",
       "      <td>0</td>\n",
       "      <td>0</td>\n",
       "      <td>0</td>\n",
       "      <td>0</td>\n",
       "      <td>0</td>\n",
       "      <td>0</td>\n",
       "      <td>0</td>\n",
       "      <td>0</td>\n",
       "    </tr>\n",
       "    <tr>\n",
       "      <th>1</th>\n",
       "      <td>AAAA0x2</td>\n",
       "      <td>0</td>\n",
       "      <td>0</td>\n",
       "      <td>0</td>\n",
       "      <td>0</td>\n",
       "      <td>0</td>\n",
       "      <td>0</td>\n",
       "      <td>0</td>\n",
       "      <td>0</td>\n",
       "      <td>0</td>\n",
       "      <td>0</td>\n",
       "      <td>0</td>\n",
       "      <td>0</td>\n",
       "      <td>0</td>\n",
       "      <td>0</td>\n",
       "      <td>0</td>\n",
       "    </tr>\n",
       "    <tr>\n",
       "      <th>2</th>\n",
       "      <td>AAAA0x5</td>\n",
       "      <td>0</td>\n",
       "      <td>0</td>\n",
       "      <td>0</td>\n",
       "      <td>0</td>\n",
       "      <td>0</td>\n",
       "      <td>0</td>\n",
       "      <td>0</td>\n",
       "      <td>0</td>\n",
       "      <td>0</td>\n",
       "      <td>0</td>\n",
       "      <td>0</td>\n",
       "      <td>0</td>\n",
       "      <td>0</td>\n",
       "      <td>0</td>\n",
       "      <td>0</td>\n",
       "    </tr>\n",
       "    <tr>\n",
       "      <th>3</th>\n",
       "      <td>AAAA0x7</td>\n",
       "      <td>0</td>\n",
       "      <td>0</td>\n",
       "      <td>0</td>\n",
       "      <td>0</td>\n",
       "      <td>0</td>\n",
       "      <td>0</td>\n",
       "      <td>0</td>\n",
       "      <td>0</td>\n",
       "      <td>0</td>\n",
       "      <td>0</td>\n",
       "      <td>0</td>\n",
       "      <td>0</td>\n",
       "      <td>0</td>\n",
       "      <td>0</td>\n",
       "      <td>0</td>\n",
       "    </tr>\n",
       "    <tr>\n",
       "      <th>4</th>\n",
       "      <td>AAAA0xc</td>\n",
       "      <td>0</td>\n",
       "      <td>0</td>\n",
       "      <td>0</td>\n",
       "      <td>0</td>\n",
       "      <td>0</td>\n",
       "      <td>0</td>\n",
       "      <td>0</td>\n",
       "      <td>0</td>\n",
       "      <td>0</td>\n",
       "      <td>0</td>\n",
       "      <td>0</td>\n",
       "      <td>0</td>\n",
       "      <td>0</td>\n",
       "      <td>0</td>\n",
       "      <td>0</td>\n",
       "    </tr>\n",
       "  </tbody>\n",
       "</table>\n",
       "</div>"
      ],
      "text/plain": [
       "        ID  Class0  Class1  Class2  Class3  Class4  Class5  Class6  Class7  \\\n",
       "0  AAAA0x1       0       0       0       0       0       0       0       0   \n",
       "1  AAAA0x2       0       0       0       0       0       0       0       0   \n",
       "2  AAAA0x5       0       0       0       0       0       0       0       0   \n",
       "3  AAAA0x7       0       0       0       0       0       0       0       0   \n",
       "4  AAAA0xc       0       0       0       0       0       0       0       0   \n",
       "\n",
       "   Class8  Class9  Class10  Class11  Class12  Class13  Class14  \n",
       "0       0       0        0        0        0        0        0  \n",
       "1       0       0        0        0        0        0        0  \n",
       "2       0       0        0        0        0        0        0  \n",
       "3       0       0        0        0        0        0        0  \n",
       "4       0       0        0        0        0        0        0  "
      ]
     },
     "execution_count": 74,
     "metadata": {},
     "output_type": "execute_result"
    }
   ],
   "source": [
    "submit = submit.drop('Class', axis=1)\n",
    "submit.head()"
   ]
  },
  {
   "cell_type": "code",
   "execution_count": 75,
   "id": "f8e428d4-aa5c-4339-9d4b-acf1bb3d2eea",
   "metadata": {},
   "outputs": [
    {
     "data": {
      "text/html": [
       "<div>\n",
       "<style scoped>\n",
       "    .dataframe tbody tr th:only-of-type {\n",
       "        vertical-align: middle;\n",
       "    }\n",
       "\n",
       "    .dataframe tbody tr th {\n",
       "        vertical-align: top;\n",
       "    }\n",
       "\n",
       "    .dataframe thead th {\n",
       "        text-align: right;\n",
       "    }\n",
       "</style>\n",
       "<table border=\"1\" class=\"dataframe\">\n",
       "  <thead>\n",
       "    <tr style=\"text-align: right;\">\n",
       "      <th></th>\n",
       "      <th>ID</th>\n",
       "      <th>Class0</th>\n",
       "      <th>Class1</th>\n",
       "      <th>Class2</th>\n",
       "      <th>Class3</th>\n",
       "      <th>Class4</th>\n",
       "      <th>Class5</th>\n",
       "      <th>Class6</th>\n",
       "      <th>Class7</th>\n",
       "      <th>Class8</th>\n",
       "      <th>Class9</th>\n",
       "      <th>Class10</th>\n",
       "      <th>Class11</th>\n",
       "      <th>Class12</th>\n",
       "      <th>Class13</th>\n",
       "      <th>Class14</th>\n",
       "      <th>Count</th>\n",
       "    </tr>\n",
       "  </thead>\n",
       "  <tbody>\n",
       "    <tr>\n",
       "      <th>0</th>\n",
       "      <td>AAAA0x1</td>\n",
       "      <td>0</td>\n",
       "      <td>0</td>\n",
       "      <td>0</td>\n",
       "      <td>0</td>\n",
       "      <td>0</td>\n",
       "      <td>0</td>\n",
       "      <td>0</td>\n",
       "      <td>0</td>\n",
       "      <td>0</td>\n",
       "      <td>0</td>\n",
       "      <td>0</td>\n",
       "      <td>0</td>\n",
       "      <td>0</td>\n",
       "      <td>0</td>\n",
       "      <td>0</td>\n",
       "      <td>0</td>\n",
       "    </tr>\n",
       "    <tr>\n",
       "      <th>1</th>\n",
       "      <td>AAAA0x2</td>\n",
       "      <td>0</td>\n",
       "      <td>0</td>\n",
       "      <td>0</td>\n",
       "      <td>0</td>\n",
       "      <td>0</td>\n",
       "      <td>0</td>\n",
       "      <td>0</td>\n",
       "      <td>0</td>\n",
       "      <td>0</td>\n",
       "      <td>0</td>\n",
       "      <td>0</td>\n",
       "      <td>0</td>\n",
       "      <td>0</td>\n",
       "      <td>0</td>\n",
       "      <td>0</td>\n",
       "      <td>0</td>\n",
       "    </tr>\n",
       "    <tr>\n",
       "      <th>2</th>\n",
       "      <td>AAAA0x5</td>\n",
       "      <td>0</td>\n",
       "      <td>0</td>\n",
       "      <td>0</td>\n",
       "      <td>0</td>\n",
       "      <td>0</td>\n",
       "      <td>0</td>\n",
       "      <td>0</td>\n",
       "      <td>0</td>\n",
       "      <td>0</td>\n",
       "      <td>0</td>\n",
       "      <td>0</td>\n",
       "      <td>0</td>\n",
       "      <td>0</td>\n",
       "      <td>0</td>\n",
       "      <td>0</td>\n",
       "      <td>0</td>\n",
       "    </tr>\n",
       "    <tr>\n",
       "      <th>3</th>\n",
       "      <td>AAAA0x7</td>\n",
       "      <td>0</td>\n",
       "      <td>0</td>\n",
       "      <td>0</td>\n",
       "      <td>0</td>\n",
       "      <td>0</td>\n",
       "      <td>0</td>\n",
       "      <td>0</td>\n",
       "      <td>0</td>\n",
       "      <td>0</td>\n",
       "      <td>0</td>\n",
       "      <td>0</td>\n",
       "      <td>0</td>\n",
       "      <td>0</td>\n",
       "      <td>0</td>\n",
       "      <td>0</td>\n",
       "      <td>0</td>\n",
       "    </tr>\n",
       "    <tr>\n",
       "      <th>4</th>\n",
       "      <td>AAAA0xc</td>\n",
       "      <td>0</td>\n",
       "      <td>0</td>\n",
       "      <td>0</td>\n",
       "      <td>0</td>\n",
       "      <td>0</td>\n",
       "      <td>0</td>\n",
       "      <td>0</td>\n",
       "      <td>0</td>\n",
       "      <td>0</td>\n",
       "      <td>0</td>\n",
       "      <td>0</td>\n",
       "      <td>0</td>\n",
       "      <td>0</td>\n",
       "      <td>0</td>\n",
       "      <td>0</td>\n",
       "      <td>0</td>\n",
       "    </tr>\n",
       "  </tbody>\n",
       "</table>\n",
       "</div>"
      ],
      "text/plain": [
       "        ID  Class0  Class1  Class2  Class3  Class4  Class5  Class6  Class7  \\\n",
       "0  AAAA0x1       0       0       0       0       0       0       0       0   \n",
       "1  AAAA0x2       0       0       0       0       0       0       0       0   \n",
       "2  AAAA0x5       0       0       0       0       0       0       0       0   \n",
       "3  AAAA0x7       0       0       0       0       0       0       0       0   \n",
       "4  AAAA0xc       0       0       0       0       0       0       0       0   \n",
       "\n",
       "   Class8  Class9  Class10  Class11  Class12  Class13  Class14  Count  \n",
       "0       0       0        0        0        0        0        0      0  \n",
       "1       0       0        0        0        0        0        0      0  \n",
       "2       0       0        0        0        0        0        0      0  \n",
       "3       0       0        0        0        0        0        0      0  \n",
       "4       0       0        0        0        0        0        0      0  "
      ]
     },
     "execution_count": 75,
     "metadata": {},
     "output_type": "execute_result"
    }
   ],
   "source": [
    "submit['Count'] = submit.apply(lambda x : sum(list(x[1:].values)), axis=1)\n",
    "submit.head()"
   ]
  },
  {
   "cell_type": "code",
   "execution_count": 76,
   "id": "1663f7af-d30c-4b83-83d0-b6536d7ab249",
   "metadata": {},
   "outputs": [
    {
     "data": {
      "text/plain": [
       "0     142123\n",
       "15       266\n",
       "5         38\n",
       "10        33\n",
       "1          9\n",
       "8          8\n",
       "4          8\n",
       "14         7\n",
       "3          5\n",
       "13         4\n",
       "9          1\n",
       "2          1\n",
       "Name: Count, dtype: int64"
      ]
     },
     "execution_count": 76,
     "metadata": {},
     "output_type": "execute_result"
    }
   ],
   "source": [
    "submit.Count.value_counts()"
   ]
  },
  {
   "cell_type": "code",
   "execution_count": 77,
   "id": "80d166fb-93f1-4441-bc80-8f99030eed36",
   "metadata": {},
   "outputs": [
    {
     "data": {
      "text/html": [
       "<div>\n",
       "<style scoped>\n",
       "    .dataframe tbody tr th:only-of-type {\n",
       "        vertical-align: middle;\n",
       "    }\n",
       "\n",
       "    .dataframe tbody tr th {\n",
       "        vertical-align: top;\n",
       "    }\n",
       "\n",
       "    .dataframe thead th {\n",
       "        text-align: right;\n",
       "    }\n",
       "</style>\n",
       "<table border=\"1\" class=\"dataframe\">\n",
       "  <thead>\n",
       "    <tr style=\"text-align: right;\">\n",
       "      <th></th>\n",
       "      <th>ID</th>\n",
       "      <th>Class0</th>\n",
       "      <th>Class1</th>\n",
       "      <th>Class2</th>\n",
       "      <th>Class3</th>\n",
       "      <th>Class4</th>\n",
       "      <th>Class5</th>\n",
       "      <th>Class6</th>\n",
       "      <th>Class7</th>\n",
       "      <th>Class8</th>\n",
       "      <th>Class9</th>\n",
       "      <th>Class10</th>\n",
       "      <th>Class11</th>\n",
       "      <th>Class12</th>\n",
       "      <th>Class13</th>\n",
       "      <th>Class14</th>\n",
       "      <th>Count</th>\n",
       "      <th>Class</th>\n",
       "    </tr>\n",
       "  </thead>\n",
       "  <tbody>\n",
       "    <tr>\n",
       "      <th>0</th>\n",
       "      <td>AAAA0x1</td>\n",
       "      <td>0</td>\n",
       "      <td>0</td>\n",
       "      <td>0</td>\n",
       "      <td>0</td>\n",
       "      <td>0</td>\n",
       "      <td>0</td>\n",
       "      <td>0</td>\n",
       "      <td>0</td>\n",
       "      <td>0</td>\n",
       "      <td>0</td>\n",
       "      <td>0</td>\n",
       "      <td>0</td>\n",
       "      <td>0</td>\n",
       "      <td>0</td>\n",
       "      <td>0</td>\n",
       "      <td>0</td>\n",
       "      <td>0</td>\n",
       "    </tr>\n",
       "    <tr>\n",
       "      <th>1</th>\n",
       "      <td>AAAA0x2</td>\n",
       "      <td>0</td>\n",
       "      <td>0</td>\n",
       "      <td>0</td>\n",
       "      <td>0</td>\n",
       "      <td>0</td>\n",
       "      <td>0</td>\n",
       "      <td>0</td>\n",
       "      <td>0</td>\n",
       "      <td>0</td>\n",
       "      <td>0</td>\n",
       "      <td>0</td>\n",
       "      <td>0</td>\n",
       "      <td>0</td>\n",
       "      <td>0</td>\n",
       "      <td>0</td>\n",
       "      <td>0</td>\n",
       "      <td>0</td>\n",
       "    </tr>\n",
       "    <tr>\n",
       "      <th>2</th>\n",
       "      <td>AAAA0x5</td>\n",
       "      <td>0</td>\n",
       "      <td>0</td>\n",
       "      <td>0</td>\n",
       "      <td>0</td>\n",
       "      <td>0</td>\n",
       "      <td>0</td>\n",
       "      <td>0</td>\n",
       "      <td>0</td>\n",
       "      <td>0</td>\n",
       "      <td>0</td>\n",
       "      <td>0</td>\n",
       "      <td>0</td>\n",
       "      <td>0</td>\n",
       "      <td>0</td>\n",
       "      <td>0</td>\n",
       "      <td>0</td>\n",
       "      <td>0</td>\n",
       "    </tr>\n",
       "    <tr>\n",
       "      <th>3</th>\n",
       "      <td>AAAA0x7</td>\n",
       "      <td>0</td>\n",
       "      <td>0</td>\n",
       "      <td>0</td>\n",
       "      <td>0</td>\n",
       "      <td>0</td>\n",
       "      <td>0</td>\n",
       "      <td>0</td>\n",
       "      <td>0</td>\n",
       "      <td>0</td>\n",
       "      <td>0</td>\n",
       "      <td>0</td>\n",
       "      <td>0</td>\n",
       "      <td>0</td>\n",
       "      <td>0</td>\n",
       "      <td>0</td>\n",
       "      <td>0</td>\n",
       "      <td>0</td>\n",
       "    </tr>\n",
       "    <tr>\n",
       "      <th>4</th>\n",
       "      <td>AAAA0xc</td>\n",
       "      <td>0</td>\n",
       "      <td>0</td>\n",
       "      <td>0</td>\n",
       "      <td>0</td>\n",
       "      <td>0</td>\n",
       "      <td>0</td>\n",
       "      <td>0</td>\n",
       "      <td>0</td>\n",
       "      <td>0</td>\n",
       "      <td>0</td>\n",
       "      <td>0</td>\n",
       "      <td>0</td>\n",
       "      <td>0</td>\n",
       "      <td>0</td>\n",
       "      <td>0</td>\n",
       "      <td>0</td>\n",
       "      <td>0</td>\n",
       "    </tr>\n",
       "  </tbody>\n",
       "</table>\n",
       "</div>"
      ],
      "text/plain": [
       "        ID  Class0  Class1  Class2  Class3  Class4  Class5  Class6  Class7  \\\n",
       "0  AAAA0x1       0       0       0       0       0       0       0       0   \n",
       "1  AAAA0x2       0       0       0       0       0       0       0       0   \n",
       "2  AAAA0x5       0       0       0       0       0       0       0       0   \n",
       "3  AAAA0x7       0       0       0       0       0       0       0       0   \n",
       "4  AAAA0xc       0       0       0       0       0       0       0       0   \n",
       "\n",
       "   Class8  Class9  Class10  Class11  Class12  Class13  Class14  Count  Class  \n",
       "0       0       0        0        0        0        0        0      0      0  \n",
       "1       0       0        0        0        0        0        0      0      0  \n",
       "2       0       0        0        0        0        0        0      0      0  \n",
       "3       0       0        0        0        0        0        0      0      0  \n",
       "4       0       0        0        0        0        0        0      0      0  "
      ]
     },
     "execution_count": 77,
     "metadata": {},
     "output_type": "execute_result"
    }
   ],
   "source": [
    "submit['Class'] = submit.Count.apply(lambda x : set_label(x))\n",
    "submit.head()"
   ]
  },
  {
   "cell_type": "code",
   "execution_count": 78,
   "id": "f0e60632-b5ae-46a3-873e-b58d84b7e6f7",
   "metadata": {},
   "outputs": [
    {
     "data": {
      "text/html": [
       "<div>\n",
       "<style scoped>\n",
       "    .dataframe tbody tr th:only-of-type {\n",
       "        vertical-align: middle;\n",
       "    }\n",
       "\n",
       "    .dataframe tbody tr th {\n",
       "        vertical-align: top;\n",
       "    }\n",
       "\n",
       "    .dataframe thead th {\n",
       "        text-align: right;\n",
       "    }\n",
       "</style>\n",
       "<table border=\"1\" class=\"dataframe\">\n",
       "  <thead>\n",
       "    <tr style=\"text-align: right;\">\n",
       "      <th></th>\n",
       "      <th>ID</th>\n",
       "      <th>Class</th>\n",
       "    </tr>\n",
       "  </thead>\n",
       "  <tbody>\n",
       "    <tr>\n",
       "      <th>0</th>\n",
       "      <td>AAAA0x1</td>\n",
       "      <td>0</td>\n",
       "    </tr>\n",
       "    <tr>\n",
       "      <th>1</th>\n",
       "      <td>AAAA0x2</td>\n",
       "      <td>0</td>\n",
       "    </tr>\n",
       "    <tr>\n",
       "      <th>2</th>\n",
       "      <td>AAAA0x5</td>\n",
       "      <td>0</td>\n",
       "    </tr>\n",
       "    <tr>\n",
       "      <th>3</th>\n",
       "      <td>AAAA0x7</td>\n",
       "      <td>0</td>\n",
       "    </tr>\n",
       "    <tr>\n",
       "      <th>4</th>\n",
       "      <td>AAAA0xc</td>\n",
       "      <td>0</td>\n",
       "    </tr>\n",
       "  </tbody>\n",
       "</table>\n",
       "</div>"
      ],
      "text/plain": [
       "        ID  Class\n",
       "0  AAAA0x1      0\n",
       "1  AAAA0x2      0\n",
       "2  AAAA0x5      0\n",
       "3  AAAA0x7      0\n",
       "4  AAAA0xc      0"
      ]
     },
     "execution_count": 78,
     "metadata": {},
     "output_type": "execute_result"
    }
   ],
   "source": [
    "columns = submit.columns[1:-1]\n",
    "submit.drop(columns=columns, inplace=True)\n",
    "submit.head()"
   ]
  },
  {
   "cell_type": "code",
   "execution_count": 79,
   "id": "70587e3f-cc05-4430-9785-ef59e032ce5f",
   "metadata": {},
   "outputs": [],
   "source": [
    "submit.to_csv('./submit_EllipticEnvelope_ensseble.csv', index=False)"
   ]
  },
  {
   "cell_type": "code",
   "execution_count": 80,
   "id": "992222df-fd49-4f9d-92fa-8f3c3a225aee",
   "metadata": {},
   "outputs": [
    {
     "data": {
      "text/plain": [
       "0    142184\n",
       "1       319\n",
       "Name: Class, dtype: int64"
      ]
     },
     "execution_count": 80,
     "metadata": {},
     "output_type": "execute_result"
    }
   ],
   "source": [
    "submit.Class.value_counts()"
   ]
  },
  {
   "cell_type": "code",
   "execution_count": null,
   "id": "1faee9d3-5298-458b-8046-1612c56ec1d6",
   "metadata": {},
   "outputs": [],
   "source": []
  }
 ],
 "metadata": {
  "kernelspec": {
   "display_name": "pytorch",
   "language": "python",
   "name": "pytorch"
  },
  "language_info": {
   "codemirror_mode": {
    "name": "ipython",
    "version": 3
   },
   "file_extension": ".py",
   "mimetype": "text/x-python",
   "name": "python",
   "nbconvert_exporter": "python",
   "pygments_lexer": "ipython3",
   "version": "3.8.13"
  }
 },
 "nbformat": 4,
 "nbformat_minor": 5
}
