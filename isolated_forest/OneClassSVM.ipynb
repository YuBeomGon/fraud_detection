{
 "cells": [
  {
   "cell_type": "code",
   "execution_count": 19,
   "id": "47cf2309-2c67-4496-830b-c04bdb055bbe",
   "metadata": {},
   "outputs": [],
   "source": [
    "import torch\n",
    "import pandas as pd\n",
    "import numpy as np\n",
    "import sklearn\n",
    "\n",
    "from sklearn import linear_model\n",
    "from sklearn.svm import OneClassSVM\n",
    "from sklearn.linear_model import SGDOneClassSVM\n",
    "from sklearn.metrics import f1_score, confusion_matrix, classification_report\n",
    "from sklearn.kernel_approximation import Nystroem\n",
    "from sklearn.pipeline import make_pipeline\n",
    "from sklearn.neighbors import LocalOutlierFactor\n",
    "\n",
    "import matplotlib.pyplot as plt\n",
    "\n",
    "import warnings\n",
    "warnings.filterwarnings(action='ignore')"
   ]
  },
  {
   "cell_type": "code",
   "execution_count": 20,
   "id": "bc441e9a-3540-4f4d-b17a-c4dbc92e6207",
   "metadata": {},
   "outputs": [],
   "source": [
    "train = pd.read_csv('../dataset/train.csv')\n",
    "val = pd.read_csv('../dataset/val.csv')\n",
    "test = pd.read_csv('../dataset/test.csv')"
   ]
  },
  {
   "cell_type": "code",
   "execution_count": 21,
   "id": "7bb17a09-4ce5-47c1-8ef6-ecc714e6fbac",
   "metadata": {},
   "outputs": [
    {
     "name": "stdout",
     "output_type": "stream",
     "text": [
      "28432 30 0.0010551491277433877\n"
     ]
    }
   ],
   "source": [
    "val_normal, val_abnormal = val.Class.value_counts()\n",
    "val_ratio = val_abnormal / val_normal\n",
    "print(val_normal, val_abnormal, val_ratio)\n"
   ]
  },
  {
   "cell_type": "code",
   "execution_count": 22,
   "id": "dd7ba018-3313-4245-80e1-15fe67f88afd",
   "metadata": {},
   "outputs": [],
   "source": [
    "train_x = train.drop(columns=['ID'])\n",
    "val_x = val.drop(columns=['ID', 'Class'])\n",
    "val_y = val['Class']"
   ]
  },
  {
   "cell_type": "code",
   "execution_count": 17,
   "id": "9eaea718-7a05-4c4a-acbd-8c4ebc517348",
   "metadata": {},
   "outputs": [],
   "source": [
    "# clf = LocalOutlierFactor(n_neighbors=2, novelty=True)\n",
    "# clf.fit(train_x)\n",
    "# pred_y = clf.predict(val_x)"
   ]
  },
  {
   "cell_type": "code",
   "execution_count": 64,
   "id": "07fa859f-ea88-415b-8c4e-e5b624c16ab7",
   "metadata": {},
   "outputs": [
    {
     "data": {
      "text/html": [
       "<style>#sk-container-id-7 {color: black;background-color: white;}#sk-container-id-7 pre{padding: 0;}#sk-container-id-7 div.sk-toggleable {background-color: white;}#sk-container-id-7 label.sk-toggleable__label {cursor: pointer;display: block;width: 100%;margin-bottom: 0;padding: 0.3em;box-sizing: border-box;text-align: center;}#sk-container-id-7 label.sk-toggleable__label-arrow:before {content: \"▸\";float: left;margin-right: 0.25em;color: #696969;}#sk-container-id-7 label.sk-toggleable__label-arrow:hover:before {color: black;}#sk-container-id-7 div.sk-estimator:hover label.sk-toggleable__label-arrow:before {color: black;}#sk-container-id-7 div.sk-toggleable__content {max-height: 0;max-width: 0;overflow: hidden;text-align: left;background-color: #f0f8ff;}#sk-container-id-7 div.sk-toggleable__content pre {margin: 0.2em;color: black;border-radius: 0.25em;background-color: #f0f8ff;}#sk-container-id-7 input.sk-toggleable__control:checked~div.sk-toggleable__content {max-height: 200px;max-width: 100%;overflow: auto;}#sk-container-id-7 input.sk-toggleable__control:checked~label.sk-toggleable__label-arrow:before {content: \"▾\";}#sk-container-id-7 div.sk-estimator input.sk-toggleable__control:checked~label.sk-toggleable__label {background-color: #d4ebff;}#sk-container-id-7 div.sk-label input.sk-toggleable__control:checked~label.sk-toggleable__label {background-color: #d4ebff;}#sk-container-id-7 input.sk-hidden--visually {border: 0;clip: rect(1px 1px 1px 1px);clip: rect(1px, 1px, 1px, 1px);height: 1px;margin: -1px;overflow: hidden;padding: 0;position: absolute;width: 1px;}#sk-container-id-7 div.sk-estimator {font-family: monospace;background-color: #f0f8ff;border: 1px dotted black;border-radius: 0.25em;box-sizing: border-box;margin-bottom: 0.5em;}#sk-container-id-7 div.sk-estimator:hover {background-color: #d4ebff;}#sk-container-id-7 div.sk-parallel-item::after {content: \"\";width: 100%;border-bottom: 1px solid gray;flex-grow: 1;}#sk-container-id-7 div.sk-label:hover label.sk-toggleable__label {background-color: #d4ebff;}#sk-container-id-7 div.sk-serial::before {content: \"\";position: absolute;border-left: 1px solid gray;box-sizing: border-box;top: 0;bottom: 0;left: 50%;z-index: 0;}#sk-container-id-7 div.sk-serial {display: flex;flex-direction: column;align-items: center;background-color: white;padding-right: 0.2em;padding-left: 0.2em;position: relative;}#sk-container-id-7 div.sk-item {position: relative;z-index: 1;}#sk-container-id-7 div.sk-parallel {display: flex;align-items: stretch;justify-content: center;background-color: white;position: relative;}#sk-container-id-7 div.sk-item::before, #sk-container-id-7 div.sk-parallel-item::before {content: \"\";position: absolute;border-left: 1px solid gray;box-sizing: border-box;top: 0;bottom: 0;left: 50%;z-index: -1;}#sk-container-id-7 div.sk-parallel-item {display: flex;flex-direction: column;z-index: 1;position: relative;background-color: white;}#sk-container-id-7 div.sk-parallel-item:first-child::after {align-self: flex-end;width: 50%;}#sk-container-id-7 div.sk-parallel-item:last-child::after {align-self: flex-start;width: 50%;}#sk-container-id-7 div.sk-parallel-item:only-child::after {width: 0;}#sk-container-id-7 div.sk-dashed-wrapped {border: 1px dashed gray;margin: 0 0.4em 0.5em 0.4em;box-sizing: border-box;padding-bottom: 0.4em;background-color: white;}#sk-container-id-7 div.sk-label label {font-family: monospace;font-weight: bold;display: inline-block;line-height: 1.2em;}#sk-container-id-7 div.sk-label-container {text-align: center;}#sk-container-id-7 div.sk-container {/* jupyter's `normalize.less` sets `[hidden] { display: none; }` but bootstrap.min.css set `[hidden] { display: none !important; }` so we also need the `!important` here to be able to override the default hidden behavior on the sphinx rendered scikit-learn.org. See: https://github.com/scikit-learn/scikit-learn/issues/21755 */display: inline-block !important;position: relative;}#sk-container-id-7 div.sk-text-repr-fallback {display: none;}</style><div id=\"sk-container-id-7\" class=\"sk-top-container\"><div class=\"sk-text-repr-fallback\"><pre>OneClassSVM(kernel=&#x27;poly&#x27;, nu=0.0010551491277433877)</pre><b>In a Jupyter environment, please rerun this cell to show the HTML representation or trust the notebook. <br />On GitHub, the HTML representation is unable to render, please try loading this page with nbviewer.org.</b></div><div class=\"sk-container\" hidden><div class=\"sk-item\"><div class=\"sk-estimator sk-toggleable\"><input class=\"sk-toggleable__control sk-hidden--visually\" id=\"sk-estimator-id-7\" type=\"checkbox\" checked><label for=\"sk-estimator-id-7\" class=\"sk-toggleable__label sk-toggleable__label-arrow\">OneClassSVM</label><div class=\"sk-toggleable__content\"><pre>OneClassSVM(kernel=&#x27;poly&#x27;, nu=0.0010551491277433877)</pre></div></div></div></div></div>"
      ],
      "text/plain": [
       "OneClassSVM(kernel='poly', nu=0.0010551491277433877)"
      ]
     },
     "execution_count": 64,
     "metadata": {},
     "output_type": "execute_result"
    }
   ],
   "source": [
    "# fit the model\n",
    "# clf = OneClassSVM(nu=val_ratio, kernel=\"rbf\", gamma=0.1)\n",
    "clf = OneClassSVM(nu=val_ratio, kernel=\"poly\", gamma='scale')\n",
    "clf.fit(train_x)\n"
   ]
  },
  {
   "cell_type": "code",
   "execution_count": 65,
   "id": "dd98957e-960c-44fb-b463-2b39e2135c6a",
   "metadata": {},
   "outputs": [],
   "source": [
    "def get_pred(model, x, k) :\n",
    "    prob = model.score_samples(x)\n",
    "    prob = torch.tensor(prob, dtype=torch.float)\n",
    "    topk_indices = torch.topk(prob, k=k, largest=False).indices\n",
    "    \n",
    "    pred = torch.zeros(len(x), dtype=torch.int8)\n",
    "    pred[topk_indices] = 1\n",
    "    \n",
    "    return pred.tolist(), prob.tolist()"
   ]
  },
  {
   "cell_type": "code",
   "execution_count": 89,
   "id": "e43be014-d13e-4bdd-8644-8ec46fa40853",
   "metadata": {},
   "outputs": [],
   "source": [
    "val_pred, val_prob = get_pred(clf, val_x, 29)"
   ]
  },
  {
   "cell_type": "code",
   "execution_count": 90,
   "id": "0734a6c7-73ac-4dbc-a377-781b57e484cb",
   "metadata": {},
   "outputs": [
    {
     "data": {
      "text/plain": [
       "0.5164479655204789"
      ]
     },
     "execution_count": 90,
     "metadata": {},
     "output_type": "execute_result"
    }
   ],
   "source": [
    "val_score = f1_score(val_y, val_pred, average='macro')\n",
    "val_score"
   ]
  },
  {
   "cell_type": "code",
   "execution_count": 91,
   "id": "5c6d3102-2aae-49d8-abc2-48ebf96a9bde",
   "metadata": {},
   "outputs": [
    {
     "name": "stdout",
     "output_type": "stream",
     "text": [
      "              precision    recall  f1-score   support\n",
      "\n",
      "           0       1.00      1.00      1.00     28432\n",
      "           1       0.03      0.03      0.03        30\n",
      "\n",
      "    accuracy                           1.00     28462\n",
      "   macro avg       0.52      0.52      0.52     28462\n",
      "weighted avg       1.00      1.00      1.00     28462\n",
      "\n"
     ]
    }
   ],
   "source": [
    "print(classification_report(val_y, val_pred))"
   ]
  },
  {
   "cell_type": "code",
   "execution_count": 92,
   "id": "62c28892-05b5-4c6d-a59c-9cda0ca24831",
   "metadata": {},
   "outputs": [
    {
     "data": {
      "text/plain": [
       "array([[28404,    28],\n",
       "       [   29,     1]])"
      ]
     },
     "execution_count": 92,
     "metadata": {},
     "output_type": "execute_result"
    }
   ],
   "source": [
    "confusion_matrix(val_y, val_pred)"
   ]
  },
  {
   "cell_type": "code",
   "execution_count": 93,
   "id": "1b1a87f8-aca3-4253-92e5-8db3a5c5a559",
   "metadata": {},
   "outputs": [],
   "source": [
    "# val_pred"
   ]
  },
  {
   "cell_type": "code",
   "execution_count": 96,
   "id": "03f654ae-1a65-4d53-a7a9-61da1ffbe533",
   "metadata": {},
   "outputs": [
    {
     "data": {
      "text/plain": [
       "(array([  477,   764,   918,  3666,  5602,  5864,  5882,  7541,  9890,\n",
       "        12797, 13539, 14767, 14833, 14889, 15092, 17082, 17767, 18238,\n",
       "        20460, 20836, 21607, 22646, 22856, 23407, 24100, 24907, 26018,\n",
       "        27913, 28414]),)"
      ]
     },
     "execution_count": 96,
     "metadata": {},
     "output_type": "execute_result"
    }
   ],
   "source": [
    "np.where(np.array(val_pred) == 1)"
   ]
  },
  {
   "cell_type": "code",
   "execution_count": null,
   "id": "729bb70f-9a93-43f6-a508-6d17b63f8bdc",
   "metadata": {},
   "outputs": [],
   "source": []
  },
  {
   "cell_type": "code",
   "execution_count": null,
   "id": "6b20dfda-5844-4754-b7f2-04af28686224",
   "metadata": {},
   "outputs": [],
   "source": []
  },
  {
   "cell_type": "code",
   "execution_count": null,
   "id": "520cae8f-4301-4a5c-9952-e1c1f84957ce",
   "metadata": {},
   "outputs": [],
   "source": []
  }
 ],
 "metadata": {
  "kernelspec": {
   "display_name": "pytorch",
   "language": "python",
   "name": "pytorch"
  },
  "language_info": {
   "codemirror_mode": {
    "name": "ipython",
    "version": 3
   },
   "file_extension": ".py",
   "mimetype": "text/x-python",
   "name": "python",
   "nbconvert_exporter": "python",
   "pygments_lexer": "ipython3",
   "version": "3.8.13"
  }
 },
 "nbformat": 4,
 "nbformat_minor": 5
}
