{
 "cells": [
  {
   "cell_type": "code",
   "execution_count": 1,
   "id": "18d9cd32-48c9-4dff-b7d3-b270d63c4935",
   "metadata": {},
   "outputs": [],
   "source": [
    "import pandas as pd\n",
    "import numpy as np\n",
    "import matplotlib.pyplot as plt\n",
    "import seaborn as sns\n",
    "%matplotlib inline\n",
    "\n",
    "from sklearn.ensemble import IsolationForest\n",
    "from sklearn.metrics import f1_score\n",
    "from sklearn.metrics import classification_report\n",
    "from sklearn.metrics import roc_curve, precision_recall_curve, auc,roc_auc_score,average_precision_score\n",
    "\n",
    "from sklearn.preprocessing import StandardScaler"
   ]
  },
  {
   "cell_type": "code",
   "execution_count": 2,
   "id": "07dd1e83-6aea-4ed5-ad77-eda13362b76e",
   "metadata": {},
   "outputs": [],
   "source": [
    "train_df = pd.read_csv('../dataset/train.csv')\n",
    "val_df = pd.read_csv('../dataset/val.csv')\n",
    "test_df = pd.read_csv('../dataset/test.csv')"
   ]
  },
  {
   "cell_type": "code",
   "execution_count": 3,
   "id": "96ed9dc8-e717-4973-842c-7b09d3f45ee5",
   "metadata": {},
   "outputs": [],
   "source": [
    "from sklearn.preprocessing import RobustScaler, StandardScaler, MinMaxScaler\n",
    "col=[col for col in val_df.columns if col not in ['ID','Class']]\n",
    "\n",
    "for i in col:\n",
    "    sc=RobustScaler()\n",
    "    train_df[i]=sc.fit_transform(train_df[i].values.reshape(-1,1))\n",
    "    val_df[i]=sc.transform(val_df[i].values.reshape(-1,1))\n",
    "    test_df[i]=sc.transform(test_df[i].values.reshape(-1,1))"
   ]
  },
  {
   "cell_type": "code",
   "execution_count": 4,
   "id": "315ba520-4a31-4b0a-a93a-54247523cb9a",
   "metadata": {},
   "outputs": [],
   "source": [
    "# train_df['cls'] = 'train'\n",
    "# val_df['cls'] = 'val'\n",
    "# test_df['cls'] = 'test'"
   ]
  },
  {
   "cell_type": "code",
   "execution_count": 5,
   "id": "d608a98d-f9ba-4a4c-861b-ea78bcda33a4",
   "metadata": {},
   "outputs": [],
   "source": [
    "# df = pd.concat([train_df, val_df.drop(columns=['Class'], axis=1), test_df], axis=0)\n",
    "# df.reset_index(drop=True, inplace=True)\n",
    "# df.shape"
   ]
  },
  {
   "cell_type": "code",
   "execution_count": 6,
   "id": "dba9c170-f193-494c-ad3d-419f74cd3582",
   "metadata": {},
   "outputs": [],
   "source": [
    "u, s, v = np.linalg.svd(train_df.drop(columns=['ID'], axis=1).to_numpy(), full_matrices=False)"
   ]
  },
  {
   "cell_type": "code",
   "execution_count": 7,
   "id": "000512ec-9afd-4439-8ade-475a92c0c883",
   "metadata": {},
   "outputs": [
    {
     "name": "stdout",
     "output_type": "stream",
     "text": [
      "(113842, 30)\n",
      "(30, 30)\n"
     ]
    },
    {
     "data": {
      "text/plain": [
       "array([1278.31587653,  923.02866545,  831.5758778 ,  743.96379981,\n",
       "        719.93720733,  659.6348925 ,  578.43414006,  392.63750934,\n",
       "        383.99020809,  369.01430811,  361.70525652,  346.8854685 ,\n",
       "        331.55525639,  312.36230932,  303.3202389 ,  300.88841083,\n",
       "        300.45109438,  298.92743991,  296.50955018,  287.711925  ,\n",
       "        287.22094797,  266.57576546,  259.6877166 ,  257.87966741,\n",
       "        256.23595985,  252.12659428,  232.53828975,  226.48695432,\n",
       "        124.41829001,  116.51372244])"
      ]
     },
     "execution_count": 7,
     "metadata": {},
     "output_type": "execute_result"
    }
   ],
   "source": [
    "print(u.shape)\n",
    "print(v.shape)\n",
    "s"
   ]
  },
  {
   "cell_type": "code",
   "execution_count": 8,
   "id": "86895cec-d798-41ab-b5d1-8a00320d79e4",
   "metadata": {},
   "outputs": [
    {
     "data": {
      "text/plain": [
       "array([  0.        , 923.02866545, 831.5758778 , 743.96379981,\n",
       "       719.93720733, 659.6348925 , 578.43414006, 392.63750934,\n",
       "       383.99020809, 369.01430811, 361.70525652, 346.8854685 ,\n",
       "       331.55525639, 312.36230932, 303.3202389 , 300.88841083,\n",
       "       300.45109438, 298.92743991, 296.50955018, 287.711925  ,\n",
       "       287.22094797, 266.57576546, 259.6877166 , 257.87966741,\n",
       "       256.23595985, 252.12659428, 232.53828975, 226.48695432,\n",
       "       124.41829001, 116.51372244])"
      ]
     },
     "execution_count": 8,
     "metadata": {},
     "output_type": "execute_result"
    }
   ],
   "source": [
    "s[:1] = 0\n",
    "s"
   ]
  },
  {
   "cell_type": "code",
   "execution_count": 9,
   "id": "99b75414-956f-4747-a275-3766e43d1432",
   "metadata": {},
   "outputs": [
    {
     "data": {
      "text/plain": [
       "(113842, 30)"
      ]
     },
     "execution_count": 9,
     "metadata": {},
     "output_type": "execute_result"
    }
   ],
   "source": [
    "train = pd.DataFrame(u @ np.diag(s) @ v)\n",
    "train.shape"
   ]
  },
  {
   "cell_type": "code",
   "execution_count": 10,
   "id": "30c0376f-2a75-40ec-a11d-6d9a390399b9",
   "metadata": {},
   "outputs": [
    {
     "data": {
      "text/plain": [
       "array([635.84907593, 412.42398601, 396.5354038 , 347.8739693 ,\n",
       "       325.09660704, 304.77998353, 273.11755181, 192.58933042,\n",
       "       186.1350304 , 182.73312737, 181.14346537, 173.63576211,\n",
       "       167.52087355, 156.06270339, 150.509728  , 149.55735871,\n",
       "       149.49693884, 148.05117585, 146.28984452, 145.39915159,\n",
       "       143.68538213, 138.70931491, 132.04636009, 129.00092592,\n",
       "       128.2035067 , 125.51971999, 116.6876217 , 113.64423059,\n",
       "        62.22020122,  51.48874989])"
      ]
     },
     "execution_count": 10,
     "metadata": {},
     "output_type": "execute_result"
    }
   ],
   "source": [
    "u, s, v = np.linalg.svd(val_df.drop(columns=['ID', 'Class'], axis=1).to_numpy(), full_matrices=False)\n",
    "s\n"
   ]
  },
  {
   "cell_type": "code",
   "execution_count": 11,
   "id": "6b179df0-7bd5-4ce8-9914-3b2c6596f1fa",
   "metadata": {},
   "outputs": [],
   "source": [
    "s[:1] = 0\n",
    "val = pd.DataFrame(u @ np.diag(s) @ v)"
   ]
  },
  {
   "cell_type": "code",
   "execution_count": 12,
   "id": "9d7590bb-84af-44bd-9901-c5eb0b0a69d9",
   "metadata": {},
   "outputs": [
    {
     "data": {
      "text/html": [
       "<div>\n",
       "<style scoped>\n",
       "    .dataframe tbody tr th:only-of-type {\n",
       "        vertical-align: middle;\n",
       "    }\n",
       "\n",
       "    .dataframe tbody tr th {\n",
       "        vertical-align: top;\n",
       "    }\n",
       "\n",
       "    .dataframe thead th {\n",
       "        text-align: right;\n",
       "    }\n",
       "</style>\n",
       "<table border=\"1\" class=\"dataframe\">\n",
       "  <thead>\n",
       "    <tr style=\"text-align: right;\">\n",
       "      <th></th>\n",
       "      <th>0</th>\n",
       "      <th>1</th>\n",
       "      <th>2</th>\n",
       "      <th>3</th>\n",
       "      <th>4</th>\n",
       "      <th>5</th>\n",
       "      <th>6</th>\n",
       "      <th>7</th>\n",
       "      <th>8</th>\n",
       "      <th>9</th>\n",
       "      <th>...</th>\n",
       "      <th>20</th>\n",
       "      <th>21</th>\n",
       "      <th>22</th>\n",
       "      <th>23</th>\n",
       "      <th>24</th>\n",
       "      <th>25</th>\n",
       "      <th>26</th>\n",
       "      <th>27</th>\n",
       "      <th>28</th>\n",
       "      <th>29</th>\n",
       "    </tr>\n",
       "  </thead>\n",
       "  <tbody>\n",
       "    <tr>\n",
       "      <th>0</th>\n",
       "      <td>-0.163530</td>\n",
       "      <td>0.728568</td>\n",
       "      <td>0.441554</td>\n",
       "      <td>-0.124136</td>\n",
       "      <td>0.411199</td>\n",
       "      <td>0.032112</td>\n",
       "      <td>0.560521</td>\n",
       "      <td>0.081138</td>\n",
       "      <td>-0.553856</td>\n",
       "      <td>-0.282432</td>\n",
       "      <td>...</td>\n",
       "      <td>-0.509154</td>\n",
       "      <td>-0.602729</td>\n",
       "      <td>-0.357694</td>\n",
       "      <td>-0.536623</td>\n",
       "      <td>-0.132761</td>\n",
       "      <td>0.260169</td>\n",
       "      <td>1.505955</td>\n",
       "      <td>0.549246</td>\n",
       "      <td>-0.109937</td>\n",
       "      <td>-0.990470</td>\n",
       "    </tr>\n",
       "    <tr>\n",
       "      <th>1</th>\n",
       "      <td>0.423012</td>\n",
       "      <td>0.182194</td>\n",
       "      <td>-0.186341</td>\n",
       "      <td>1.334369</td>\n",
       "      <td>0.904835</td>\n",
       "      <td>1.682646</td>\n",
       "      <td>0.064255</td>\n",
       "      <td>0.928759</td>\n",
       "      <td>-0.920229</td>\n",
       "      <td>0.823776</td>\n",
       "      <td>...</td>\n",
       "      <td>0.421777</td>\n",
       "      <td>0.368255</td>\n",
       "      <td>-0.118589</td>\n",
       "      <td>-1.779419</td>\n",
       "      <td>0.556197</td>\n",
       "      <td>0.446009</td>\n",
       "      <td>0.090972</td>\n",
       "      <td>-0.196374</td>\n",
       "      <td>0.200794</td>\n",
       "      <td>-0.991059</td>\n",
       "    </tr>\n",
       "    <tr>\n",
       "      <th>2</th>\n",
       "      <td>0.507457</td>\n",
       "      <td>0.368305</td>\n",
       "      <td>0.006360</td>\n",
       "      <td>1.639636</td>\n",
       "      <td>-0.027025</td>\n",
       "      <td>-0.660772</td>\n",
       "      <td>0.437087</td>\n",
       "      <td>-0.487218</td>\n",
       "      <td>-0.681585</td>\n",
       "      <td>0.858958</td>\n",
       "      <td>...</td>\n",
       "      <td>0.097536</td>\n",
       "      <td>-0.119429</td>\n",
       "      <td>-0.206267</td>\n",
       "      <td>0.819855</td>\n",
       "      <td>0.919925</td>\n",
       "      <td>0.178964</td>\n",
       "      <td>-0.336766</td>\n",
       "      <td>0.038736</td>\n",
       "      <td>0.145722</td>\n",
       "      <td>-0.991109</td>\n",
       "    </tr>\n",
       "    <tr>\n",
       "      <th>3</th>\n",
       "      <td>0.416752</td>\n",
       "      <td>-0.250357</td>\n",
       "      <td>0.113358</td>\n",
       "      <td>0.349913</td>\n",
       "      <td>0.245779</td>\n",
       "      <td>1.629816</td>\n",
       "      <td>-0.432335</td>\n",
       "      <td>1.115750</td>\n",
       "      <td>0.225986</td>\n",
       "      <td>-0.132487</td>\n",
       "      <td>...</td>\n",
       "      <td>-0.038294</td>\n",
       "      <td>0.068814</td>\n",
       "      <td>0.359892</td>\n",
       "      <td>-1.300997</td>\n",
       "      <td>0.101290</td>\n",
       "      <td>0.757833</td>\n",
       "      <td>0.217351</td>\n",
       "      <td>-0.131350</td>\n",
       "      <td>0.165744</td>\n",
       "      <td>-0.991920</td>\n",
       "    </tr>\n",
       "    <tr>\n",
       "      <th>4</th>\n",
       "      <td>-1.265418</td>\n",
       "      <td>2.107212</td>\n",
       "      <td>0.751219</td>\n",
       "      <td>-1.537748</td>\n",
       "      <td>0.430197</td>\n",
       "      <td>-0.590337</td>\n",
       "      <td>1.644496</td>\n",
       "      <td>-3.333499</td>\n",
       "      <td>3.291489</td>\n",
       "      <td>6.250170</td>\n",
       "      <td>...</td>\n",
       "      <td>-2.116974</td>\n",
       "      <td>-0.153039</td>\n",
       "      <td>-0.405217</td>\n",
       "      <td>0.603865</td>\n",
       "      <td>0.191438</td>\n",
       "      <td>0.894222</td>\n",
       "      <td>-1.518527</td>\n",
       "      <td>-8.527418</td>\n",
       "      <td>-1.985781</td>\n",
       "      <td>-1.000961</td>\n",
       "    </tr>\n",
       "  </tbody>\n",
       "</table>\n",
       "<p>5 rows × 30 columns</p>\n",
       "</div>"
      ],
      "text/plain": [
       "         0         1         2         3         4         5         6   \\\n",
       "0 -0.163530  0.728568  0.441554 -0.124136  0.411199  0.032112  0.560521   \n",
       "1  0.423012  0.182194 -0.186341  1.334369  0.904835  1.682646  0.064255   \n",
       "2  0.507457  0.368305  0.006360  1.639636 -0.027025 -0.660772  0.437087   \n",
       "3  0.416752 -0.250357  0.113358  0.349913  0.245779  1.629816 -0.432335   \n",
       "4 -1.265418  2.107212  0.751219 -1.537748  0.430197 -0.590337  1.644496   \n",
       "\n",
       "         7         8         9   ...        20        21        22        23  \\\n",
       "0  0.081138 -0.553856 -0.282432  ... -0.509154 -0.602729 -0.357694 -0.536623   \n",
       "1  0.928759 -0.920229  0.823776  ...  0.421777  0.368255 -0.118589 -1.779419   \n",
       "2 -0.487218 -0.681585  0.858958  ...  0.097536 -0.119429 -0.206267  0.819855   \n",
       "3  1.115750  0.225986 -0.132487  ... -0.038294  0.068814  0.359892 -1.300997   \n",
       "4 -3.333499  3.291489  6.250170  ... -2.116974 -0.153039 -0.405217  0.603865   \n",
       "\n",
       "         24        25        26        27        28        29  \n",
       "0 -0.132761  0.260169  1.505955  0.549246 -0.109937 -0.990470  \n",
       "1  0.556197  0.446009  0.090972 -0.196374  0.200794 -0.991059  \n",
       "2  0.919925  0.178964 -0.336766  0.038736  0.145722 -0.991109  \n",
       "3  0.101290  0.757833  0.217351 -0.131350  0.165744 -0.991920  \n",
       "4  0.191438  0.894222 -1.518527 -8.527418 -1.985781 -1.000961  \n",
       "\n",
       "[5 rows x 30 columns]"
      ]
     },
     "execution_count": 12,
     "metadata": {},
     "output_type": "execute_result"
    }
   ],
   "source": [
    "val.head()"
   ]
  },
  {
   "cell_type": "code",
   "execution_count": 13,
   "id": "a7c56108-0767-49b9-ad85-868e641bf838",
   "metadata": {},
   "outputs": [
    {
     "data": {
      "text/plain": [
       "IsolationForest(contamination=0.001, max_samples=0.25, n_jobs=-1,\n",
       "                random_state=7)"
      ]
     },
     "execution_count": 13,
     "metadata": {},
     "output_type": "execute_result"
    }
   ],
   "source": [
    "from sklearn.ensemble import IsolationForest\n",
    "\n",
    "IF=IsolationForest(n_estimators=100,n_jobs=-1,contamination=0.001,random_state=7,max_samples=0.25)\n",
    "# IF=IsolationForest(n_estimators=100,n_jobs=-1,contamination='auto',random_state=7,max_samples=0.25)\n",
    "IF.fit(train)\n"
   ]
  },
  {
   "cell_type": "code",
   "execution_count": 14,
   "id": "916d69f0-fa5f-4607-99af-65cb4349d853",
   "metadata": {},
   "outputs": [],
   "source": [
    "# X=val.drop(labels=['ID','Class', 'cls'],axis=1)\n",
    "# print(X.shape)\n",
    "val['If_predict']=IF.predict(val)\n",
    "val['If_predict'].replace({1:0,-1:1},inplace=True)\n",
    "val['Class'] = val_df['Class']"
   ]
  },
  {
   "cell_type": "code",
   "execution_count": 15,
   "id": "8b7515d1-2d0a-4921-ac3f-b94c1dbb79ef",
   "metadata": {},
   "outputs": [
    {
     "data": {
      "text/plain": [
       "0    28438\n",
       "1       24\n",
       "Name: If_predict, dtype: int64"
      ]
     },
     "execution_count": 15,
     "metadata": {},
     "output_type": "execute_result"
    }
   ],
   "source": [
    "val['If_predict'].value_counts()"
   ]
  },
  {
   "cell_type": "code",
   "execution_count": 16,
   "id": "8d86abb3-eeaf-47ed-946b-89bd881fa134",
   "metadata": {},
   "outputs": [
    {
     "data": {
      "text/plain": [
       "0    28432\n",
       "1       30\n",
       "Name: Class, dtype: int64"
      ]
     },
     "execution_count": 16,
     "metadata": {},
     "output_type": "execute_result"
    }
   ],
   "source": [
    "val['Class'].value_counts()"
   ]
  },
  {
   "cell_type": "code",
   "execution_count": 17,
   "id": "2640cb07-122a-44bb-a0a5-ec46fca64c28",
   "metadata": {},
   "outputs": [
    {
     "data": {
      "text/plain": [
       "0.7219584627708419"
      ]
     },
     "execution_count": 17,
     "metadata": {},
     "output_type": "execute_result"
    }
   ],
   "source": [
    "from sklearn.metrics import f1_score\n",
    "y_true = val.Class.values\n",
    "y_pred = val.If_predict.values\n",
    "f1_score(y_true, y_pred, average='macro')"
   ]
  },
  {
   "cell_type": "code",
   "execution_count": 18,
   "id": "ed75e648-b565-47e9-afef-40e8ffe68175",
   "metadata": {},
   "outputs": [
    {
     "name": "stdout",
     "output_type": "stream",
     "text": [
      "              precision    recall  f1-score   support\n",
      "\n",
      "           0       1.00      1.00      1.00     28432\n",
      "           1       0.50      0.40      0.44        30\n",
      "\n",
      "    accuracy                           1.00     28462\n",
      "   macro avg       0.75      0.70      0.72     28462\n",
      "weighted avg       1.00      1.00      1.00     28462\n",
      "\n"
     ]
    }
   ],
   "source": [
    "print(classification_report(y_true, y_pred))"
   ]
  },
  {
   "cell_type": "code",
   "execution_count": null,
   "id": "822443d0-8321-4077-90d9-7de77853ec37",
   "metadata": {},
   "outputs": [],
   "source": []
  }
 ],
 "metadata": {
  "kernelspec": {
   "display_name": "pytorch",
   "language": "python",
   "name": "pytorch"
  },
  "language_info": {
   "codemirror_mode": {
    "name": "ipython",
    "version": 3
   },
   "file_extension": ".py",
   "mimetype": "text/x-python",
   "name": "python",
   "nbconvert_exporter": "python",
   "pygments_lexer": "ipython3",
   "version": "3.7.9"
  }
 },
 "nbformat": 4,
 "nbformat_minor": 5
}
