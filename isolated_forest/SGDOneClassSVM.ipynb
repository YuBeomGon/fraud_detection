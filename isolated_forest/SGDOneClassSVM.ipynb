{
 "cells": [
  {
   "cell_type": "code",
   "execution_count": 21,
   "id": "75f5401f-1245-4a6f-9123-a67b3a7c19d0",
   "metadata": {},
   "outputs": [],
   "source": [
    "import torch\n",
    "import pandas as pd\n",
    "import numpy as np\n",
    "import sklearn\n",
    "\n",
    "from sklearn import linear_model\n",
    "from sklearn.svm import OneClassSVM\n",
    "from sklearn.linear_model import SGDOneClassSVM\n",
    "from sklearn.metrics import f1_score, confusion_matrix, classification_report\n",
    "from sklearn.kernel_approximation import Nystroem\n",
    "from sklearn.pipeline import make_pipeline\n",
    "\n",
    "import matplotlib.pyplot as plt\n",
    "\n",
    "import warnings\n",
    "warnings.filterwarnings(action='ignore')"
   ]
  },
  {
   "cell_type": "code",
   "execution_count": null,
   "id": "9fb237d8-37f7-47f0-b3aa-1f60e3bfd5d6",
   "metadata": {},
   "outputs": [],
   "source": []
  },
  {
   "cell_type": "code",
   "execution_count": 22,
   "id": "9a7eb69e-1a9d-4a26-8917-4f49dabce353",
   "metadata": {},
   "outputs": [],
   "source": [
    "pd.options.display.float_format = '{:.2f}'.format"
   ]
  },
  {
   "cell_type": "code",
   "execution_count": 23,
   "id": "380e879f-925e-4537-b019-85968ac33e14",
   "metadata": {},
   "outputs": [],
   "source": [
    "train = pd.read_csv('../dataset/train.csv')\n",
    "val = pd.read_csv('../dataset/val.csv')\n",
    "test = pd.read_csv('../dataset/test.csv')"
   ]
  },
  {
   "cell_type": "code",
   "execution_count": 24,
   "id": "2faa78ec-a687-4516-8d07-88a3363e8967",
   "metadata": {},
   "outputs": [
    {
     "name": "stdout",
     "output_type": "stream",
     "text": [
      "28432 30 0.0010551491277433877\n"
     ]
    }
   ],
   "source": [
    "val_normal, val_abnormal = val.Class.value_counts()\n",
    "val_ratio = val_abnormal / val_normal\n",
    "print(val_normal, val_abnormal, val_ratio)\n"
   ]
  },
  {
   "cell_type": "code",
   "execution_count": 25,
   "id": "242bd493-5161-4acd-86ed-7b179f8df397",
   "metadata": {},
   "outputs": [],
   "source": [
    "train_x = train.drop(columns=['ID'])"
   ]
  },
  {
   "cell_type": "code",
   "execution_count": 9,
   "id": "1e522db8-df42-417d-9edc-963dd71bda12",
   "metadata": {},
   "outputs": [],
   "source": [
    "nu = 0.05\n",
    "gamma = 2.0\n",
    "random_state = 42"
   ]
  },
  {
   "cell_type": "code",
   "execution_count": 10,
   "id": "a11a4bac-9007-4662-b8fe-98460a9bd353",
   "metadata": {},
   "outputs": [],
   "source": [
    "# Fit the One-Class SVM using a kernel approximation and SGD\n",
    "transform = Nystroem(gamma=gamma, random_state=random_state)"
   ]
  },
  {
   "cell_type": "code",
   "execution_count": 13,
   "id": "d635e2c1-fd15-4eb1-a16e-68f155e23a53",
   "metadata": {},
   "outputs": [
    {
     "data": {
      "text/html": [
       "<style>#sk-container-id-2 {color: black;background-color: white;}#sk-container-id-2 pre{padding: 0;}#sk-container-id-2 div.sk-toggleable {background-color: white;}#sk-container-id-2 label.sk-toggleable__label {cursor: pointer;display: block;width: 100%;margin-bottom: 0;padding: 0.3em;box-sizing: border-box;text-align: center;}#sk-container-id-2 label.sk-toggleable__label-arrow:before {content: \"▸\";float: left;margin-right: 0.25em;color: #696969;}#sk-container-id-2 label.sk-toggleable__label-arrow:hover:before {color: black;}#sk-container-id-2 div.sk-estimator:hover label.sk-toggleable__label-arrow:before {color: black;}#sk-container-id-2 div.sk-toggleable__content {max-height: 0;max-width: 0;overflow: hidden;text-align: left;background-color: #f0f8ff;}#sk-container-id-2 div.sk-toggleable__content pre {margin: 0.2em;color: black;border-radius: 0.25em;background-color: #f0f8ff;}#sk-container-id-2 input.sk-toggleable__control:checked~div.sk-toggleable__content {max-height: 200px;max-width: 100%;overflow: auto;}#sk-container-id-2 input.sk-toggleable__control:checked~label.sk-toggleable__label-arrow:before {content: \"▾\";}#sk-container-id-2 div.sk-estimator input.sk-toggleable__control:checked~label.sk-toggleable__label {background-color: #d4ebff;}#sk-container-id-2 div.sk-label input.sk-toggleable__control:checked~label.sk-toggleable__label {background-color: #d4ebff;}#sk-container-id-2 input.sk-hidden--visually {border: 0;clip: rect(1px 1px 1px 1px);clip: rect(1px, 1px, 1px, 1px);height: 1px;margin: -1px;overflow: hidden;padding: 0;position: absolute;width: 1px;}#sk-container-id-2 div.sk-estimator {font-family: monospace;background-color: #f0f8ff;border: 1px dotted black;border-radius: 0.25em;box-sizing: border-box;margin-bottom: 0.5em;}#sk-container-id-2 div.sk-estimator:hover {background-color: #d4ebff;}#sk-container-id-2 div.sk-parallel-item::after {content: \"\";width: 100%;border-bottom: 1px solid gray;flex-grow: 1;}#sk-container-id-2 div.sk-label:hover label.sk-toggleable__label {background-color: #d4ebff;}#sk-container-id-2 div.sk-serial::before {content: \"\";position: absolute;border-left: 1px solid gray;box-sizing: border-box;top: 0;bottom: 0;left: 50%;z-index: 0;}#sk-container-id-2 div.sk-serial {display: flex;flex-direction: column;align-items: center;background-color: white;padding-right: 0.2em;padding-left: 0.2em;position: relative;}#sk-container-id-2 div.sk-item {position: relative;z-index: 1;}#sk-container-id-2 div.sk-parallel {display: flex;align-items: stretch;justify-content: center;background-color: white;position: relative;}#sk-container-id-2 div.sk-item::before, #sk-container-id-2 div.sk-parallel-item::before {content: \"\";position: absolute;border-left: 1px solid gray;box-sizing: border-box;top: 0;bottom: 0;left: 50%;z-index: -1;}#sk-container-id-2 div.sk-parallel-item {display: flex;flex-direction: column;z-index: 1;position: relative;background-color: white;}#sk-container-id-2 div.sk-parallel-item:first-child::after {align-self: flex-end;width: 50%;}#sk-container-id-2 div.sk-parallel-item:last-child::after {align-self: flex-start;width: 50%;}#sk-container-id-2 div.sk-parallel-item:only-child::after {width: 0;}#sk-container-id-2 div.sk-dashed-wrapped {border: 1px dashed gray;margin: 0 0.4em 0.5em 0.4em;box-sizing: border-box;padding-bottom: 0.4em;background-color: white;}#sk-container-id-2 div.sk-label label {font-family: monospace;font-weight: bold;display: inline-block;line-height: 1.2em;}#sk-container-id-2 div.sk-label-container {text-align: center;}#sk-container-id-2 div.sk-container {/* jupyter's `normalize.less` sets `[hidden] { display: none; }` but bootstrap.min.css set `[hidden] { display: none !important; }` so we also need the `!important` here to be able to override the default hidden behavior on the sphinx rendered scikit-learn.org. See: https://github.com/scikit-learn/scikit-learn/issues/21755 */display: inline-block !important;position: relative;}#sk-container-id-2 div.sk-text-repr-fallback {display: none;}</style><div id=\"sk-container-id-2\" class=\"sk-top-container\"><div class=\"sk-text-repr-fallback\"><pre>Pipeline(steps=[(&#x27;nystroem&#x27;, Nystroem(gamma=2.0, random_state=42)),\n",
       "                (&#x27;sgdoneclasssvm&#x27;,\n",
       "                 SGDOneClassSVM(nu=0.05, random_state=42, tol=0.0001))])</pre><b>In a Jupyter environment, please rerun this cell to show the HTML representation or trust the notebook. <br />On GitHub, the HTML representation is unable to render, please try loading this page with nbviewer.org.</b></div><div class=\"sk-container\" hidden><div class=\"sk-item sk-dashed-wrapped\"><div class=\"sk-label-container\"><div class=\"sk-label sk-toggleable\"><input class=\"sk-toggleable__control sk-hidden--visually\" id=\"sk-estimator-id-2\" type=\"checkbox\" ><label for=\"sk-estimator-id-2\" class=\"sk-toggleable__label sk-toggleable__label-arrow\">Pipeline</label><div class=\"sk-toggleable__content\"><pre>Pipeline(steps=[(&#x27;nystroem&#x27;, Nystroem(gamma=2.0, random_state=42)),\n",
       "                (&#x27;sgdoneclasssvm&#x27;,\n",
       "                 SGDOneClassSVM(nu=0.05, random_state=42, tol=0.0001))])</pre></div></div></div><div class=\"sk-serial\"><div class=\"sk-item\"><div class=\"sk-estimator sk-toggleable\"><input class=\"sk-toggleable__control sk-hidden--visually\" id=\"sk-estimator-id-3\" type=\"checkbox\" ><label for=\"sk-estimator-id-3\" class=\"sk-toggleable__label sk-toggleable__label-arrow\">Nystroem</label><div class=\"sk-toggleable__content\"><pre>Nystroem(gamma=2.0, random_state=42)</pre></div></div></div><div class=\"sk-item\"><div class=\"sk-estimator sk-toggleable\"><input class=\"sk-toggleable__control sk-hidden--visually\" id=\"sk-estimator-id-4\" type=\"checkbox\" ><label for=\"sk-estimator-id-4\" class=\"sk-toggleable__label sk-toggleable__label-arrow\">SGDOneClassSVM</label><div class=\"sk-toggleable__content\"><pre>SGDOneClassSVM(nu=0.05, random_state=42, tol=0.0001)</pre></div></div></div></div></div></div></div>"
      ],
      "text/plain": [
       "Pipeline(steps=[('nystroem', Nystroem(gamma=2.0, random_state=42)),\n",
       "                ('sgdoneclasssvm',\n",
       "                 SGDOneClassSVM(nu=0.05, random_state=42, tol=0.0001))])"
      ]
     },
     "execution_count": 13,
     "metadata": {},
     "output_type": "execute_result"
    }
   ],
   "source": [
    "clf_sgd = linear_model.SGDOneClassSVM(nu=nu, shuffle=True, fit_intercept=True, random_state=random_state, tol=1e-4)\n",
    "pipe_sgd = make_pipeline(transform, clf_sgd)\n",
    "pipe_sgd.fit(train_x)"
   ]
  },
  {
   "cell_type": "code",
   "execution_count": 14,
   "id": "54ef3275-065d-43b6-a5e1-68593680e652",
   "metadata": {},
   "outputs": [],
   "source": [
    "val_x = val.drop(columns=['ID', 'Class'])\n",
    "val_y = val['Class']"
   ]
  },
  {
   "cell_type": "code",
   "execution_count": 15,
   "id": "1d1d6860-4a66-41b7-b68d-325def324d73",
   "metadata": {},
   "outputs": [],
   "source": [
    "y_pred_test_sgd = pipe_sgd.predict(val_x)"
   ]
  },
  {
   "cell_type": "code",
   "execution_count": 18,
   "id": "ebe6375f-f83f-49d1-b184-83cc1dc0a989",
   "metadata": {},
   "outputs": [
    {
     "data": {
      "text/plain": [
       "(array([], dtype=int64),)"
      ]
     },
     "execution_count": 18,
     "metadata": {},
     "output_type": "execute_result"
    }
   ],
   "source": [
    "np.where(y_pred_test_sgd != 1)"
   ]
  },
  {
   "cell_type": "code",
   "execution_count": 16,
   "id": "5381894b-af1e-462f-b2c6-19b4fb37c3b4",
   "metadata": {},
   "outputs": [],
   "source": [
    "# val_pred = model.predict(val_x)\n",
    "# prob = torch.tensor(prob, dtype=torch.float)\n",
    "# topk_indices = torch.topk(prob, k=29, largest=False).indices"
   ]
  },
  {
   "cell_type": "code",
   "execution_count": 36,
   "id": "eb041203-0496-425f-bf68-932b2c6c0c89",
   "metadata": {},
   "outputs": [
    {
     "data": {
      "text/plain": [
       "0.0010529271374420891"
      ]
     },
     "execution_count": 36,
     "metadata": {},
     "output_type": "execute_result"
    }
   ],
   "source": [
    "val_score = f1_score(val_y, val_pred, average='macro')\n",
    "val_score"
   ]
  },
  {
   "cell_type": "code",
   "execution_count": null,
   "id": "fb2f485e-da5f-4016-91ed-f7f5bdd69b11",
   "metadata": {},
   "outputs": [],
   "source": []
  },
  {
   "cell_type": "code",
   "execution_count": null,
   "id": "3c5f0f8a-6784-469b-87d4-cccfc109e966",
   "metadata": {},
   "outputs": [],
   "source": [
    "from sklearn import svm\n",
    "clf = svm.OneClassSVM(nu=0.001, kernel=\"rbf\", gamma=0.1)\n",
    "clf.fit(train_x)"
   ]
  },
  {
   "cell_type": "code",
   "execution_count": null,
   "id": "5a76613d-acc9-4806-83fa-f5e1de77f5bc",
   "metadata": {},
   "outputs": [],
   "source": [
    "val_pred = clf.predict(val_x)"
   ]
  },
  {
   "cell_type": "code",
   "execution_count": 28,
   "id": "7db2a23d-7fc4-4eed-a6d5-c450c04968fa",
   "metadata": {},
   "outputs": [
    {
     "ename": "NameError",
     "evalue": "name 'val_pred' is not defined",
     "output_type": "error",
     "traceback": [
      "\u001b[0;31m---------------------------------------------------------------------------\u001b[0m",
      "\u001b[0;31mNameError\u001b[0m                                 Traceback (most recent call last)",
      "Input \u001b[0;32mIn [28]\u001b[0m, in \u001b[0;36m<cell line: 1>\u001b[0;34m()\u001b[0m\n\u001b[0;32m----> 1\u001b[0m np\u001b[38;5;241m.\u001b[39mwhere(\u001b[43mval_pred\u001b[49m \u001b[38;5;241m==\u001b[39m \u001b[38;5;241m1\u001b[39m)\n",
      "\u001b[0;31mNameError\u001b[0m: name 'val_pred' is not defined"
     ]
    }
   ],
   "source": [
    "np.where(val_pred == 1)"
   ]
  },
  {
   "cell_type": "code",
   "execution_count": 27,
   "id": "5da62ce5-092a-4525-aaa7-5cc234baab7b",
   "metadata": {},
   "outputs": [],
   "source": [
    "# from sklearn.svm import SVC\n",
    "# classifier = SVC(kernel = 'linear')\n",
    "# classifier.fit(train_x)"
   ]
  },
  {
   "cell_type": "code",
   "execution_count": null,
   "id": "24422e69-a325-419c-b2d0-550ca2950295",
   "metadata": {},
   "outputs": [],
   "source": []
  }
 ],
 "metadata": {
  "kernelspec": {
   "display_name": "pytorch",
   "language": "python",
   "name": "pytorch"
  },
  "language_info": {
   "codemirror_mode": {
    "name": "ipython",
    "version": 3
   },
   "file_extension": ".py",
   "mimetype": "text/x-python",
   "name": "python",
   "nbconvert_exporter": "python",
   "pygments_lexer": "ipython3",
   "version": "3.8.13"
  }
 },
 "nbformat": 4,
 "nbformat_minor": 5
}
