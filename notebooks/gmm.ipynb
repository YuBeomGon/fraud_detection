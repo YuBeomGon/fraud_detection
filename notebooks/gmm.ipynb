{
 "cells": [
  {
   "cell_type": "code",
   "execution_count": 1,
   "id": "6c5e9146-8605-491a-8da9-de6527c6bb2e",
   "metadata": {},
   "outputs": [],
   "source": [
    "import pandas as pd\n",
    "import numpy as np\n",
    "import matplotlib.pyplot as plt\n",
    "import seaborn as sns\n",
    "%matplotlib inline\n",
    "\n",
    "from sklearn.ensemble import IsolationForest\n",
    "from sklearn.metrics import f1_score\n",
    "from sklearn.metrics import classification_report\n",
    "from sklearn.metrics import roc_curve, precision_recall_curve, auc,roc_auc_score,average_precision_score\n",
    "\n",
    "from sklearn.preprocessing import StandardScaler"
   ]
  },
  {
   "cell_type": "code",
   "execution_count": 2,
   "id": "ee8b92db-24a4-4e94-9a6f-e3476e11b99a",
   "metadata": {},
   "outputs": [],
   "source": [
    "train_df = pd.read_csv('../dataset/train.csv')\n",
    "val_df = pd.read_csv('../dataset/val.csv')\n",
    "test_df = pd.read_csv('../dataset/test.csv')"
   ]
  },
  {
   "cell_type": "code",
   "execution_count": 5,
   "id": "88d4e4b3-c57c-4d30-9e16-f292b6f73936",
   "metadata": {},
   "outputs": [],
   "source": [
    "from sklearn.preprocessing import RobustScaler\n",
    "\n",
    "# col=[col for col in val_df.columns if col not in ['ID','Class']]\n",
    "\n",
    "# for i in col:\n",
    "#     sc=RobustScaler()\n",
    "#     val_df[i]=sc.fit_transform(val_df[i].values.reshape(-1,1))\n",
    "\n",
    "X=val_df.drop(labels=['ID','Class'],axis=1)"
   ]
  },
  {
   "cell_type": "code",
   "execution_count": null,
   "id": "4afeff59-9ffa-4bea-8651-6fb54c8b4467",
   "metadata": {},
   "outputs": [],
   "source": []
  },
  {
   "cell_type": "code",
   "execution_count": 6,
   "id": "c8ab099d-fd6b-46f6-a989-7f344d12b27e",
   "metadata": {},
   "outputs": [
    {
     "data": {
      "text/plain": [
       "<AxesSubplot:>"
      ]
     },
     "execution_count": 6,
     "metadata": {},
     "output_type": "execute_result"
    },
    {
     "data": {
      "image/png": "[encoded data removed]",
      "text/plain": [
       "<Figure size 432x288 with 1 Axes>"
      ]
     },
     "metadata": {
      "needs_background": "light"
     },
     "output_type": "display_data"
    }
   ],
   "source": [
    "# from sklearn.mixture import GaussianMixture\n",
    "\n",
    "# bic=[]\n",
    "# aic=[]\n",
    "\n",
    "# for component in np.arange(2,20):\n",
    "\n",
    "#     gm=GaussianMixture(n_components=component,n_init=10,covariance_type='spherical')\n",
    "\n",
    "#     gm.fit(X)\n",
    "#     bic.append(gm.bic(X))\n",
    "#     aic.append(gm.aic(X))\n",
    "\n",
    "\n",
    "# sns.lineplot(x=np.arange(2,20),y=bic,markers=True)\n",
    "# sns.lineplot(x=np.arange(2,20),y=aic,markers=True)"
   ]
  },
  {
   "cell_type": "code",
   "execution_count": 67,
   "id": "166286bd-070a-41d9-9c29-a0675865f62a",
   "metadata": {},
   "outputs": [
    {
     "data": {
      "text/plain": [
       "-217.20532213499803"
      ]
     },
     "execution_count": 67,
     "metadata": {},
     "output_type": "execute_result"
    }
   ],
   "source": [
    "gm=GaussianMixture(n_components=5,n_init=10,covariance_type='spherical')\n",
    "\n",
    "gm.fit(train_df.drop(columns=['ID']))\n",
    "\n",
    "densities=gm.score_samples(X)\n",
    "density_threshold=np.percentile(densities,0.1)\n",
    "density_threshold"
   ]
  },
  {
   "cell_type": "code",
   "execution_count": 68,
   "id": "8e92c030-e30c-4f8a-8119-e738ab03926c",
   "metadata": {},
   "outputs": [],
   "source": [
    "val_df['Gm_predict']=0\n",
    "\n",
    "val_df.loc[val_df[densities<density_threshold].index,'Gm_predict']=1"
   ]
  },
  {
   "cell_type": "code",
   "execution_count": 69,
   "id": "624e1798-6e8e-4df8-8418-9c3a3a80f937",
   "metadata": {},
   "outputs": [
    {
     "data": {
      "text/plain": [
       "0    28433\n",
       "1       29\n",
       "Name: Gm_predict, dtype: int64"
      ]
     },
     "execution_count": 69,
     "metadata": {},
     "output_type": "execute_result"
    }
   ],
   "source": [
    "val_df.Gm_predict.value_counts()"
   ]
  },
  {
   "cell_type": "code",
   "execution_count": 70,
   "id": "cfa713c1-c719-49f0-a351-0ebc932931ab",
   "metadata": {},
   "outputs": [],
   "source": [
    "from sklearn.metrics import f1_score"
   ]
  },
  {
   "cell_type": "code",
   "execution_count": 71,
   "id": "40695cf8-434a-4df8-abbd-7a6abf3b4b90",
   "metadata": {},
   "outputs": [],
   "source": [
    "y_true = val_df.Class.values\n",
    "y_pred = val_df.Gm_predict.values"
   ]
  },
  {
   "cell_type": "code",
   "execution_count": 72,
   "id": "a44d68f7-d9ed-42ae-9cee-b8c04e668e31",
   "metadata": {},
   "outputs": [
    {
     "data": {
      "text/plain": [
       "0.5334147035723918"
      ]
     },
     "execution_count": 72,
     "metadata": {},
     "output_type": "execute_result"
    }
   ],
   "source": [
    "f1_score(y_true, y_pred, average='macro')"
   ]
  },
  {
   "cell_type": "code",
   "execution_count": null,
   "id": "94bfb245-8ff9-4a9c-957f-cdf0dcf25e44",
   "metadata": {},
   "outputs": [],
   "source": []
  },
  {
   "cell_type": "code",
   "execution_count": null,
   "id": "7ab8f681-30ff-42bd-9a6f-f8f543fe2144",
   "metadata": {},
   "outputs": [],
   "source": []
  }
 ],
 "metadata": {
  "kernelspec": {
   "display_name": "pytorch",
   "language": "python",
   "name": "pytorch"
  },
  "language_info": {
   "codemirror_mode": {
    "name": "ipython",
    "version": 3
   },
   "file_extension": ".py",
   "mimetype": "text/x-python",
   "name": "python",
   "nbconvert_exporter": "python",
   "pygments_lexer": "ipython3",
   "version": "3.7.9"
  }
 },
 "nbformat": 4,
 "nbformat_minor": 5
}
