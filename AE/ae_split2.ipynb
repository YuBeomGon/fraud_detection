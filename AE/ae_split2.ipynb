{
 "cells": [
  {
   "cell_type": "code",
   "execution_count": 1,
   "id": "27beacea-6bc4-4f6d-8024-d7661d3bb946",
   "metadata": {},
   "outputs": [],
   "source": [
    "# https://dacon.io/competitions/official/235930/codeshare/5508?page=1&dtype=recent"
   ]
  },
  {
   "cell_type": "code",
   "execution_count": 2,
   "id": "cf4fe48e-c012-4895-99e0-f3e2a7d1f658",
   "metadata": {},
   "outputs": [],
   "source": [
    "import random\n",
    "import pandas as pd\n",
    "import numpy as np\n",
    "import os\n",
    "\n",
    "import torch\n",
    "import torch.nn as nn\n",
    "import torch.optim as optim\n",
    "import torch.nn.functional as F\n",
    "\n",
    "from torch.utils.data import Dataset, DataLoader\n",
    "from torch.optim.lr_scheduler import StepLR\n",
    "from tqdm import tqdm\n",
    "from sklearn.metrics import f1_score, classification_report, confusion_matrix\n",
    "\n",
    "import warnings\n",
    "warnings.filterwarnings(action='ignore')"
   ]
  },
  {
   "cell_type": "code",
   "execution_count": 3,
   "id": "23c88f55-39a2-4f92-a939-eefc0aa1378f",
   "metadata": {},
   "outputs": [
    {
     "data": {
      "text/plain": [
       "device(type='cuda')"
      ]
     },
     "execution_count": 3,
     "metadata": {},
     "output_type": "execute_result"
    }
   ],
   "source": [
    "device = torch.device('cuda' if torch.cuda.is_available() else 'cpu')\n",
    "device"
   ]
  },
  {
   "cell_type": "code",
   "execution_count": 4,
   "id": "50f138e7-da83-41ad-b588-fe85c6dbef7d",
   "metadata": {},
   "outputs": [],
   "source": [
    "epochs = 100\n",
    "lr = 1e-3\n",
    "batch_size = 512\n",
    "momentum = 0.9\n",
    "weight_decay = 1e-4\n",
    "seed = 42\n",
    "NUM_WORKERS = 8\n",
    "saved_model = '../saved/ae_split2/best_model1.pth'\n",
    "\n",
    "param = {\n",
    "            'epochs' : epochs,\n",
    "            'lr' :lr,\n",
    "            'batch_size' : batch_size,\n",
    "            'momentum' : momentum,\n",
    "            'weight_decay' : weight_decay\n",
    "        }"
   ]
  },
  {
   "cell_type": "code",
   "execution_count": 5,
   "id": "b8b2a22e-d2cc-4913-beea-246cb512369e",
   "metadata": {},
   "outputs": [
    {
     "data": {
      "text/plain": [
       "'../saved/ae_split2'"
      ]
     },
     "execution_count": 5,
     "metadata": {},
     "output_type": "execute_result"
    }
   ],
   "source": [
    "'/'.join(saved_model.split('/')[:-1])"
   ]
  },
  {
   "cell_type": "code",
   "execution_count": 6,
   "id": "6d07f699-c8c6-4c60-b181-263b093cd2f0",
   "metadata": {},
   "outputs": [],
   "source": [
    "def seed_everything(seed) :\n",
    "    random.seed(seed)\n",
    "    os.environ['PYHONHASHSEED'] = str(seed)\n",
    "    np.random.seed(seed)\n",
    "    torch.manual_seed(seed)\n",
    "    torch.cuda.manual_seed(seed)\n",
    "    torch.backends.cudnn.deterministic = True\n",
    "    torch.backends.cudnn.benchmark = True\n",
    "\n",
    "# seed_everything(seed)    "
   ]
  },
  {
   "cell_type": "code",
   "execution_count": 7,
   "id": "1dc3b08e-4bf9-442b-a9e5-2d383ef2240a",
   "metadata": {},
   "outputs": [
    {
     "name": "stdout",
     "output_type": "stream",
     "text": [
      "(113842, 30)\n"
     ]
    }
   ],
   "source": [
    "train_df = pd.read_csv('../dataset/train.csv')\n",
    "val_df = pd.read_csv('../dataset/val.csv')\n",
    "train_df = train_df.drop(columns=['ID'])\n",
    "val_df = val_df.drop(columns=['ID'])\n",
    "test_df = pd.read_csv('../dataset/test.csv')\n",
    "test_df = test_df.drop(columns=['ID'])\n",
    "print(train_df.shape)"
   ]
  },
  {
   "cell_type": "code",
   "execution_count": 8,
   "id": "de6a6b3b-1460-4a9a-9a02-18ff2efe8c7a",
   "metadata": {},
   "outputs": [],
   "source": [
    "from sklearn.preprocessing import RobustScaler, StandardScaler, MinMaxScaler\n",
    "col=[col for col in val_df.columns if col not in ['ID','Class']]\n",
    "\n",
    "for i in col:\n",
    "    sc=StandardScaler()\n",
    "    scaler = sc.fit(train_df[i].values.reshape(-1,1))\n",
    "    train_df[i] = scaler.transform(train_df[i].values.reshape(-1,1))\n",
    "    val_df[i] = scaler.transform(val_df[i].values.reshape(-1,1))\n",
    "    test_df[i] = scaler.transform(test_df[i].values.reshape(-1,1))"
   ]
  },
  {
   "cell_type": "code",
   "execution_count": 9,
   "id": "c51032d7-d3a2-4bcd-9108-562207763da2",
   "metadata": {},
   "outputs": [],
   "source": [
    "class CDataset(Dataset):\n",
    "    def __init__(self, df, eval_mode=False):\n",
    "        self.df = df\n",
    "        self.eval_mode = eval_mode\n",
    "        if self.eval_mode:\n",
    "            self.labels = self.df['Class'].values\n",
    "            self.df = self.df.drop(columns=['Class']).values\n",
    "        else:\n",
    "            self.df = self.df.values\n",
    "        \n",
    "    def __getitem__(self, index):\n",
    "        if self.eval_mode:\n",
    "            self.x = self.df[index]\n",
    "            self.y = self.labels[index]\n",
    "            return torch.Tensor(self.x), self.y\n",
    "        else:\n",
    "            self.x = self.df[index]\n",
    "            return torch.Tensor(self.x)\n",
    "        \n",
    "    def __len__(self):\n",
    "        return len(self.df)"
   ]
  },
  {
   "cell_type": "code",
   "execution_count": 10,
   "id": "6507a820-b758-4e90-b6bc-ef70222ad1b3",
   "metadata": {},
   "outputs": [],
   "source": [
    "\n",
    "train_dataset = CDataset(train_df.sample(frac=1)[:len(train_df)//5])\n",
    "train_loader = DataLoader(train_dataset, batch_size = batch_size, shuffle=True, num_workers=NUM_WORKERS)\n",
    "\n",
    "val_dataset = CDataset(val_df, eval_mode=True)\n",
    "val_loader = DataLoader(val_dataset, batch_size = batch_size, shuffle=False, num_workers=NUM_WORKERS)\n",
    "\n",
    "test_dataset = CDataset(test_df, eval_mode=False)\n",
    "test_loader = DataLoader(test_dataset, batch_size = batch_size, shuffle=False, num_workers=NUM_WORKERS)"
   ]
  },
  {
   "cell_type": "code",
   "execution_count": 11,
   "id": "5e0e6622-a750-4eaa-b2d5-55718851486a",
   "metadata": {},
   "outputs": [
    {
     "data": {
      "text/plain": [
       "torch.Size([512, 30])"
      ]
     },
     "execution_count": 11,
     "metadata": {},
     "output_type": "execute_result"
    }
   ],
   "source": [
    "x = next(iter(train_loader))\n",
    "x.shape"
   ]
  },
  {
   "cell_type": "code",
   "execution_count": 12,
   "id": "ed5927d0-5eeb-41a7-8f05-f0748d058ffe",
   "metadata": {},
   "outputs": [
    {
     "data": {
      "text/plain": [
       "torch.Size([512, 30])"
      ]
     },
     "execution_count": 12,
     "metadata": {},
     "output_type": "execute_result"
    }
   ],
   "source": [
    "x, y  = next(iter(val_loader))\n",
    "x.shape"
   ]
  },
  {
   "cell_type": "code",
   "execution_count": 13,
   "id": "cfff4a1b-d630-4c5d-8f2e-8116aab52145",
   "metadata": {},
   "outputs": [],
   "source": [
    "from torch import Tensor\n",
    "class BasicBlock(nn.Module):\n",
    "\n",
    "    def __init__(\n",
    "        self,\n",
    "        inplanes: int,\n",
    "        planes: int,\n",
    "    ) -> None:\n",
    "        super().__init__()\n",
    "        norm_layer = nn.BatchNorm1d\n",
    "        self.lin1 = nn.Linear(inplanes, planes)\n",
    "        self.bn1 = norm_layer(planes)\n",
    "        self.act = nn.GELU()\n",
    "        self.lin2 = nn.Linear(planes, inplanes)\n",
    "        self.bn2 = norm_layer(inplanes)\n",
    "\n",
    "    def forward(self, x: Tensor) -> Tensor:\n",
    "        identity = x\n",
    "\n",
    "        out = self.lin1(x)\n",
    "        out = self.bn1(out)\n",
    "        out = self.act(out)\n",
    "\n",
    "        out = self.lin2(out)\n",
    "        out = self.bn2(out)\n",
    "\n",
    "        out += identity\n",
    "        out = self.act(out)\n",
    "\n",
    "        return out"
   ]
  },
  {
   "cell_type": "code",
   "execution_count": 14,
   "id": "aea1f718-cf59-436b-8ec9-27b644eaaf70",
   "metadata": {},
   "outputs": [],
   "source": [
    "class AutoEncoder(nn.Module) :\n",
    "    def __init__(self) :\n",
    "        super().__init__()\n",
    "        self.dim = 30\n",
    "        self.embeding_dim = 512\n",
    "        self.hidden = 128\n",
    "        self.act = nn.GELU()\n",
    "        \n",
    "        self.embeding = nn.Sequential(\n",
    "            nn.Linear(self.dim,self.embeding_dim),\n",
    "            self.act,\n",
    "        ) \n",
    "        \n",
    "        self.block1 = BasicBlock(128,128)\n",
    "        self.block2 = BasicBlock(128,128)\n",
    "\n",
    "        self.encoder = nn.Sequential(\n",
    "            nn.Linear(self.embeding_dim,self.hidden),\n",
    "            nn.BatchNorm1d(self.hidden),\n",
    "            self.act,\n",
    "        )\n",
    "        \n",
    "        self.decoder = nn.Sequential(\n",
    "            nn.Linear(self.hidden,self.embeding_dim),\n",
    "            nn.BatchNorm1d(self.embeding_dim),\n",
    "            self.act,            \n",
    "        )        \n",
    "        \n",
    "        for m in self.modules():\n",
    "            if isinstance(m, nn.Conv2d):\n",
    "                nn.init.kaiming_normal_(m.weight, mode=\"fan_out\", nonlinearity=\"relu\")\n",
    "            elif isinstance(m, (nn.BatchNorm2d, nn.BatchNorm1d, nn.GroupNorm)):\n",
    "                nn.init.constant_(m.weight, 1)\n",
    "                nn.init.constant_(m.bias, 0)\n",
    "                \n",
    "        \n",
    "#         freezing embeding layer        \n",
    "        for name, child in self.named_children() :\n",
    "            for param in child.parameters() :\n",
    "                # if 'embeding' in name :\n",
    "                if name == 'embeding' :\n",
    "                    param.requires_grad = False                \n",
    "        \n",
    "    def forward(self, x) :\n",
    "        \n",
    "        x_ = self.embeding(x)\n",
    "        \n",
    "        x = self.encoder(x_)\n",
    "        x = self.block1(x)\n",
    "        x = self.block2(x)\n",
    "        x = self.decoder(x)\n",
    "        \n",
    "        return x_, x\n",
    "        "
   ]
  },
  {
   "cell_type": "code",
   "execution_count": 15,
   "id": "2281b347-2432-449d-a5e4-faabdf071d57",
   "metadata": {},
   "outputs": [],
   "source": [
    "class Trainer() :\n",
    "    def __init__(self, model, optimizer, train_loader, val_loader, test_loader, scheduler, device, **param) :\n",
    "        self.model = model\n",
    "        self.optimizer = optimizer\n",
    "        self.train_loader = train_loader\n",
    "        self.val_loader = val_loader\n",
    "        self.test_loader = test_loader\n",
    "        self.scheduler = scheduler\n",
    "        self.device = device\n",
    "        self.batch_size = param['batch_size']\n",
    "        self.epochs = param['epochs']\n",
    "        self.lr = param['lr']\n",
    "        \n",
    "        self.criterion = nn.L1Loss().to(device)\n",
    "        self.cos = nn.CosineSimilarity(dim=1, eps=1e-6)\n",
    "        self.threshold = 0.5\n",
    "        \n",
    "    def fit(self,) :\n",
    "        self.model.to(self.device)\n",
    "        best_score = 0\n",
    "        for epoch in range(self.epochs) :\n",
    "            self.model.train()\n",
    "            train_loss = []\n",
    "            \n",
    "            for x in iter(self.train_loader) :\n",
    "                x = x.to(self.device)\n",
    "                x_, x = self.model(x)\n",
    "                \n",
    "                loss = self.criterion(x_, x)\n",
    "                \n",
    "                self.optimizer.zero_grad()\n",
    "                loss.backward()\n",
    "                self.optimizer.step()\n",
    "                \n",
    "                train_loss.append(loss.item())\n",
    "                \n",
    "            true, pred = self.validation()\n",
    "            score = f1_score(true, pred, average='macro')\n",
    "            self.get_confusion(true, pred)\n",
    "            \n",
    "            if self.scheduler is not None :\n",
    "                self.scheduler.step()\n",
    "            \n",
    "            print(f'epoch :[{epoch}] train loss [{np.mean(train_loss)}] val score [{score}]')    \n",
    "\n",
    "            self.save_model('/'.join(saved_model.split('/')[:-1]) + '/' + str(epoch) +'.pth')\n",
    "            if best_score < score :\n",
    "                best_score = score\n",
    "                self.save_model(saved_model)\n",
    "            \n",
    "    def validation(self) :\n",
    "        self.model.eval()\n",
    "        pred_y = []\n",
    "        true_y = []\n",
    "        \n",
    "        with torch.no_grad():\n",
    "            for x, y in iter(self.val_loader) :\n",
    "                x = x.to(self.device)\n",
    "                y = y.to(self.device)\n",
    "                \n",
    "                x_, x = self.model(x)\n",
    "                diff = self.cos(x, x_).cpu().tolist()\n",
    "                batch_pred = np.where(np.array(diff) < self.threshold, 1, 0).tolist()\n",
    "                pred_y += batch_pred\n",
    "                true_y += y.tolist()\n",
    "                \n",
    "        return true_y, pred_y\n",
    "    \n",
    "    def predict(self) :\n",
    "        \n",
    "        self.model.eval()\n",
    "        pred_y = []\n",
    "        \n",
    "        with torch.no_grad() :\n",
    "            for x in iter(self.test_loader) :\n",
    "                x = x.to(self.device)\n",
    "                x_, x = self.model(x)\n",
    "                diff = self.cos(x, x_).cpu().tolist()\n",
    "                \n",
    "                batch_pred = np.where(np.array(diff) < self.threshold, 1, 0).tolist()\n",
    "                pred_y += batch_pred\n",
    "                \n",
    "        return pred_y\n",
    "    \n",
    "    def save_model(self, name) :\n",
    "        torch.save(self.model.state_dict(), name)\n",
    "        \n",
    "    def load_model(self, name) :\n",
    "        self.model.load_state_dict(torch.load(name))\n",
    "        \n",
    "    def get_confusion(self, true_y, pred_y) :\n",
    "        # pred_y, true_y = self.validation()\n",
    "        tn, fp, fn, tp = confusion_matrix(true_y, pred_y).ravel()\n",
    "        print('tp : ', tp, ', fp : ', fp, ', tn : ', tn, ', fn : ', fn)\n"
   ]
  },
  {
   "cell_type": "code",
   "execution_count": 16,
   "id": "c8891703-3552-48de-9a61-c8f599d1b2ea",
   "metadata": {},
   "outputs": [],
   "source": [
    "model = AutoEncoder()"
   ]
  },
  {
   "cell_type": "code",
   "execution_count": 17,
   "id": "62c43387-b116-4262-b48d-c1f3d6a38745",
   "metadata": {},
   "outputs": [],
   "source": [
    "# for p in model.parameters():\n",
    "#     print(p.shape)\n",
    "#     print(p)"
   ]
  },
  {
   "cell_type": "code",
   "execution_count": 18,
   "id": "65ab0bcb-f82c-42e5-a718-097ee27a7d4d",
   "metadata": {},
   "outputs": [],
   "source": [
    "model = AutoEncoder()\n",
    "model.eval()\n",
    "# optimizer = torch.optim.Adam(\n",
    "#             [{'params':model.embeding.parameters(), 'lr':1e-7, 'weight_decay':2e-4},\n",
    "#             {'params':model.encoder.parameters()},\n",
    "#             {'params':model.decoder.parameters()}]\n",
    "#             , lr=param['lr'])\n",
    "optimizer = torch.optim.Adam(model.parameters(), param['lr'])\n",
    "scheduler = None"
   ]
  },
  {
   "cell_type": "code",
   "execution_count": 19,
   "id": "e978a85a-d539-4932-b2c3-f7aa76e1575b",
   "metadata": {},
   "outputs": [],
   "source": [
    "trainer = Trainer(model, optimizer, train_loader, val_loader, test_loader, scheduler, device, **param)\n",
    "# trainer = Trainer(model, optimizer, train_loader, val_loader, scheduler, device)"
   ]
  },
  {
   "cell_type": "code",
   "execution_count": 20,
   "id": "b1c340fc-b182-4fd0-a6f7-52440a06c3f9",
   "metadata": {},
   "outputs": [
    {
     "name": "stdout",
     "output_type": "stream",
     "text": [
      "tp :  27 , fp :  3378 , tn :  25054 , fn :  3\n",
      "epoch :[0] train loss [0.22794882290893131] val score [0.47625563301959567]\n",
      "tp :  25 , fp :  442 , tn :  27990 , fn :  5\n",
      "epoch :[1] train loss [0.14522994889153373] val score [0.5463409410688171]\n",
      "tp :  25 , fp :  263 , tn :  28169 , fn :  5\n",
      "epoch :[2] train loss [0.09717279109689925] val score [0.5762491119793732]\n",
      "tp :  25 , fp :  424 , tn :  28008 , fn :  5\n",
      "epoch :[3] train loss [0.07548645817571216] val score [0.548391907358596]\n",
      "tp :  25 , fp :  437 , tn :  27995 , fn :  5\n",
      "epoch :[4] train loss [0.0640937575035625] val score [0.5468967903812862]\n",
      "tp :  25 , fp :  244 , tn :  28188 , fn :  5\n",
      "epoch :[5] train loss [0.05657791346311569] val score [0.5814133646370905]\n",
      "tp :  25 , fp :  234 , tn :  28198 , fn :  5\n",
      "epoch :[6] train loss [0.049570426179303066] val score [0.5843951876628798]\n",
      "tp :  24 , fp :  282 , tn :  28150 , fn :  6\n",
      "epoch :[7] train loss [0.04579669353034761] val score [0.5688838623029617]\n",
      "tp :  25 , fp :  235 , tn :  28197 , fn :  5\n",
      "epoch :[8] train loss [0.042782776140504415] val score [0.584088028027516]\n",
      "tp :  25 , fp :  153 , tn :  28279 , fn :  5\n",
      "epoch :[9] train loss [0.03937544524669647] val score [0.6187994026919551]\n",
      "tp :  24 , fp :  151 , tn :  28281 , fn :  6\n",
      "epoch :[10] train loss [0.03660618952578969] val score [0.6156891547934856]\n",
      "tp :  25 , fp :  448 , tn :  27984 , fn :  5\n",
      "epoch :[11] train loss [0.03943118738631408] val score [0.545687326564355]\n",
      "tp :  23 , fp :  329 , tn :  28103 , fn :  7\n",
      "epoch :[12] train loss [0.03631027709278795] val score [0.5572381814676612]\n",
      "tp :  24 , fp :  224 , tn :  28208 , fn :  6\n",
      "epoch :[13] train loss [0.034133775449461404] val score [0.5843007830786531]\n",
      "tp :  23 , fp :  227 , tn :  28205 , fn :  7\n",
      "epoch :[14] train loss [0.032705323149760566] val score [0.5800773250476662]\n",
      "tp :  23 , fp :  174 , tn :  28258 , fn :  7\n",
      "epoch :[15] train loss [0.03241164067553149] val score [0.5997253815183721]\n",
      "tp :  22 , fp :  161 , tn :  28271 , fn :  8\n",
      "epoch :[16] train loss [0.030220447563462788] val score [0.6017963742202351]\n",
      "tp :  23 , fp :  139 , tn :  28293 , fn :  7\n",
      "epoch :[17] train loss [0.030103507017095885] val score [0.6185049149216197]\n",
      "tp :  22 , fp :  175 , tn :  28257 , fn :  8\n",
      "epoch :[18] train loss [0.029881172213289474] val score [0.595302457557249]\n",
      "tp :  23 , fp :  110 , tn :  28322 , fn :  7\n",
      "epoch :[19] train loss [0.028261752385232184] val score [0.6400736572452159]\n",
      "tp :  24 , fp :  300 , tn :  28132 , fn :  6\n",
      "epoch :[20] train loss [0.02834026627242565] val score [0.565091996416619]\n",
      "tp :  23 , fp :  117 , tn :  28315 , fn :  7\n",
      "epoch :[21] train loss [0.02806027407447497] val score [0.6342016836335972]\n",
      "tp :  24 , fp :  309 , tn :  28123 , fn :  6\n",
      "epoch :[22] train loss [0.02751317789985074] val score [0.5633310982467404]\n",
      "tp :  23 , fp :  188 , tn :  28244 , fn :  7\n",
      "epoch :[23] train loss [0.02784449470539888] val score [0.5937155922033602]\n",
      "tp :  23 , fp :  141 , tn :  28291 , fn :  7\n",
      "epoch :[24] train loss [0.02690344001683924] val score [0.6172522765641554]\n",
      "tp :  24 , fp :  155 , tn :  28277 , fn :  6\n",
      "epoch :[25] train loss [0.02643299831284417] val score [0.6134131582954645]\n",
      "tp :  23 , fp :  161 , tn :  28271 , fn :  7\n",
      "epoch :[26] train loss [0.02641263600024912] val score [0.6059954152706754]\n",
      "tp :  23 , fp :  138 , tn :  28294 , fn :  7\n",
      "epoch :[27] train loss [0.02543554479877154] val score [0.6191409323160948]\n",
      "tp :  21 , fp :  115 , tn :  28317 , fn :  9\n",
      "epoch :[28] train loss [0.025304038284553423] val score [0.6254136670718251]\n",
      "tp :  23 , fp :  141 , tn :  28291 , fn :  7\n",
      "epoch :[29] train loss [0.024877569120791223] val score [0.6172522765641554]\n",
      "tp :  22 , fp :  118 , tn :  28314 , fn :  8\n",
      "epoch :[30] train loss [0.024773386038011973] val score [0.6283017107889779]\n",
      "tp :  21 , fp :  82 , tn :  28350 , fn :  9\n",
      "epoch :[31] train loss [0.024770664382312034] val score [0.6570935535560212]\n",
      "tp :  21 , fp :  126 , tn :  28306 , fn :  9\n",
      "epoch :[32] train loss [0.023697653247250452] val score [0.6174545776032959]\n",
      "tp :  22 , fp :  138 , tn :  28294 , fn :  8\n",
      "epoch :[33] train loss [0.024594916858606868] val score [0.6145027673000317]\n",
      "tp :  17 , fp :  87 , tn :  28345 , fn :  13\n",
      "epoch :[34] train loss [0.023740115016698836] val score [0.6259852349451895]\n",
      "tp :  23 , fp :  187 , tn :  28245 , fn :  7\n",
      "epoch :[35] train loss [0.027114465253220664] val score [0.5941220920659563]\n",
      "tp :  23 , fp :  150 , tn :  28282 , fn :  7\n",
      "epoch :[36] train loss [0.025694556161761285] val score [0.6119165254734457]\n",
      "tp :  23 , fp :  120 , tn :  28312 , fn :  7\n",
      "epoch :[37] train loss [0.02450248019562827] val score [0.6318290538640403]\n",
      "tp :  23 , fp :  115 , tn :  28317 , fn :  7\n",
      "epoch :[38] train loss [0.024833750228087106] val score [0.6358299856696502]\n",
      "tp :  20 , fp :  93 , tn :  28339 , fn :  10\n",
      "epoch :[39] train loss [0.023445055137077966] val score [0.6389531463235696]\n",
      "tp :  20 , fp :  80 , tn :  28352 , fn :  10\n",
      "epoch :[40] train loss [0.02338734989364942] val score [0.6530538166274336]\n",
      "tp :  19 , fp :  85 , tn :  28347 , fn :  11\n",
      "epoch :[41] train loss [0.02334257633321815] val score [0.640945825547382]\n",
      "tp :  18 , fp :  70 , tn :  28362 , fn :  12\n",
      "epoch :[42] train loss [0.02253160518076685] val score [0.6518206181371388]\n",
      "tp :  23 , fp :  121 , tn :  28311 , fn :  7\n",
      "epoch :[43] train loss [0.02321570561163955] val score [0.6310561547420122]\n",
      "tp :  20 , fp :  98 , tn :  28334 , fn :  10\n",
      "epoch :[44] train loss [0.022592434907952944] val score [0.6341840290339655]\n",
      "tp :  20 , fp :  101 , tn :  28331 , fn :  10\n",
      "epoch :[45] train loss [0.02231575229929553] val score [0.6314727537563036]\n",
      "tp :  19 , fp :  64 , tn :  28368 , fn :  11\n",
      "epoch :[46] train loss [0.02283217054274347] val score [0.6674815094858079]\n",
      "tp :  15 , fp :  36 , tn :  28396 , fn :  15\n",
      "epoch :[47] train loss [0.021883220266964702] val score [0.6847365811354341]\n",
      "tp :  15 , fp :  85 , tn :  28347 , fn :  15\n",
      "epoch :[48] train loss [0.022308743331167433] val score [0.6145042406971484]\n",
      "tp :  17 , fp :  92 , tn :  28340 , fn :  13\n",
      "epoch :[49] train loss [0.022125410454140768] val score [0.6213776183420614]\n",
      "tp :  18 , fp :  101 , tn :  28331 , fn :  12\n",
      "epoch :[50] train loss [0.02346353464656406] val score [0.6198102128087144]\n",
      "tp :  21 , fp :  72 , tn :  28360 , fn :  9\n",
      "epoch :[51] train loss [0.02205238557524151] val score [0.6700186917011508]\n",
      "tp :  18 , fp :  52 , tn :  28380 , fn :  12\n",
      "epoch :[52] train loss [0.022086116381817393] val score [0.679436857665775]\n",
      "tp :  25 , fp :  134 , tn :  28298 , fn :  5\n",
      "epoch :[53] train loss [0.02205954970171054] val score [0.6310501388848089]\n",
      "tp :  23 , fp :  73 , tn :  28359 , fn :  7\n",
      "epoch :[54] train loss [0.0224704310297966] val score [0.6818354323900293]\n",
      "tp :  22 , fp :  37 , tn :  28395 , fn :  8\n",
      "epoch :[55] train loss [0.02176355090406206] val score [0.7467951284172695]\n",
      "tp :  24 , fp :  82 , tn :  28350 , fn :  6\n",
      "epoch :[56] train loss [0.020690015827616055] val score [0.6756957766553829]\n",
      "tp :  23 , fp :  46 , tn :  28386 , fn :  7\n",
      "epoch :[57] train loss [0.021003389482696852] val score [0.7318568882845169]\n",
      "tp :  24 , fp :  68 , tn :  28364 , fn :  6\n",
      "epoch :[58] train loss [0.021350842093427976] val score [0.6960699259608153]\n",
      "tp :  25 , fp :  58 , tn :  28374 , fn :  5\n",
      "epoch :[59] train loss [0.021235639105240504] val score [0.7206844679680786]\n",
      "tp :  24 , fp :  48 , tn :  28384 , fn :  6\n",
      "epoch :[60] train loss [0.02102687797612614] val score [0.734818949578353]\n",
      "tp :  24 , fp :  52 , tn :  28380 , fn :  6\n",
      "epoch :[61] train loss [0.0208507779157824] val score [0.7259046927063375]\n",
      "tp :  24 , fp :  47 , tn :  28385 , fn :  6\n",
      "epoch :[62] train loss [0.02031682464811537] val score [0.737157401923604]\n",
      "tp :  24 , fp :  52 , tn :  28380 , fn :  6\n",
      "epoch :[63] train loss [0.02020107615325186] val score [0.7259046927063375]\n",
      "tp :  19 , fp :  50 , tn :  28382 , fn :  11\n",
      "epoch :[64] train loss [0.021660007412234943] val score [0.6913824563274629]\n",
      "tp :  19 , fp :  39 , tn :  28393 , fn :  11\n",
      "epoch :[65] train loss [0.021167675654093426] val score [0.7154692288498328]\n",
      "tp :  22 , fp :  58 , tn :  28374 , fn :  8\n",
      "epoch :[66] train loss [0.020800261199474333] val score [0.6994191572499736]\n",
      "tp :  23 , fp :  55 , tn :  28377 , fn :  7\n",
      "epoch :[67] train loss [0.020939615493019422] val score [0.7124173420111185]\n",
      "tp :  24 , fp :  79 , tn :  28353 , fn :  6\n",
      "epoch :[68] train loss [0.021070790373616748] val score [0.6797027698050748]\n",
      "tp :  24 , fp :  53 , tn :  28379 , fn :  6\n",
      "epoch :[69] train loss [0.020747191541724736] val score [0.7237798546209762]\n",
      "tp :  24 , fp :  52 , tn :  28380 , fn :  6\n",
      "epoch :[70] train loss [0.02087374755905734] val score [0.7259046927063375]\n",
      "tp :  24 , fp :  46 , tn :  28386 , fn :  6\n",
      "epoch :[71] train loss [0.020585946862896283] val score [0.7395424468534422]\n",
      "tp :  22 , fp :  62 , tn :  28370 , fn :  8\n",
      "epoch :[72] train loss [0.02003591764304373] val score [0.6923663674235756]\n",
      "tp :  24 , fp :  62 , tn :  28370 , fn :  6\n",
      "epoch :[73] train loss [0.020546861696574423] val score [0.7062980444716382]\n",
      "tp :  25 , fp :  105 , tn :  28327 , fn :  5\n",
      "epoch :[74] train loss [0.020398974460032252] val score [0.6552810760341061]\n",
      "tp :  23 , fp :  53 , tn :  28379 , fn :  7\n",
      "epoch :[75] train loss [0.02047711805337005] val score [0.7164531303858662]\n",
      "tp :  21 , fp :  31 , tn :  28401 , fn :  9\n",
      "epoch :[76] train loss [0.020311455759737227] val score [0.7557457084721791]\n",
      "tp :  22 , fp :  31 , tn :  28401 , fn :  8\n",
      "epoch :[77] train loss [0.01973218098282814] val score [0.7647171787376454]\n",
      "tp :  21 , fp :  29 , tn :  28403 , fn :  9\n",
      "epoch :[78] train loss [0.01961164205438561] val score [0.7621657518823447]\n",
      "tp :  21 , fp :  73 , tn :  28359 , fn :  9\n",
      "epoch :[79] train loss [0.01971769519150257] val score [0.6686330077237619]\n",
      "tp :  21 , fp :  77 , tn :  28355 , fn :  9\n",
      "epoch :[80] train loss [0.020196391890446346] val score [0.6633054044298894]\n",
      "tp :  18 , fp :  79 , tn :  28353 , fn :  12\n",
      "epoch :[81] train loss [0.02135704163875845] val score [0.6409311848149903]\n",
      "tp :  19 , fp :  76 , tn :  28356 , fn :  11\n",
      "epoch :[82] train loss [0.01978783719241619] val score [0.6512341414461522]\n",
      "tp :  19 , fp :  73 , tn :  28359 , fn :  11\n",
      "epoch :[83] train loss [0.020248502637777062] val score [0.6549982943338984]\n",
      "tp :  20 , fp :  118 , tn :  28314 , fn :  10\n",
      "epoch :[84] train loss [0.020606873225834633] val score [0.6179199849648789]\n",
      "tp :  18 , fp :  41 , tn :  28391 , fn :  12\n",
      "epoch :[85] train loss [0.020701340089241665] val score [0.701780929024784]\n",
      "tp :  15 , fp :  35 , tn :  28397 , fn :  15\n",
      "epoch :[86] train loss [0.020185192260477276] val score [0.6870601998451903]\n",
      "tp :  19 , fp :  71 , tn :  28361 , fn :  11\n",
      "epoch :[87] train loss [0.01992346474693881] val score [0.6576115531770064]\n",
      "tp :  18 , fp :  20 , tn :  28412 , fn :  12\n",
      "epoch :[88] train loss [0.019631533034973673] val score [0.7644244696612288]\n",
      "tp :  18 , fp :  17 , tn :  28415 , fn :  12\n",
      "epoch :[89] train loss [0.01954758966134654] val score [0.7766680601271431]\n",
      "tp :  20 , fp :  59 , tn :  28373 , fn :  10\n",
      "epoch :[90] train loss [0.020434029772877692] val score [0.6828790045270058]\n",
      "tp :  20 , fp :  46 , tn :  28386 , fn :  10\n",
      "epoch :[91] train loss [0.019805092074804836] val score [0.707840618474461]\n",
      "tp :  19 , fp :  14 , tn :  28418 , fn :  11\n",
      "epoch :[92] train loss [0.018844844690627523] val score [0.8013674672544548]\n",
      "tp :  21 , fp :  58 , tn :  28374 , fn :  9\n",
      "epoch :[93] train loss [0.019534145957893795] val score [0.6920709174392665]\n",
      "tp :  20 , fp :  44 , tn :  28388 , fn :  10\n",
      "epoch :[94] train loss [0.018985977499849267] val score [0.7122908562678537]\n",
      "tp :  22 , fp :  36 , tn :  28396 , fn :  8\n",
      "epoch :[95] train loss [0.01971975587722328] val score [0.7496129213878527]\n",
      "tp :  22 , fp :  67 , tn :  28365 , fn :  8\n",
      "epoch :[96] train loss [0.023681619059708385] val score [0.6842137964242998]\n",
      "tp :  24 , fp :  56 , tn :  28376 , fn :  6\n",
      "epoch :[97] train loss [0.02148187706867854] val score [0.7176361780227025]\n",
      "tp :  24 , fp :  40 , tn :  28392 , fn :  6\n",
      "epoch :[98] train loss [0.020599349174234602] val score [0.7549144331170606]\n",
      "tp :  22 , fp :  39 , tn :  28393 , fn :  8\n",
      "epoch :[99] train loss [0.019327884415785472] val score [0.7413447495969974]\n"
     ]
    }
   ],
   "source": [
    "trainer.fit()"
   ]
  },
  {
   "cell_type": "code",
   "execution_count": 21,
   "id": "49c3a528-b82e-4abd-8bb8-a77aa77bb6dd",
   "metadata": {},
   "outputs": [
    {
     "name": "stdout",
     "output_type": "stream",
     "text": [
      "0.8013674672544548\n",
      "tp :  19 , fp :  14 , tn :  28418 , fn :  11\n"
     ]
    }
   ],
   "source": [
    "trainer.threshold = 0.5\n",
    "trainer.load_model(saved_model)\n",
    "true_y, pred_y = trainer.validation()\n",
    "score = f1_score(true_y, pred_y, average='macro')\n",
    "print(score)\n",
    "tn, fp, fn, tp = confusion_matrix(true_y, pred_y).ravel()\n",
    "print('tp : ', tp, ', fp : ', fp, ', tn : ', tn, ', fn : ', fn)\n",
    "# confusion_matrix(true_y, pred_y)\n"
   ]
  },
  {
   "cell_type": "code",
   "execution_count": 22,
   "id": "c05b1deb-9e06-4fdc-9204-8dd43b0ae80a",
   "metadata": {},
   "outputs": [
    {
     "data": {
      "text/plain": [
       "array([[28418,    14],\n",
       "       [   11,    19]])"
      ]
     },
     "execution_count": 22,
     "metadata": {},
     "output_type": "execute_result"
    }
   ],
   "source": [
    "confusion_matrix(true_y, pred_y)"
   ]
  },
  {
   "cell_type": "code",
   "execution_count": 23,
   "id": "3018dc07-72c8-43e7-85da-21bc5040159b",
   "metadata": {},
   "outputs": [
    {
     "name": "stdout",
     "output_type": "stream",
     "text": [
      "              precision    recall  f1-score   support\n",
      "\n",
      "           0       1.00      1.00      1.00     28432\n",
      "           1       0.58      0.63      0.60        30\n",
      "\n",
      "    accuracy                           1.00     28462\n",
      "   macro avg       0.79      0.82      0.80     28462\n",
      "weighted avg       1.00      1.00      1.00     28462\n",
      "\n"
     ]
    }
   ],
   "source": [
    "print(classification_report(true_y, pred_y))"
   ]
  },
  {
   "cell_type": "code",
   "execution_count": 24,
   "id": "774b3c8f-1aec-48c0-9f5f-2de0772337f2",
   "metadata": {},
   "outputs": [
    {
     "data": {
      "text/plain": [
       "array([   71,   641,   677,  1047,  1210,  1581,  2173,  3905,  4039,\n",
       "        7000,  9326, 12377, 13679, 13706, 14221, 15306, 16343, 22565,\n",
       "       24110, 25386, 25504, 25729, 27803, 27816, 28146])"
      ]
     },
     "execution_count": 24,
     "metadata": {},
     "output_type": "execute_result"
    }
   ],
   "source": [
    "answer = np.where(np.array(true_y) != np.array(pred_y))[0]\n",
    "answer"
   ]
  },
  {
   "cell_type": "code",
   "execution_count": 25,
   "id": "2785a760-120f-4bb5-b55c-c381a4e6b609",
   "metadata": {},
   "outputs": [
    {
     "name": "stdout",
     "output_type": "stream",
     "text": [
      "[   71   641   677  1047  1210  1581  2173  3905  4039  7000  9326 12377\n",
      " 13679 13706 14221 15306 16343 22565 24110 25386 25504 25729 27803 27816\n",
      " 28146]\n",
      "[1 1 1 0 0 0 0 0 1 0 1 1 0 1 1 0 0 0 1 0 1 0 0 0 1]\n"
     ]
    }
   ],
   "source": [
    "val = pd.read_csv('../dataset/val.csv')\n",
    "print(val.index.values[answer])\n",
    "print(val.Class.values[answer])"
   ]
  },
  {
   "cell_type": "code",
   "execution_count": 26,
   "id": "4105eeb3-b7fd-4de2-91d7-28d327d17b3f",
   "metadata": {},
   "outputs": [],
   "source": [
    "pred_y = trainer.predict()"
   ]
  },
  {
   "cell_type": "code",
   "execution_count": 27,
   "id": "d2b897dc-6205-43a3-bf83-73d6f8d47d71",
   "metadata": {},
   "outputs": [],
   "source": [
    "submit = pd.read_csv('../dataset/sample_submission.csv')\n",
    "submit['Class'] = pred_y\n",
    "submit.to_csv('./submit_AE_split2.csv', index=False)"
   ]
  },
  {
   "cell_type": "code",
   "execution_count": 28,
   "id": "8308878f-f08b-4d44-9b59-fb6640310b26",
   "metadata": {},
   "outputs": [
    {
     "data": {
      "text/plain": [
       "'../saved/ae_split2/best_model1.pth'"
      ]
     },
     "execution_count": 28,
     "metadata": {},
     "output_type": "execute_result"
    }
   ],
   "source": [
    "saved_model"
   ]
  },
  {
   "cell_type": "code",
   "execution_count": null,
   "id": "0964ee7d-1b8e-438b-ba28-daae805450f6",
   "metadata": {},
   "outputs": [],
   "source": []
  },
  {
   "cell_type": "code",
   "execution_count": null,
   "id": "fbcca9e7-cdfc-46ca-9df0-81941a9cc5a8",
   "metadata": {},
   "outputs": [],
   "source": []
  },
  {
   "cell_type": "code",
   "execution_count": null,
   "id": "d1fe6b3d-38e8-47a9-890c-933db4c5d743",
   "metadata": {},
   "outputs": [],
   "source": []
  },
  {
   "cell_type": "code",
   "execution_count": null,
   "id": "7a2ad2fe-7f3b-4859-95ac-7a01ef8d8e32",
   "metadata": {},
   "outputs": [],
   "source": []
  },
  {
   "cell_type": "code",
   "execution_count": null,
   "id": "c372c4e5-9777-4af1-874f-b2f1e9239355",
   "metadata": {},
   "outputs": [],
   "source": []
  }
 ],
 "metadata": {
  "kernelspec": {
   "display_name": "pytorch",
   "language": "python",
   "name": "pytorch"
  },
  "language_info": {
   "codemirror_mode": {
    "name": "ipython",
    "version": 3
   },
   "file_extension": ".py",
   "mimetype": "text/x-python",
   "name": "python",
   "nbconvert_exporter": "python",
   "pygments_lexer": "ipython3",
   "version": "3.8.13"
  }
 },
 "nbformat": 4,
 "nbformat_minor": 5
}
