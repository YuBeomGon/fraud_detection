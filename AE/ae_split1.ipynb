{
 "cells": [
  {
   "cell_type": "code",
   "execution_count": 1,
   "id": "27beacea-6bc4-4f6d-8024-d7661d3bb946",
   "metadata": {},
   "outputs": [],
   "source": [
    "# https://dacon.io/competitions/official/235930/codeshare/5508?page=1&dtype=recent"
   ]
  },
  {
   "cell_type": "code",
   "execution_count": 2,
   "id": "cf4fe48e-c012-4895-99e0-f3e2a7d1f658",
   "metadata": {},
   "outputs": [],
   "source": [
    "import random\n",
    "import pandas as pd\n",
    "import numpy as np\n",
    "import os\n",
    "\n",
    "import torch\n",
    "import torch.nn as nn\n",
    "import torch.optim as optim\n",
    "import torch.nn.functional as F\n",
    "\n",
    "from torch.utils.data import Dataset, DataLoader\n",
    "from torch.optim.lr_scheduler import StepLR\n",
    "from tqdm import tqdm\n",
    "from sklearn.metrics import f1_score, classification_report, confusion_matrix\n",
    "\n",
    "import warnings\n",
    "warnings.filterwarnings(action='ignore')"
   ]
  },
  {
   "cell_type": "code",
   "execution_count": 3,
   "id": "23c88f55-39a2-4f92-a939-eefc0aa1378f",
   "metadata": {},
   "outputs": [
    {
     "data": {
      "text/plain": [
       "device(type='cuda')"
      ]
     },
     "execution_count": 3,
     "metadata": {},
     "output_type": "execute_result"
    }
   ],
   "source": [
    "device = torch.device('cuda' if torch.cuda.is_available() else 'cpu')\n",
    "device"
   ]
  },
  {
   "cell_type": "code",
   "execution_count": 4,
   "id": "50f138e7-da83-41ad-b588-fe85c6dbef7d",
   "metadata": {},
   "outputs": [],
   "source": [
    "epochs = 100\n",
    "lr = 1e-3\n",
    "batch_size = 512\n",
    "momentum = 0.9\n",
    "weight_decay = 1e-4\n",
    "seed = 42\n",
    "NUM_WORKERS = 8\n",
    "saved_model = '../saved/ae_split1/best_model1.pth'\n",
    "\n",
    "param = {\n",
    "            'epochs' : epochs,\n",
    "            'lr' :lr,\n",
    "            'batch_size' : batch_size,\n",
    "            'momentum' : momentum,\n",
    "            'weight_decay' : weight_decay\n",
    "        }"
   ]
  },
  {
   "cell_type": "code",
   "execution_count": 5,
   "id": "b8b2a22e-d2cc-4913-beea-246cb512369e",
   "metadata": {},
   "outputs": [
    {
     "data": {
      "text/plain": [
       "'../saved/ae_split1'"
      ]
     },
     "execution_count": 5,
     "metadata": {},
     "output_type": "execute_result"
    }
   ],
   "source": [
    "'/'.join(saved_model.split('/')[:-1])"
   ]
  },
  {
   "cell_type": "code",
   "execution_count": 6,
   "id": "6d07f699-c8c6-4c60-b181-263b093cd2f0",
   "metadata": {},
   "outputs": [],
   "source": [
    "def seed_everything(seed) :\n",
    "    random.seed(seed)\n",
    "    os.environ['PYHONHASHSEED'] = str(seed)\n",
    "    np.random.seed(seed)\n",
    "    torch.manual_seed(seed)\n",
    "    torch.cuda.manual_seed(seed)\n",
    "    torch.backends.cudnn.deterministic = True\n",
    "    torch.backends.cudnn.benchmark = True\n",
    "\n",
    "# seed_everything(seed)    "
   ]
  },
  {
   "cell_type": "code",
   "execution_count": 7,
   "id": "1dc3b08e-4bf9-442b-a9e5-2d383ef2240a",
   "metadata": {},
   "outputs": [
    {
     "name": "stdout",
     "output_type": "stream",
     "text": [
      "(113842, 30)\n"
     ]
    }
   ],
   "source": [
    "train_df = pd.read_csv('../dataset/train.csv')\n",
    "val_df = pd.read_csv('../dataset/val.csv')\n",
    "train_df = train_df.drop(columns=['ID'])\n",
    "val_df = val_df.drop(columns=['ID'])\n",
    "test_df = pd.read_csv('../dataset/test.csv')\n",
    "test_df = test_df.drop(columns=['ID'])\n",
    "print(train_df.shape)"
   ]
  },
  {
   "cell_type": "code",
   "execution_count": 8,
   "id": "de6a6b3b-1460-4a9a-9a02-18ff2efe8c7a",
   "metadata": {},
   "outputs": [],
   "source": [
    "from sklearn.preprocessing import RobustScaler, StandardScaler, MinMaxScaler\n",
    "col=[col for col in val_df.columns if col not in ['ID','Class']]\n",
    "\n",
    "for i in col:\n",
    "    sc=StandardScaler()\n",
    "    scaler = sc.fit(train_df[i].values.reshape(-1,1))\n",
    "    train_df[i] = scaler.transform(train_df[i].values.reshape(-1,1))\n",
    "    val_df[i] = scaler.transform(val_df[i].values.reshape(-1,1))\n",
    "    test_df[i] = scaler.transform(test_df[i].values.reshape(-1,1))"
   ]
  },
  {
   "cell_type": "code",
   "execution_count": 9,
   "id": "c51032d7-d3a2-4bcd-9108-562207763da2",
   "metadata": {},
   "outputs": [],
   "source": [
    "class CDataset(Dataset):\n",
    "    def __init__(self, df, eval_mode=False):\n",
    "        self.df = df\n",
    "        self.eval_mode = eval_mode\n",
    "        if self.eval_mode:\n",
    "            self.labels = self.df['Class'].values\n",
    "            self.df = self.df.drop(columns=['Class']).values\n",
    "        else:\n",
    "            self.df = self.df.values\n",
    "        \n",
    "    def __getitem__(self, index):\n",
    "        if self.eval_mode:\n",
    "            self.x = self.df[index]\n",
    "            self.y = self.labels[index]\n",
    "            return torch.Tensor(self.x), self.y\n",
    "        else:\n",
    "            self.x = self.df[index]\n",
    "            return torch.Tensor(self.x)\n",
    "        \n",
    "    def __len__(self):\n",
    "        return len(self.df)"
   ]
  },
  {
   "cell_type": "code",
   "execution_count": 10,
   "id": "6507a820-b758-4e90-b6bc-ef70222ad1b3",
   "metadata": {},
   "outputs": [],
   "source": [
    "\n",
    "train_dataset = CDataset(train_df.sample(frac=1)[:len(train_df)//5])\n",
    "train_loader = DataLoader(train_dataset, batch_size = batch_size, shuffle=True, num_workers=NUM_WORKERS)\n",
    "\n",
    "val_dataset = CDataset(val_df, eval_mode=True)\n",
    "val_loader = DataLoader(val_dataset, batch_size = batch_size, shuffle=False, num_workers=NUM_WORKERS)\n",
    "\n",
    "test_dataset = CDataset(test_df, eval_mode=False)\n",
    "test_loader = DataLoader(test_dataset, batch_size = batch_size, shuffle=False, num_workers=NUM_WORKERS)"
   ]
  },
  {
   "cell_type": "code",
   "execution_count": 11,
   "id": "5e0e6622-a750-4eaa-b2d5-55718851486a",
   "metadata": {},
   "outputs": [
    {
     "data": {
      "text/plain": [
       "torch.Size([512, 30])"
      ]
     },
     "execution_count": 11,
     "metadata": {},
     "output_type": "execute_result"
    }
   ],
   "source": [
    "x = next(iter(train_loader))\n",
    "x.shape"
   ]
  },
  {
   "cell_type": "code",
   "execution_count": 12,
   "id": "ed5927d0-5eeb-41a7-8f05-f0748d058ffe",
   "metadata": {},
   "outputs": [
    {
     "data": {
      "text/plain": [
       "torch.Size([512, 30])"
      ]
     },
     "execution_count": 12,
     "metadata": {},
     "output_type": "execute_result"
    }
   ],
   "source": [
    "x, y  = next(iter(val_loader))\n",
    "x.shape"
   ]
  },
  {
   "cell_type": "code",
   "execution_count": 13,
   "id": "cfff4a1b-d630-4c5d-8f2e-8116aab52145",
   "metadata": {},
   "outputs": [],
   "source": [
    "from torch import Tensor\n",
    "class BasicBlock(nn.Module):\n",
    "\n",
    "    def __init__(\n",
    "        self,\n",
    "        inplanes: int,\n",
    "        planes: int,\n",
    "    ) -> None:\n",
    "        super().__init__()\n",
    "        norm_layer = nn.BatchNorm1d\n",
    "        self.lin1 = nn.Linear(inplanes, planes)\n",
    "        self.bn1 = norm_layer(planes)\n",
    "        self.act = nn.GELU()\n",
    "        self.lin2 = nn.Linear(planes, inplanes)\n",
    "        self.bn2 = norm_layer(inplanes)\n",
    "\n",
    "    def forward(self, x: Tensor) -> Tensor:\n",
    "        identity = x\n",
    "\n",
    "        out = self.lin1(x)\n",
    "        out = self.bn1(out)\n",
    "        out = self.act(out)\n",
    "\n",
    "        out = self.lin2(out)\n",
    "        out = self.bn2(out)\n",
    "\n",
    "        out += identity\n",
    "        out = self.act(out)\n",
    "\n",
    "        return out"
   ]
  },
  {
   "cell_type": "code",
   "execution_count": 14,
   "id": "aea1f718-cf59-436b-8ec9-27b644eaaf70",
   "metadata": {},
   "outputs": [],
   "source": [
    "class AutoEncoder(nn.Module) :\n",
    "    def __init__(self) :\n",
    "        super().__init__()\n",
    "        self.dim = 30\n",
    "        self.embeding_dim = 512\n",
    "        self.hidden = 128\n",
    "        self.act = nn.GELU()\n",
    "        \n",
    "        self.embeding = nn.Sequential(\n",
    "            nn.Linear(self.dim,self.embeding_dim),\n",
    "            self.act,\n",
    "        ) \n",
    "        \n",
    "        self.block1 = BasicBlock(128,128)\n",
    "        self.block2 = BasicBlock(128,128)\n",
    "\n",
    "        self.encoder = nn.Sequential(\n",
    "            nn.Linear(self.embeding_dim,self.hidden),\n",
    "            nn.BatchNorm1d(self.hidden),\n",
    "            self.act,\n",
    "        )\n",
    "        \n",
    "        self.decoder = nn.Sequential(\n",
    "            nn.Linear(self.hidden,self.embeding_dim),\n",
    "            nn.BatchNorm1d(self.embeding_dim),\n",
    "            self.act,            \n",
    "        )        \n",
    "        \n",
    "        for m in self.modules():\n",
    "            if isinstance(m, nn.Conv2d):\n",
    "                nn.init.kaiming_normal_(m.weight, mode=\"fan_out\", nonlinearity=\"relu\")\n",
    "            elif isinstance(m, (nn.BatchNorm2d, nn.BatchNorm1d, nn.GroupNorm)):\n",
    "                nn.init.constant_(m.weight, 1)\n",
    "                nn.init.constant_(m.bias, 0)\n",
    "                \n",
    "        \n",
    "#         freezing embeding layer        \n",
    "        for name, child in self.named_children() :\n",
    "            for param in child.parameters() :\n",
    "                # if 'embeding' in name :\n",
    "                if name == 'embeding' :\n",
    "                    param.requires_grad = False                \n",
    "        \n",
    "    def forward(self, x) :\n",
    "        \n",
    "        x_ = self.embeding(x)\n",
    "        \n",
    "        x = self.encoder(x_)\n",
    "        x = self.block1(x)\n",
    "        x = self.block2(x)\n",
    "        x = self.decoder(x)\n",
    "        \n",
    "        return x_, x\n",
    "        "
   ]
  },
  {
   "cell_type": "code",
   "execution_count": 15,
   "id": "2281b347-2432-449d-a5e4-faabdf071d57",
   "metadata": {},
   "outputs": [],
   "source": [
    "class Trainer() :\n",
    "    def __init__(self, model, optimizer, train_loader, val_loader, test_loader, scheduler, device, **param) :\n",
    "        self.model = model\n",
    "        self.optimizer = optimizer\n",
    "        self.train_loader = train_loader\n",
    "        self.val_loader = val_loader\n",
    "        self.test_loader = test_loader\n",
    "        self.scheduler = scheduler\n",
    "        self.device = device\n",
    "        self.batch_size = param['batch_size']\n",
    "        self.epochs = param['epochs']\n",
    "        self.lr = param['lr']\n",
    "        \n",
    "        self.criterion = nn.L1Loss().to(device)\n",
    "        self.cos = nn.CosineSimilarity(dim=1, eps=1e-6)\n",
    "        self.threshold = 0.5\n",
    "        \n",
    "    def fit(self,) :\n",
    "        self.model.to(self.device)\n",
    "        best_score = 0\n",
    "        for epoch in range(self.epochs) :\n",
    "            self.model.train()\n",
    "            train_loss = []\n",
    "            \n",
    "            for x in iter(self.train_loader) :\n",
    "                x = x.to(self.device)\n",
    "                x_, x = self.model(x)\n",
    "                \n",
    "                loss = self.criterion(x_, x)\n",
    "                \n",
    "                self.optimizer.zero_grad()\n",
    "                loss.backward()\n",
    "                self.optimizer.step()\n",
    "                \n",
    "                train_loss.append(loss.item())\n",
    "                \n",
    "            true, pred = self.validation()\n",
    "            score = f1_score(true, pred, average='macro')\n",
    "            self.get_confusion(true, pred)\n",
    "            \n",
    "            if self.scheduler is not None :\n",
    "                self.scheduler.step()\n",
    "            \n",
    "            print(f'epoch :[{epoch}] train loss [{np.mean(train_loss)}] val score [{score}]')    \n",
    "\n",
    "            self.save_model('/'.join(saved_model.split('/')[:-1]) + '/' + str(epoch) +'.pth')\n",
    "            if best_score < score :\n",
    "                best_score = score\n",
    "                self.save_model(saved_model)\n",
    "            \n",
    "    def validation(self) :\n",
    "        self.model.eval()\n",
    "        pred_y = []\n",
    "        true_y = []\n",
    "        \n",
    "        with torch.no_grad():\n",
    "            for x, y in iter(self.val_loader) :\n",
    "                x = x.to(self.device)\n",
    "                y = y.to(self.device)\n",
    "                \n",
    "                x_, x = self.model(x)\n",
    "                diff = self.cos(x, x_).cpu().tolist()\n",
    "                batch_pred = np.where(np.array(diff) < self.threshold, 1, 0).tolist()\n",
    "                pred_y += batch_pred\n",
    "                true_y += y.tolist()\n",
    "                \n",
    "        return true_y, pred_y\n",
    "    \n",
    "    def predict(self) :\n",
    "        \n",
    "        self.model.eval()\n",
    "        pred_y = []\n",
    "        \n",
    "        with torch.no_grad() :\n",
    "            for x in iter(self.test_loader) :\n",
    "                x = x.to(self.device)\n",
    "                x_, x = self.model(x)\n",
    "                diff = self.cos(x, x_).cpu().tolist()\n",
    "                \n",
    "                batch_pred = np.where(np.array(diff) < self.threshold, 1, 0).tolist()\n",
    "                pred_y += batch_pred\n",
    "                \n",
    "        return pred_y\n",
    "    \n",
    "    def save_model(self, name) :\n",
    "        torch.save(self.model.state_dict(), name)\n",
    "        \n",
    "    def load_model(self, name) :\n",
    "        self.model.load_state_dict(torch.load(name))\n",
    "        \n",
    "    def get_confusion(self, true_y, pred_y) :\n",
    "        # pred_y, true_y = self.validation()\n",
    "        tn, fp, fn, tp = confusion_matrix(true_y, pred_y).ravel()\n",
    "        print('tp : ', tp, ', fp : ', fp, ', tn : ', tn, ', fn : ', fn)\n"
   ]
  },
  {
   "cell_type": "code",
   "execution_count": 16,
   "id": "c8891703-3552-48de-9a61-c8f599d1b2ea",
   "metadata": {},
   "outputs": [],
   "source": [
    "model = AutoEncoder()"
   ]
  },
  {
   "cell_type": "code",
   "execution_count": 17,
   "id": "62c43387-b116-4262-b48d-c1f3d6a38745",
   "metadata": {},
   "outputs": [],
   "source": [
    "# for p in model.parameters():\n",
    "#     print(p.shape)\n",
    "#     print(p)"
   ]
  },
  {
   "cell_type": "code",
   "execution_count": 18,
   "id": "65ab0bcb-f82c-42e5-a718-097ee27a7d4d",
   "metadata": {},
   "outputs": [],
   "source": [
    "model = AutoEncoder()\n",
    "model.eval()\n",
    "# optimizer = torch.optim.Adam(\n",
    "#             [{'params':model.embeding.parameters(), 'lr':1e-7, 'weight_decay':2e-4},\n",
    "#             {'params':model.encoder.parameters()},\n",
    "#             {'params':model.decoder.parameters()}]\n",
    "#             , lr=param['lr'])\n",
    "optimizer = torch.optim.Adam(model.parameters(), param['lr'])\n",
    "scheduler = None"
   ]
  },
  {
   "cell_type": "code",
   "execution_count": 19,
   "id": "e978a85a-d539-4932-b2c3-f7aa76e1575b",
   "metadata": {},
   "outputs": [],
   "source": [
    "trainer = Trainer(model, optimizer, train_loader, val_loader, test_loader, scheduler, device, **param)\n",
    "# trainer = Trainer(model, optimizer, train_loader, val_loader, scheduler, device)"
   ]
  },
  {
   "cell_type": "code",
   "execution_count": 20,
   "id": "b1c340fc-b182-4fd0-a6f7-52440a06c3f9",
   "metadata": {},
   "outputs": [
    {
     "name": "stdout",
     "output_type": "stream",
     "text": [
      "tp :  28 , fp :  3040 , tn :  25392 , fn :  2\n",
      "epoch :[0] train loss [0.22626822160349952] val score [0.48078036977193345]\n",
      "tp :  25 , fp :  435 , tn :  27997 , fn :  5\n",
      "epoch :[1] train loss [0.14685475644138124] val score [0.5471220490180692]\n",
      "tp :  25 , fp :  388 , tn :  28044 , fn :  5\n",
      "epoch :[2] train loss [0.10011576414108277] val score [0.5529543625269938]\n",
      "tp :  25 , fp :  319 , tn :  28113 , fn :  5\n",
      "epoch :[3] train loss [0.07780418578121397] val score [0.5639801983006851]\n",
      "tp :  25 , fp :  318 , tn :  28114 , fn :  5\n",
      "epoch :[4] train loss [0.06386328463753065] val score [0.5641682994348549]\n",
      "tp :  25 , fp :  240 , tn :  28192 , fn :  5\n",
      "epoch :[5] train loss [0.0572666616903411] val score [0.5825825601124895]\n",
      "tp :  25 , fp :  224 , tn :  28208 , fn :  5\n",
      "epoch :[6] train loss [0.05069073132342762] val score [0.5875843736583658]\n",
      "tp :  25 , fp :  214 , tn :  28218 , fn :  5\n",
      "epoch :[7] train loss [0.04685698846975962] val score [0.5910040521135064]\n",
      "tp :  25 , fp :  253 , tn :  28179 , fn :  5\n",
      "epoch :[8] train loss [0.04287634500198894] val score [0.578890323326525]\n",
      "tp :  25 , fp :  174 , tn :  28258 , fn :  5\n",
      "epoch :[9] train loss [0.040214486999644174] val score [0.6075916832233768]\n",
      "tp :  25 , fp :  186 , tn :  28246 , fn :  5\n",
      "epoch :[10] train loss [0.0375655994647079] val score [0.6020496313376503]\n",
      "tp :  25 , fp :  175 , tn :  28257 , fn :  5\n",
      "epoch :[11] train loss [0.035272106528282166] val score [0.6071081826004132]\n",
      "tp :  25 , fp :  176 , tn :  28256 , fn :  5\n",
      "epoch :[12] train loss [0.03528828157318963] val score [0.6066287912194814]\n",
      "tp :  25 , fp :  135 , tn :  28297 , fn :  5\n",
      "epoch :[13] train loss [0.0342259774191512] val score [0.6303451193287974]\n",
      "tp :  25 , fp :  127 , tn :  28305 , fn :  5\n",
      "epoch :[14] train loss [0.032671725087695655] val score [0.6361994777982936]\n",
      "tp :  25 , fp :  116 , tn :  28316 , fn :  5\n",
      "epoch :[15] train loss [0.031073398846719] val score [0.6451328074678382]\n",
      "tp :  25 , fp :  93 , tn :  28339 , fn :  5\n",
      "epoch :[16] train loss [0.030270435785253843] val score [0.6680558781974872]\n",
      "tp :  25 , fp :  108 , tn :  28324 , fn :  5\n",
      "epoch :[17] train loss [0.03073676385813289] val score [0.6523788313564907]\n",
      "tp :  25 , fp :  67 , tn :  28365 , fn :  5\n",
      "epoch :[18] train loss [0.028326868514219918] val score [0.7042842522861986]\n",
      "tp :  25 , fp :  105 , tn :  28327 , fn :  5\n",
      "epoch :[19] train loss [0.028191240711344615] val score [0.6552810760341061]\n",
      "tp :  25 , fp :  90 , tn :  28342 , fn :  5\n",
      "epoch :[20] train loss [0.030157908507519298] val score [0.6715772162000156]\n",
      "tp :  25 , fp :  103 , tn :  28329 , fn :  5\n",
      "epoch :[21] train loss [0.027665154760082564] val score [0.6572765744515459]\n",
      "tp :  24 , fp :  57 , tn :  28375 , fn :  6\n",
      "epoch :[22] train loss [0.027234309828943676] val score [0.7156617656503246]\n",
      "tp :  24 , fp :  86 , tn :  28346 , fn :  6\n",
      "epoch :[23] train loss [0.026680248313479954] val score [0.6706184840800224]\n",
      "tp :  24 , fp :  52 , tn :  28380 , fn :  6\n",
      "epoch :[24] train loss [0.026722165031565562] val score [0.7259046927063375]\n",
      "tp :  24 , fp :  92 , tn :  28340 , fn :  6\n",
      "epoch :[25] train loss [0.025589340676863987] val score [0.6635205513229367]\n",
      "tp :  23 , fp :  35 , tn :  28397 , fn :  7\n",
      "epoch :[26] train loss [0.025168833633263905] val score [0.7609941522338595]\n",
      "tp :  24 , fp :  48 , tn :  28384 , fn :  6\n",
      "epoch :[27] train loss [0.024625090385476747] val score [0.734818949578353]\n",
      "tp :  25 , fp :  95 , tn :  28337 , fn :  5\n",
      "epoch :[28] train loss [0.026543193144930734] val score [0.6657859818461502]\n",
      "tp :  25 , fp :  82 , tn :  28350 , fn :  5\n",
      "epoch :[29] train loss [0.02521499325003889] val score [0.6817157314328264]\n",
      "tp :  24 , fp :  54 , tn :  28378 , fn :  6\n",
      "epoch :[30] train loss [0.023772876958052316] val score [0.7216942019462436]\n",
      "tp :  25 , fp :  53 , tn :  28379 , fn :  5\n",
      "epoch :[31] train loss [0.02477837527791659] val score [0.730971061881369]\n",
      "tp :  25 , fp :  48 , tn :  28384 , fn :  5\n",
      "epoch :[32] train loss [0.024472327157855033] val score [0.7422520697342344]\n",
      "tp :  25 , fp :  66 , tn :  28366 , fn :  5\n",
      "epoch :[33] train loss [0.024139635347657732] val score [0.7059866032567539]\n",
      "tp :  24 , fp :  45 , tn :  28387 , fn :  6\n",
      "epoch :[34] train loss [0.02437976486980915] val score [0.7419754962737805]\n",
      "tp :  25 , fp :  55 , tn :  28377 , fn :  5\n",
      "epoch :[35] train loss [0.026003794372081758] val score [0.7267446884090669]\n",
      "tp :  25 , fp :  55 , tn :  28377 , fn :  5\n",
      "epoch :[36] train loss [0.024032181832525465] val score [0.7267446884090669]\n",
      "tp :  25 , fp :  50 , tn :  28382 , fn :  5\n",
      "epoch :[37] train loss [0.022989821930726368] val score [0.7376112450647377]\n",
      "tp :  24 , fp :  52 , tn :  28380 , fn :  6\n",
      "epoch :[38] train loss [0.022649349396427473] val score [0.7259046927063375]\n",
      "tp :  25 , fp :  57 , tn :  28375 , fn :  5\n",
      "epoch :[39] train loss [0.022213840526011254] val score [0.7226686263465465]\n",
      "tp :  23 , fp :  52 , tn :  28380 , fn :  7\n",
      "epoch :[40] train loss [0.023081859201192857] val score [0.7185284265239913]\n",
      "tp :  24 , fp :  48 , tn :  28384 , fn :  6\n",
      "epoch :[41] train loss [0.02350281464556853] val score [0.734818949578353]\n",
      "tp :  23 , fp :  33 , tn :  28399 , fn :  7\n",
      "epoch :[42] train loss [0.023053018955720796] val score [0.7670899831999064]\n",
      "tp :  24 , fp :  58 , tn :  28374 , fn :  6\n",
      "epoch :[43] train loss [0.02241713532971011] val score [0.7137224530028867]\n",
      "tp :  23 , fp :  34 , tn :  28398 , fn :  7\n",
      "epoch :[44] train loss [0.02228360432717535] val score [0.7640071355493496]\n",
      "tp :  24 , fp :  39 , tn :  28393 , fn :  6\n",
      "epoch :[45] train loss [0.02200863609711329] val score [0.7576686054464823]\n",
      "tp :  25 , fp :  75 , tn :  28357 , fn :  5\n",
      "epoch :[46] train loss [0.022199590214424664] val score [0.6916033925577187]\n",
      "tp :  24 , fp :  53 , tn :  28379 , fn :  6\n",
      "epoch :[47] train loss [0.02246051538321707] val score [0.7237798546209762]\n",
      "tp :  24 , fp :  25 , tn :  28407 , fn :  6\n",
      "epoch :[48] train loss [0.022535557962126203] val score [0.8035247970552837]\n",
      "tp :  24 , fp :  26 , tn :  28406 , fn :  6\n",
      "epoch :[49] train loss [0.02155888175798787] val score [0.7997185279009218]\n",
      "tp :  25 , fp :  82 , tn :  28350 , fn :  5\n",
      "epoch :[50] train loss [0.022009374366866216] val score [0.6817157314328264]\n",
      "tp :  25 , fp :  166 , tn :  28266 , fn :  5\n",
      "epoch :[51] train loss [0.026263056322932243] val score [0.611614315218544]\n",
      "tp :  25 , fp :  106 , tn :  28326 , fn :  5\n",
      "epoch :[52] train loss [0.025071460174189673] val score [0.6543017535151879]\n",
      "tp :  25 , fp :  108 , tn :  28324 , fn :  5\n",
      "epoch :[53] train loss [0.023209983193212085] val score [0.6523788313564907]\n",
      "tp :  24 , fp :  55 , tn :  28377 , fn :  6\n",
      "epoch :[54] train loss [0.022466862739788162] val score [0.7196466561760486]\n",
      "tp :  25 , fp :  78 , tn :  28354 , fn :  5\n",
      "epoch :[55] train loss [0.02210463657975197] val score [0.687239175221426]\n",
      "tp :  25 , fp :  69 , tn :  28363 , fn :  5\n",
      "epoch :[56] train loss [0.021945293289091852] val score [0.7009614947751022]\n",
      "tp :  24 , fp :  42 , tn :  28390 , fn :  6\n",
      "epoch :[57] train loss [0.02119201835658815] val score [0.7495776729781094]\n",
      "tp :  24 , fp :  37 , tn :  28395 , fn :  6\n",
      "epoch :[58] train loss [0.021637198701500892] val score [0.763357962397253]\n",
      "tp :  24 , fp :  28 , tn :  28404 , fn :  6\n",
      "epoch :[59] train loss [0.02084349894689189] val score [0.7923838522013523]\n",
      "tp :  24 , fp :  22 , tn :  28410 , fn :  6\n",
      "epoch :[60] train loss [0.02103214503990279] val score [0.8155432029271039]\n",
      "tp :  24 , fp :  34 , tn :  28398 , fn :  6\n",
      "epoch :[61] train loss [0.02063370421528816] val score [0.7723753830798661]\n",
      "tp :  25 , fp :  27 , tn :  28405 , fn :  5\n",
      "epoch :[62] train loss [0.020804694833026993] val score [0.8045965667777433]\n",
      "tp :  25 , fp :  38 , tn :  28394 , fn :  5\n",
      "epoch :[63] train loss [0.02184825378159682] val score [0.7684388896488608]\n",
      "tp :  24 , fp :  30 , tn :  28402 , fn :  6\n",
      "epoch :[64] train loss [0.02085017669532034] val score [0.7853976073187896]\n",
      "tp :  24 , fp :  34 , tn :  28398 , fn :  6\n",
      "epoch :[65] train loss [0.020154231496983106] val score [0.7723753830798661]\n",
      "tp :  24 , fp :  21 , tn :  28411 , fn :  6\n",
      "epoch :[66] train loss [0.020754395632280244] val score [0.8197625288043765]\n",
      "tp :  24 , fp :  41 , tn :  28391 , fn :  6\n",
      "epoch :[67] train loss [0.020577715171708002] val score [0.7522180576818174]\n",
      "tp :  24 , fp :  28 , tn :  28404 , fn :  6\n",
      "epoch :[68] train loss [0.02130629950099521] val score [0.7923838522013523]\n",
      "tp :  24 , fp :  25 , tn :  28407 , fn :  6\n",
      "epoch :[69] train loss [0.019850955903530122] val score [0.8035247970552837]\n",
      "tp :  24 , fp :  20 , tn :  28412 , fn :  6\n",
      "epoch :[70] train loss [0.02033515829179022] val score [0.8240956523806127]\n",
      "tp :  25 , fp :  42 , tn :  28390 , fn :  5\n",
      "epoch :[71] train loss [0.02055213927394814] val score [0.7573184229436457]\n",
      "tp :  24 , fp :  20 , tn :  28412 , fn :  6\n",
      "epoch :[72] train loss [0.020053881944881544] val score [0.8240956523806127]\n",
      "tp :  25 , fp :  28 , tn :  28404 , fn :  5\n",
      "epoch :[73] train loss [0.020233221020963456] val score [0.8009145358549308]\n",
      "tp :  25 , fp :  23 , tn :  28409 , fn :  5\n",
      "epoch :[74] train loss [0.019720642558402484] val score [0.8202665410912253]\n",
      "tp :  24 , fp :  20 , tn :  28412 , fn :  6\n",
      "epoch :[75] train loss [0.019716874592834048] val score [0.8240956523806127]\n",
      "tp :  25 , fp :  29 , tn :  28403 , fn :  5\n",
      "epoch :[76] train loss [0.019836055239041646] val score [0.7973199624677456]\n",
      "tp :  24 , fp :  20 , tn :  28412 , fn :  6\n",
      "epoch :[77] train loss [0.019979547502266035] val score [0.8240956523806127]\n",
      "tp :  24 , fp :  20 , tn :  28412 , fn :  6\n",
      "epoch :[78] train loss [0.019598405290808942] val score [0.8240956523806127]\n",
      "tp :  24 , fp :  17 , tn :  28415 , fn :  6\n",
      "epoch :[79] train loss [0.02044775765389204] val score [0.837825892968845]\n",
      "tp :  24 , fp :  14 , tn :  28418 , fn :  6\n",
      "epoch :[80] train loss [0.019594558825095493] val score [0.8527652935382679]\n",
      "tp :  24 , fp :  19 , tn :  28413 , fn :  6\n",
      "epoch :[81] train loss [0.019475920125842094] val score [0.8285472502863169]\n",
      "tp :  24 , fp :  20 , tn :  28412 , fn :  6\n",
      "epoch :[82] train loss [0.01923348659442531] val score [0.8240956523806127]\n",
      "tp :  25 , fp :  50 , tn :  28382 , fn :  5\n",
      "epoch :[83] train loss [0.019537850862575902] val score [0.7376112450647377]\n",
      "tp :  24 , fp :  14 , tn :  28418 , fn :  6\n",
      "epoch :[84] train loss [0.021179291067851914] val score [0.8527652935382679]\n",
      "tp :  25 , fp :  31 , tn :  28401 , fn :  5\n",
      "epoch :[85] train loss [0.020689174491498204] val score [0.7903809848799157]\n",
      "tp :  25 , fp :  26 , tn :  28406 , fn :  5\n",
      "epoch :[86] train loss [0.01983015810449918] val score [0.808369294415656]\n",
      "tp :  25 , fp :  26 , tn :  28406 , fn :  5\n",
      "epoch :[87] train loss [0.019245844417148165] val score [0.808369294415656]\n",
      "tp :  25 , fp :  19 , tn :  28413 , fn :  5\n",
      "epoch :[88] train loss [0.019452724357446036] val score [0.8376267560436427]\n",
      "tp :  24 , fp :  20 , tn :  28412 , fn :  6\n",
      "epoch :[89] train loss [0.01932960440301233] val score [0.8240956523806127]\n",
      "tp :  25 , fp :  41 , tn :  28391 , fn :  5\n",
      "epoch :[90] train loss [0.0192233978667193] val score [0.7600119366040216]\n",
      "tp :  24 , fp :  20 , tn :  28412 , fn :  6\n",
      "epoch :[91] train loss [0.019889850810998016] val score [0.8240956523806127]\n",
      "tp :  25 , fp :  27 , tn :  28405 , fn :  5\n",
      "epoch :[92] train loss [0.020348786231544284] val score [0.8045965667777433]\n",
      "tp :  24 , fp :  23 , tn :  28409 , fn :  6\n",
      "epoch :[93] train loss [0.020095205700231922] val score [0.8114332410601341]\n",
      "tp :  25 , fp :  35 , tn :  28397 , fn :  5\n",
      "epoch :[94] train loss [0.019385772405399217] val score [0.777425875747303]\n",
      "tp :  24 , fp :  23 , tn :  28409 , fn :  6\n",
      "epoch :[95] train loss [0.018985739308926795] val score [0.8114332410601341]\n",
      "tp :  25 , fp :  45 , tn :  28387 , fn :  5\n",
      "epoch :[96] train loss [0.019565129155913987] val score [0.7495600450513867]\n",
      "tp :  25 , fp :  126 , tn :  28306 , fn :  5\n",
      "epoch :[97] train loss [0.02366779765321149] val score [0.6369672195553023]\n",
      "tp :  25 , fp :  99 , tn :  28333 , fn :  5\n",
      "epoch :[98] train loss [0.021039737222923172] val score [0.6614216855893797]\n",
      "tp :  25 , fp :  71 , tn :  28361 , fn :  5\n",
      "epoch :[99] train loss [0.020947113467587365] val score [0.697743660770528]\n"
     ]
    }
   ],
   "source": [
    "trainer.fit()"
   ]
  },
  {
   "cell_type": "code",
   "execution_count": 21,
   "id": "49c3a528-b82e-4abd-8bb8-a77aa77bb6dd",
   "metadata": {},
   "outputs": [
    {
     "name": "stdout",
     "output_type": "stream",
     "text": [
      "0.8527652935382679\n",
      "tp :  24 , fp :  14 , tn :  28418 , fn :  6\n"
     ]
    }
   ],
   "source": [
    "trainer.threshold = 0.5\n",
    "trainer.load_model(saved_model)\n",
    "true_y, pred_y = trainer.validation()\n",
    "score = f1_score(true_y, pred_y, average='macro')\n",
    "print(score)\n",
    "tn, fp, fn, tp = confusion_matrix(true_y, pred_y).ravel()\n",
    "print('tp : ', tp, ', fp : ', fp, ', tn : ', tn, ', fn : ', fn)\n",
    "# confusion_matrix(true_y, pred_y)\n"
   ]
  },
  {
   "cell_type": "code",
   "execution_count": 22,
   "id": "c05b1deb-9e06-4fdc-9204-8dd43b0ae80a",
   "metadata": {},
   "outputs": [
    {
     "data": {
      "text/plain": [
       "array([[28418,    14],\n",
       "       [    6,    24]])"
      ]
     },
     "execution_count": 22,
     "metadata": {},
     "output_type": "execute_result"
    }
   ],
   "source": [
    "confusion_matrix(true_y, pred_y)"
   ]
  },
  {
   "cell_type": "code",
   "execution_count": 23,
   "id": "3018dc07-72c8-43e7-85da-21bc5040159b",
   "metadata": {},
   "outputs": [
    {
     "name": "stdout",
     "output_type": "stream",
     "text": [
      "              precision    recall  f1-score   support\n",
      "\n",
      "           0       1.00      1.00      1.00     28432\n",
      "           1       0.63      0.80      0.71        30\n",
      "\n",
      "    accuracy                           1.00     28462\n",
      "   macro avg       0.82      0.90      0.85     28462\n",
      "weighted avg       1.00      1.00      1.00     28462\n",
      "\n"
     ]
    }
   ],
   "source": [
    "print(classification_report(true_y, pred_y))"
   ]
  },
  {
   "cell_type": "code",
   "execution_count": 24,
   "id": "774b3c8f-1aec-48c0-9f5f-2de0772337f2",
   "metadata": {},
   "outputs": [
    {
     "data": {
      "text/plain": [
       "array([   71,  1047,  1210,  4039,  4917,  7000,  9326, 10880, 12567,\n",
       "       14221, 15306, 17534, 19113, 19226, 20225, 21389, 24110, 26010,\n",
       "       27905, 28146])"
      ]
     },
     "execution_count": 24,
     "metadata": {},
     "output_type": "execute_result"
    }
   ],
   "source": [
    "answer = np.where(np.array(true_y) != np.array(pred_y))[0]\n",
    "answer"
   ]
  },
  {
   "cell_type": "code",
   "execution_count": 25,
   "id": "e75a14dd-fa4c-4efb-9845-df595963aca8",
   "metadata": {},
   "outputs": [
    {
     "name": "stdout",
     "output_type": "stream",
     "text": [
      "[   71  1047  1210  4039  4917  7000  9326 10880 12567 14221 15306 17534\n",
      " 19113 19226 20225 21389 24110 26010 27905 28146]\n",
      "[1 0 0 1 0 0 1 0 0 1 0 0 0 0 0 0 1 0 0 1]\n"
     ]
    }
   ],
   "source": [
    "val = pd.read_csv('../dataset/val.csv')\n",
    "print(val.index.values[answer])\n",
    "print(val.Class.values[answer])"
   ]
  },
  {
   "cell_type": "code",
   "execution_count": 26,
   "id": "4105eeb3-b7fd-4de2-91d7-28d327d17b3f",
   "metadata": {},
   "outputs": [],
   "source": [
    "pred_y = trainer.predict()"
   ]
  },
  {
   "cell_type": "code",
   "execution_count": 29,
   "id": "d2b897dc-6205-43a3-bf83-73d6f8d47d71",
   "metadata": {},
   "outputs": [],
   "source": [
    "submit = pd.read_csv('../dataset/sample_submission.csv')\n",
    "submit['Class'] = pred_y\n",
    "submit.to_csv('./submit_AE_split1.csv', index=False)"
   ]
  },
  {
   "cell_type": "code",
   "execution_count": 28,
   "id": "8308878f-f08b-4d44-9b59-fb6640310b26",
   "metadata": {},
   "outputs": [
    {
     "data": {
      "text/plain": [
       "'../saved/ae_split1/best_model1.pth'"
      ]
     },
     "execution_count": 28,
     "metadata": {},
     "output_type": "execute_result"
    }
   ],
   "source": [
    "saved_model"
   ]
  },
  {
   "cell_type": "code",
   "execution_count": null,
   "id": "0964ee7d-1b8e-438b-ba28-daae805450f6",
   "metadata": {},
   "outputs": [],
   "source": []
  },
  {
   "cell_type": "code",
   "execution_count": null,
   "id": "fbcca9e7-cdfc-46ca-9df0-81941a9cc5a8",
   "metadata": {},
   "outputs": [],
   "source": []
  },
  {
   "cell_type": "code",
   "execution_count": null,
   "id": "d1fe6b3d-38e8-47a9-890c-933db4c5d743",
   "metadata": {},
   "outputs": [],
   "source": []
  },
  {
   "cell_type": "code",
   "execution_count": null,
   "id": "7a2ad2fe-7f3b-4859-95ac-7a01ef8d8e32",
   "metadata": {},
   "outputs": [],
   "source": []
  },
  {
   "cell_type": "code",
   "execution_count": null,
   "id": "c372c4e5-9777-4af1-874f-b2f1e9239355",
   "metadata": {},
   "outputs": [],
   "source": []
  }
 ],
 "metadata": {
  "kernelspec": {
   "display_name": "pytorch",
   "language": "python",
   "name": "pytorch"
  },
  "language_info": {
   "codemirror_mode": {
    "name": "ipython",
    "version": 3
   },
   "file_extension": ".py",
   "mimetype": "text/x-python",
   "name": "python",
   "nbconvert_exporter": "python",
   "pygments_lexer": "ipython3",
   "version": "3.8.13"
  }
 },
 "nbformat": 4,
 "nbformat_minor": 5
}
