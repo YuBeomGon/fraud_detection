{
 "cells": [
  {
   "cell_type": "code",
   "execution_count": 1,
   "id": "27beacea-6bc4-4f6d-8024-d7661d3bb946",
   "metadata": {},
   "outputs": [],
   "source": [
    "# https://dacon.io/competitions/official/235930/codeshare/5508?page=1&dtype=recent"
   ]
  },
  {
   "cell_type": "code",
   "execution_count": 2,
   "id": "cf4fe48e-c012-4895-99e0-f3e2a7d1f658",
   "metadata": {},
   "outputs": [],
   "source": [
    "import random\n",
    "import pandas as pd\n",
    "import numpy as np\n",
    "import os\n",
    "\n",
    "import torch\n",
    "import torch.nn as nn\n",
    "import torch.optim as optim\n",
    "import torch.nn.functional as F\n",
    "\n",
    "from torch.utils.data import Dataset, DataLoader\n",
    "from torch.optim.lr_scheduler import StepLR\n",
    "from tqdm import tqdm\n",
    "from sklearn.metrics import f1_score, classification_report, confusion_matrix\n",
    "\n",
    "import warnings\n",
    "warnings.filterwarnings(action='ignore')"
   ]
  },
  {
   "cell_type": "code",
   "execution_count": 3,
   "id": "23c88f55-39a2-4f92-a939-eefc0aa1378f",
   "metadata": {},
   "outputs": [
    {
     "data": {
      "text/plain": [
       "device(type='cuda')"
      ]
     },
     "execution_count": 3,
     "metadata": {},
     "output_type": "execute_result"
    }
   ],
   "source": [
    "device = torch.device('cuda' if torch.cuda.is_available() else 'cpu')\n",
    "device"
   ]
  },
  {
   "cell_type": "code",
   "execution_count": 4,
   "id": "50f138e7-da83-41ad-b588-fe85c6dbef7d",
   "metadata": {},
   "outputs": [],
   "source": [
    "epochs = 100\n",
    "lr = 1e-3\n",
    "batch_size = 512\n",
    "momentum = 0.9\n",
    "weight_decay = 1e-4\n",
    "seed = 42\n",
    "NUM_WORKERS = 8\n",
    "saved_model = '../saved/ae_split4/best_model1.pth'\n",
    "\n",
    "param = {\n",
    "            'epochs' : epochs,\n",
    "            'lr' :lr,\n",
    "            'batch_size' : batch_size,\n",
    "            'momentum' : momentum,\n",
    "            'weight_decay' : weight_decay\n",
    "        }"
   ]
  },
  {
   "cell_type": "code",
   "execution_count": 5,
   "id": "b8b2a22e-d2cc-4913-beea-246cb512369e",
   "metadata": {},
   "outputs": [
    {
     "data": {
      "text/plain": [
       "'../saved/ae_split4'"
      ]
     },
     "execution_count": 5,
     "metadata": {},
     "output_type": "execute_result"
    }
   ],
   "source": [
    "'/'.join(saved_model.split('/')[:-1])"
   ]
  },
  {
   "cell_type": "code",
   "execution_count": 6,
   "id": "6d07f699-c8c6-4c60-b181-263b093cd2f0",
   "metadata": {},
   "outputs": [],
   "source": [
    "def seed_everything(seed) :\n",
    "    random.seed(seed)\n",
    "    os.environ['PYHONHASHSEED'] = str(seed)\n",
    "    np.random.seed(seed)\n",
    "    torch.manual_seed(seed)\n",
    "    torch.cuda.manual_seed(seed)\n",
    "    torch.backends.cudnn.deterministic = True\n",
    "    torch.backends.cudnn.benchmark = True\n",
    "\n",
    "# seed_everything(seed)    "
   ]
  },
  {
   "cell_type": "code",
   "execution_count": 7,
   "id": "1dc3b08e-4bf9-442b-a9e5-2d383ef2240a",
   "metadata": {},
   "outputs": [
    {
     "name": "stdout",
     "output_type": "stream",
     "text": [
      "(113842, 30)\n"
     ]
    }
   ],
   "source": [
    "train_df = pd.read_csv('../dataset/train.csv')\n",
    "val_df = pd.read_csv('../dataset/val.csv')\n",
    "train_df = train_df.drop(columns=['ID'])\n",
    "val_df = val_df.drop(columns=['ID'])\n",
    "test_df = pd.read_csv('../dataset/test.csv')\n",
    "test_df = test_df.drop(columns=['ID'])\n",
    "print(train_df.shape)"
   ]
  },
  {
   "cell_type": "code",
   "execution_count": 8,
   "id": "de6a6b3b-1460-4a9a-9a02-18ff2efe8c7a",
   "metadata": {},
   "outputs": [],
   "source": [
    "from sklearn.preprocessing import RobustScaler, StandardScaler, MinMaxScaler\n",
    "col=[col for col in val_df.columns if col not in ['ID','Class']]\n",
    "\n",
    "for i in col:\n",
    "    sc=StandardScaler()\n",
    "    scaler = sc.fit(train_df[i].values.reshape(-1,1))\n",
    "    train_df[i] = scaler.transform(train_df[i].values.reshape(-1,1))\n",
    "    val_df[i] = scaler.transform(val_df[i].values.reshape(-1,1))\n",
    "    test_df[i] = scaler.transform(test_df[i].values.reshape(-1,1))"
   ]
  },
  {
   "cell_type": "code",
   "execution_count": 9,
   "id": "c51032d7-d3a2-4bcd-9108-562207763da2",
   "metadata": {},
   "outputs": [],
   "source": [
    "class CDataset(Dataset):\n",
    "    def __init__(self, df, eval_mode=False):\n",
    "        self.df = df\n",
    "        self.eval_mode = eval_mode\n",
    "        if self.eval_mode:\n",
    "            self.labels = self.df['Class'].values\n",
    "            self.df = self.df.drop(columns=['Class']).values\n",
    "        else:\n",
    "            self.df = self.df.values\n",
    "        \n",
    "    def __getitem__(self, index):\n",
    "        if self.eval_mode:\n",
    "            self.x = self.df[index]\n",
    "            self.y = self.labels[index]\n",
    "            return torch.Tensor(self.x), self.y\n",
    "        else:\n",
    "            self.x = self.df[index]\n",
    "            return torch.Tensor(self.x)\n",
    "        \n",
    "    def __len__(self):\n",
    "        return len(self.df)"
   ]
  },
  {
   "cell_type": "code",
   "execution_count": 10,
   "id": "6507a820-b758-4e90-b6bc-ef70222ad1b3",
   "metadata": {},
   "outputs": [],
   "source": [
    "\n",
    "train_dataset = CDataset(train_df.sample(frac=1)[:len(train_df)//5])\n",
    "train_loader = DataLoader(train_dataset, batch_size = batch_size, shuffle=True, num_workers=NUM_WORKERS)\n",
    "\n",
    "val_dataset = CDataset(val_df, eval_mode=True)\n",
    "val_loader = DataLoader(val_dataset, batch_size = batch_size, shuffle=False, num_workers=NUM_WORKERS)\n",
    "\n",
    "test_dataset = CDataset(test_df, eval_mode=False)\n",
    "test_loader = DataLoader(test_dataset, batch_size = batch_size, shuffle=False, num_workers=NUM_WORKERS)"
   ]
  },
  {
   "cell_type": "code",
   "execution_count": 11,
   "id": "5e0e6622-a750-4eaa-b2d5-55718851486a",
   "metadata": {},
   "outputs": [
    {
     "data": {
      "text/plain": [
       "torch.Size([512, 30])"
      ]
     },
     "execution_count": 11,
     "metadata": {},
     "output_type": "execute_result"
    }
   ],
   "source": [
    "x = next(iter(train_loader))\n",
    "x.shape"
   ]
  },
  {
   "cell_type": "code",
   "execution_count": 12,
   "id": "ed5927d0-5eeb-41a7-8f05-f0748d058ffe",
   "metadata": {},
   "outputs": [
    {
     "data": {
      "text/plain": [
       "torch.Size([512, 30])"
      ]
     },
     "execution_count": 12,
     "metadata": {},
     "output_type": "execute_result"
    }
   ],
   "source": [
    "x, y  = next(iter(val_loader))\n",
    "x.shape"
   ]
  },
  {
   "cell_type": "code",
   "execution_count": 13,
   "id": "cfff4a1b-d630-4c5d-8f2e-8116aab52145",
   "metadata": {},
   "outputs": [],
   "source": [
    "from torch import Tensor\n",
    "class BasicBlock(nn.Module):\n",
    "\n",
    "    def __init__(\n",
    "        self,\n",
    "        inplanes: int,\n",
    "        planes: int,\n",
    "    ) -> None:\n",
    "        super().__init__()\n",
    "        norm_layer = nn.BatchNorm1d\n",
    "        self.lin1 = nn.Linear(inplanes, planes)\n",
    "        self.bn1 = norm_layer(planes)\n",
    "        self.act = nn.GELU()\n",
    "        self.lin2 = nn.Linear(planes, inplanes)\n",
    "        self.bn2 = norm_layer(inplanes)\n",
    "\n",
    "    def forward(self, x: Tensor) -> Tensor:\n",
    "        identity = x\n",
    "\n",
    "        out = self.lin1(x)\n",
    "        out = self.bn1(out)\n",
    "        out = self.act(out)\n",
    "\n",
    "        out = self.lin2(out)\n",
    "        out = self.bn2(out)\n",
    "\n",
    "        out += identity\n",
    "        out = self.act(out)\n",
    "\n",
    "        return out"
   ]
  },
  {
   "cell_type": "code",
   "execution_count": 14,
   "id": "aea1f718-cf59-436b-8ec9-27b644eaaf70",
   "metadata": {},
   "outputs": [],
   "source": [
    "class AutoEncoder(nn.Module) :\n",
    "    def __init__(self) :\n",
    "        super().__init__()\n",
    "        self.dim = 30\n",
    "        self.embeding_dim = 512\n",
    "        self.hidden = 128\n",
    "        self.act = nn.GELU()\n",
    "        \n",
    "        self.embeding = nn.Sequential(\n",
    "            nn.Linear(self.dim,self.embeding_dim),\n",
    "            self.act,\n",
    "        ) \n",
    "        \n",
    "        self.block1 = BasicBlock(128,128)\n",
    "        self.block2 = BasicBlock(128,128)\n",
    "\n",
    "        self.encoder = nn.Sequential(\n",
    "            nn.Linear(self.embeding_dim,self.hidden),\n",
    "            nn.BatchNorm1d(self.hidden),\n",
    "            self.act,\n",
    "        )\n",
    "        \n",
    "        self.decoder = nn.Sequential(\n",
    "            nn.Linear(self.hidden,self.embeding_dim),\n",
    "            nn.BatchNorm1d(self.embeding_dim),\n",
    "            self.act,            \n",
    "        )        \n",
    "        \n",
    "        for m in self.modules():\n",
    "            if isinstance(m, nn.Conv2d):\n",
    "                nn.init.kaiming_normal_(m.weight, mode=\"fan_out\", nonlinearity=\"relu\")\n",
    "            elif isinstance(m, (nn.BatchNorm2d, nn.BatchNorm1d, nn.GroupNorm)):\n",
    "                nn.init.constant_(m.weight, 1)\n",
    "                nn.init.constant_(m.bias, 0)\n",
    "                \n",
    "        \n",
    "#         freezing embeding layer        \n",
    "        for name, child in self.named_children() :\n",
    "            for param in child.parameters() :\n",
    "                # if 'embeding' in name :\n",
    "                if name == 'embeding' :\n",
    "                    param.requires_grad = False                \n",
    "        \n",
    "    def forward(self, x) :\n",
    "        \n",
    "        x_ = self.embeding(x)\n",
    "        \n",
    "        x = self.encoder(x_)\n",
    "        x = self.block1(x)\n",
    "        x = self.block2(x)\n",
    "        x = self.decoder(x)\n",
    "        \n",
    "        return x_, x\n",
    "        "
   ]
  },
  {
   "cell_type": "code",
   "execution_count": 15,
   "id": "2281b347-2432-449d-a5e4-faabdf071d57",
   "metadata": {},
   "outputs": [],
   "source": [
    "class Trainer() :\n",
    "    def __init__(self, model, optimizer, train_loader, val_loader, test_loader, scheduler, device, **param) :\n",
    "        self.model = model\n",
    "        self.optimizer = optimizer\n",
    "        self.train_loader = train_loader\n",
    "        self.val_loader = val_loader\n",
    "        self.test_loader = test_loader\n",
    "        self.scheduler = scheduler\n",
    "        self.device = device\n",
    "        self.batch_size = param['batch_size']\n",
    "        self.epochs = param['epochs']\n",
    "        self.lr = param['lr']\n",
    "        \n",
    "        self.criterion = nn.L1Loss().to(device)\n",
    "        self.cos = nn.CosineSimilarity(dim=1, eps=1e-6)\n",
    "        self.threshold = 0.5\n",
    "        \n",
    "    def fit(self,) :\n",
    "        self.model.to(self.device)\n",
    "        best_score = 0\n",
    "        for epoch in range(self.epochs) :\n",
    "            self.model.train()\n",
    "            train_loss = []\n",
    "            \n",
    "            for x in iter(self.train_loader) :\n",
    "                x = x.to(self.device)\n",
    "                x_, x = self.model(x)\n",
    "                \n",
    "                loss = self.criterion(x_, x)\n",
    "                \n",
    "                self.optimizer.zero_grad()\n",
    "                loss.backward()\n",
    "                self.optimizer.step()\n",
    "                \n",
    "                train_loss.append(loss.item())\n",
    "                \n",
    "            true, pred = self.validation()\n",
    "            score = f1_score(true, pred, average='macro')\n",
    "            self.get_confusion(true, pred)\n",
    "            \n",
    "            if self.scheduler is not None :\n",
    "                self.scheduler.step()\n",
    "            \n",
    "            print(f'epoch :[{epoch}] train loss [{np.mean(train_loss)}] val score [{score}]')    \n",
    "\n",
    "            self.save_model('/'.join(saved_model.split('/')[:-1]) + '/' + str(epoch) +'.pth')\n",
    "            if best_score < score :\n",
    "                best_score = score\n",
    "                self.save_model(saved_model)\n",
    "            \n",
    "    def validation(self) :\n",
    "        self.model.eval()\n",
    "        pred_y = []\n",
    "        true_y = []\n",
    "        \n",
    "        with torch.no_grad():\n",
    "            for x, y in iter(self.val_loader) :\n",
    "                x = x.to(self.device)\n",
    "                y = y.to(self.device)\n",
    "                \n",
    "                x_, x = self.model(x)\n",
    "                diff = self.cos(x, x_).cpu().tolist()\n",
    "                batch_pred = np.where(np.array(diff) < self.threshold, 1, 0).tolist()\n",
    "                pred_y += batch_pred\n",
    "                true_y += y.tolist()\n",
    "                \n",
    "        return true_y, pred_y\n",
    "    \n",
    "    def predict(self) :\n",
    "        \n",
    "        self.model.eval()\n",
    "        pred_y = []\n",
    "        \n",
    "        with torch.no_grad() :\n",
    "            for x in iter(self.test_loader) :\n",
    "                x = x.to(self.device)\n",
    "                x_, x = self.model(x)\n",
    "                diff = self.cos(x, x_).cpu().tolist()\n",
    "                \n",
    "                batch_pred = np.where(np.array(diff) < self.threshold, 1, 0).tolist()\n",
    "                pred_y += batch_pred\n",
    "                \n",
    "        return pred_y\n",
    "    \n",
    "    def save_model(self, name) :\n",
    "        torch.save(self.model.state_dict(), name)\n",
    "        \n",
    "    def load_model(self, name) :\n",
    "        self.model.load_state_dict(torch.load(name))\n",
    "        \n",
    "    def get_confusion(self, true_y, pred_y) :\n",
    "        # pred_y, true_y = self.validation()\n",
    "        tn, fp, fn, tp = confusion_matrix(true_y, pred_y).ravel()\n",
    "        print('tp : ', tp, ', fp : ', fp, ', tn : ', tn, ', fn : ', fn)\n"
   ]
  },
  {
   "cell_type": "code",
   "execution_count": 16,
   "id": "c8891703-3552-48de-9a61-c8f599d1b2ea",
   "metadata": {},
   "outputs": [],
   "source": [
    "model = AutoEncoder()"
   ]
  },
  {
   "cell_type": "code",
   "execution_count": 17,
   "id": "62c43387-b116-4262-b48d-c1f3d6a38745",
   "metadata": {},
   "outputs": [],
   "source": [
    "# for p in model.parameters():\n",
    "#     print(p.shape)\n",
    "#     print(p)"
   ]
  },
  {
   "cell_type": "code",
   "execution_count": 18,
   "id": "65ab0bcb-f82c-42e5-a718-097ee27a7d4d",
   "metadata": {},
   "outputs": [],
   "source": [
    "model = AutoEncoder()\n",
    "model.eval()\n",
    "# optimizer = torch.optim.Adam(\n",
    "#             [{'params':model.embeding.parameters(), 'lr':1e-7, 'weight_decay':2e-4},\n",
    "#             {'params':model.encoder.parameters()},\n",
    "#             {'params':model.decoder.parameters()}]\n",
    "#             , lr=param['lr'])\n",
    "optimizer = torch.optim.Adam(model.parameters(), param['lr'])\n",
    "scheduler = None"
   ]
  },
  {
   "cell_type": "code",
   "execution_count": 19,
   "id": "e978a85a-d539-4932-b2c3-f7aa76e1575b",
   "metadata": {},
   "outputs": [],
   "source": [
    "trainer = Trainer(model, optimizer, train_loader, val_loader, test_loader, scheduler, device, **param)\n",
    "# trainer = Trainer(model, optimizer, train_loader, val_loader, scheduler, device)"
   ]
  },
  {
   "cell_type": "code",
   "execution_count": 20,
   "id": "b1c340fc-b182-4fd0-a6f7-52440a06c3f9",
   "metadata": {},
   "outputs": [
    {
     "name": "stdout",
     "output_type": "stream",
     "text": [
      "tp :  28 , fp :  6486 , tn :  21946 , fn :  2\n",
      "epoch :[0] train loss [0.2330804788404041] val score [0.4398880974034987]\n",
      "tp :  25 , fp :  535 , tn :  27897 , fn :  5\n",
      "epoch :[1] train loss [0.153602734208107] val score [0.53758003866768]\n",
      "tp :  25 , fp :  314 , tn :  28118 , fn :  5\n",
      "epoch :[2] train loss [0.10116458899445004] val score [0.5649304140464267]\n",
      "tp :  25 , fp :  240 , tn :  28192 , fn :  5\n",
      "epoch :[3] train loss [0.07943694210714763] val score [0.5825825601124895]\n",
      "tp :  25 , fp :  302 , tn :  28130 , fn :  5\n",
      "epoch :[4] train loss [0.06745864806903733] val score [0.5673144149381074]\n",
      "tp :  25 , fp :  255 , tn :  28177 , fn :  5\n",
      "epoch :[5] train loss [0.05773117111788856] val score [0.5783489094798163]\n",
      "tp :  25 , fp :  142 , tn :  28290 , fn :  5\n",
      "epoch :[6] train loss [0.05282527680198352] val score [0.625607873993342]\n",
      "tp :  25 , fp :  110 , tn :  28322 , fn :  5\n",
      "epoch :[7] train loss [0.0472837401760949] val score [0.650502096316857]\n",
      "tp :  25 , fp :  97 , tn :  28335 , fn :  5\n",
      "epoch :[8] train loss [0.04448512320717176] val score [0.66357535404777]\n",
      "tp :  25 , fp :  176 , tn :  28256 , fn :  5\n",
      "epoch :[9] train loss [0.04199546062284046] val score [0.6066287912194814]\n",
      "tp :  25 , fp :  101 , tn :  28331 , fn :  5\n",
      "epoch :[10] train loss [0.039203122092617886] val score [0.6593227856791837]\n",
      "tp :  25 , fp :  71 , tn :  28361 , fn :  5\n",
      "epoch :[11] train loss [0.036678490870528754] val score [0.697743660770528]\n",
      "tp :  25 , fp :  153 , tn :  28279 , fn :  5\n",
      "epoch :[12] train loss [0.03659927112360795] val score [0.6187994026919551]\n",
      "tp :  25 , fp :  131 , tn :  28301 , fn :  5\n",
      "epoch :[13] train loss [0.036049388349056244] val score [0.6332101108395997]\n",
      "tp :  25 , fp :  104 , tn :  28328 , fn :  5\n",
      "epoch :[14] train loss [0.03239642654856046] val score [0.6562726057501772]\n",
      "tp :  25 , fp :  117 , tn :  28315 , fn :  5\n",
      "epoch :[15] train loss [0.03144414375225703] val score [0.6442739852217072]\n",
      "tp :  25 , fp :  71 , tn :  28361 , fn :  5\n",
      "epoch :[16] train loss [0.030571270402934815] val score [0.697743660770528]\n",
      "tp :  25 , fp :  14 , tn :  28418 , fn :  5\n",
      "epoch :[17] train loss [0.02921466347244051] val score [0.8621517488551477]\n",
      "tp :  25 , fp :  46 , tn :  28386 , fn :  5\n",
      "epoch :[18] train loss [0.02823690287768841] val score [0.7470759905302604]\n",
      "tp :  25 , fp :  68 , tn :  28364 , fn :  5\n",
      "epoch :[19] train loss [0.028872877980271976] val score [0.7026094381998027]\n",
      "tp :  25 , fp :  46 , tn :  28386 , fn :  5\n",
      "epoch :[20] train loss [0.029167212256126934] val score [0.7470759905302604]\n",
      "tp :  25 , fp :  48 , tn :  28384 , fn :  5\n",
      "epoch :[21] train loss [0.02723224473496278] val score [0.7422520697342344]\n",
      "tp :  25 , fp :  52 , tn :  28380 , fn :  5\n",
      "epoch :[22] train loss [0.027032726133863132] val score [0.7331432493795871]\n",
      "tp :  25 , fp :  8 , tn :  28424 , fn :  5\n",
      "epoch :[23] train loss [0.02583046472734875] val score [0.8967110829723166]\n",
      "tp :  25 , fp :  19 , tn :  28413 , fn :  5\n",
      "epoch :[24] train loss [0.02596196743349234] val score [0.8376267560436427]\n",
      "tp :  25 , fp :  32 , tn :  28400 , fn :  5\n",
      "epoch :[25] train loss [0.0261032292412387] val score [0.7870308296420961]\n",
      "tp :  25 , fp :  46 , tn :  28386 , fn :  5\n",
      "epoch :[26] train loss [0.026036459414495363] val score [0.7470759905302604]\n",
      "tp :  25 , fp :  41 , tn :  28391 , fn :  5\n",
      "epoch :[27] train loss [0.025070025854640538] val score [0.7600119366040216]\n",
      "tp :  25 , fp :  90 , tn :  28342 , fn :  5\n",
      "epoch :[28] train loss [0.025031351008348995] val score [0.6715772162000156]\n",
      "tp :  25 , fp :  76 , tn :  28356 , fn :  5\n",
      "epoch :[29] train loss [0.025725856671730676] val score [0.6901265786034538]\n",
      "tp :  25 , fp :  41 , tn :  28391 , fn :  5\n",
      "epoch :[30] train loss [0.024642639524406856] val score [0.7600119366040216]\n",
      "tp :  25 , fp :  30 , tn :  28402 , fn :  5\n",
      "epoch :[31] train loss [0.024981886562373903] val score [0.79380975986869]\n",
      "tp :  25 , fp :  22 , tn :  28410 , fn :  5\n",
      "epoch :[32] train loss [0.024046818456716006] val score [0.8244378451249526]\n",
      "tp :  25 , fp :  39 , tn :  28393 , fn :  5\n",
      "epoch :[33] train loss [0.02370696576933066] val score [0.7655703273293624]\n",
      "tp :  25 , fp :  22 , tn :  28410 , fn :  5\n",
      "epoch :[34] train loss [0.023174000117513867] val score [0.8244378451249526]\n",
      "tp :  25 , fp :  54 , tn :  28378 , fn :  5\n",
      "epoch :[35] train loss [0.024486851899160278] val score [0.7288385690883094]\n",
      "tp :  25 , fp :  49 , tn :  28383 , fn :  5\n",
      "epoch :[36] train loss [0.02787356699506442] val score [0.7399094305905288]\n",
      "tp :  26 , fp :  131 , tn :  28301 , fn :  4\n",
      "epoch :[37] train loss [0.026870024493998952] val score [0.6378477333119443]\n",
      "tp :  25 , fp :  70 , tn :  28362 , fn :  5\n",
      "epoch :[38] train loss [0.025103690309656992] val score [0.699339777108752]\n",
      "tp :  25 , fp :  58 , tn :  28374 , fn :  5\n",
      "epoch :[39] train loss [0.02383138496014807] val score [0.7206844679680786]\n",
      "tp :  25 , fp :  40 , tn :  28392 , fn :  5\n",
      "epoch :[40] train loss [0.02325107455253601] val score [0.762761970120889]\n",
      "tp :  25 , fp :  24 , tn :  28408 , fn :  5\n",
      "epoch :[41] train loss [0.023320217265023126] val score [0.8162006166001039]\n",
      "tp :  25 , fp :  18 , tn :  28414 , fn :  5\n",
      "epoch :[42] train loss [0.02297208582361539] val score [0.8422634702634115]\n",
      "tp :  25 , fp :  17 , tn :  28415 , fn :  5\n",
      "epoch :[43] train loss [0.02504575401544571] val score [0.8470287373843977]\n",
      "tp :  26 , fp :  87 , tn :  28345 , fn :  4\n",
      "epoch :[44] train loss [0.036857598026593524] val score [0.6810168574315032]\n",
      "tp :  26 , fp :  114 , tn :  28318 , fn :  4\n",
      "epoch :[45] train loss [0.02816044112874402] val score [0.6519016021674554]\n",
      "tp :  25 , fp :  83 , tn :  28349 , fn :  5\n",
      "epoch :[46] train loss [0.026267594719926516] val score [0.6803845814211198]\n",
      "tp :  25 , fp :  54 , tn :  28378 , fn :  5\n",
      "epoch :[47] train loss [0.02505514638291465] val score [0.7288385690883094]\n",
      "tp :  25 , fp :  43 , tn :  28389 , fn :  5\n",
      "epoch :[48] train loss [0.02386508633693059] val score [0.75467969893057]\n",
      "tp :  25 , fp :  44 , tn :  28388 , fn :  5\n",
      "epoch :[49] train loss [0.023719779153664907] val score [0.752094104263044]\n",
      "tp :  25 , fp :  44 , tn :  28388 , fn :  5\n",
      "epoch :[50] train loss [0.023078821475307147] val score [0.752094104263044]\n",
      "tp :  25 , fp :  43 , tn :  28389 , fn :  5\n",
      "epoch :[51] train loss [0.02326349438064628] val score [0.75467969893057]\n",
      "tp :  25 , fp :  10 , tn :  28422 , fn :  5\n",
      "epoch :[52] train loss [0.02273507838447889] val score [0.8844834793761085]\n",
      "tp :  25 , fp :  41 , tn :  28391 , fn :  5\n",
      "epoch :[53] train loss [0.022787662885255282] val score [0.7600119366040216]\n",
      "tp :  25 , fp :  23 , tn :  28409 , fn :  5\n",
      "epoch :[54] train loss [0.02338716590570079] val score [0.8202665410912253]\n",
      "tp :  25 , fp :  26 , tn :  28406 , fn :  5\n",
      "epoch :[55] train loss [0.022567004710435868] val score [0.808369294415656]\n",
      "tp :  25 , fp :  35 , tn :  28397 , fn :  5\n",
      "epoch :[56] train loss [0.022009986018141112] val score [0.777425875747303]\n",
      "tp :  25 , fp :  32 , tn :  28400 , fn :  5\n",
      "epoch :[57] train loss [0.02213393747806549] val score [0.7870308296420961]\n",
      "tp :  25 , fp :  18 , tn :  28414 , fn :  5\n",
      "epoch :[58] train loss [0.02217535124056869] val score [0.8422634702634115]\n",
      "tp :  25 , fp :  10 , tn :  28422 , fn :  5\n",
      "epoch :[59] train loss [0.022363077518012787] val score [0.8844834793761085]\n",
      "tp :  25 , fp :  35 , tn :  28397 , fn :  5\n",
      "epoch :[60] train loss [0.02216493992341889] val score [0.777425875747303]\n",
      "tp :  25 , fp :  41 , tn :  28391 , fn :  5\n",
      "epoch :[61] train loss [0.025025157671835687] val score [0.7600119366040216]\n",
      "tp :  25 , fp :  96 , tn :  28336 , fn :  5\n",
      "epoch :[62] train loss [0.027385485213663845] val score [0.664673406571051]\n",
      "tp :  25 , fp :  73 , tn :  28359 , fn :  5\n",
      "epoch :[63] train loss [0.024148264072007604] val score [0.6946258319247834]\n",
      "tp :  25 , fp :  62 , tn :  28370 , fn :  5\n",
      "epoch :[64] train loss [0.023300214691294563] val score [0.7130854976190938]\n",
      "tp :  25 , fp :  46 , tn :  28386 , fn :  5\n",
      "epoch :[65] train loss [0.022973519108361668] val score [0.7470759905302604]\n",
      "tp :  25 , fp :  28 , tn :  28404 , fn :  5\n",
      "epoch :[66] train loss [0.02227636749545733] val score [0.8009145358549308]\n",
      "tp :  25 , fp :  50 , tn :  28382 , fn :  5\n",
      "epoch :[67] train loss [0.0222388686819209] val score [0.7376112450647377]\n",
      "tp :  25 , fp :  41 , tn :  28391 , fn :  5\n",
      "epoch :[68] train loss [0.02190889318784078] val score [0.7600119366040216]\n",
      "tp :  25 , fp :  19 , tn :  28413 , fn :  5\n",
      "epoch :[69] train loss [0.0216818794194195] val score [0.8376267560436427]\n",
      "tp :  25 , fp :  34 , tn :  28398 , fn :  5\n",
      "epoch :[70] train loss [0.022271693829033108] val score [0.7805557779616334]\n",
      "tp :  25 , fp :  19 , tn :  28413 , fn :  5\n",
      "epoch :[71] train loss [0.02167220674455166] val score [0.8376267560436427]\n",
      "tp :  25 , fp :  40 , tn :  28392 , fn :  5\n",
      "epoch :[72] train loss [0.023215562684668435] val score [0.762761970120889]\n",
      "tp :  25 , fp :  27 , tn :  28405 , fn :  5\n",
      "epoch :[73] train loss [0.022097741067409516] val score [0.8045965667777433]\n",
      "tp :  25 , fp :  7 , tn :  28425 , fn :  5\n",
      "epoch :[74] train loss [0.022119471761915418] val score [0.9031202878275757]\n",
      "tp :  25 , fp :  14 , tn :  28418 , fn :  5\n",
      "epoch :[75] train loss [0.020727979681558078] val score [0.8621517488551477]\n",
      "tp :  25 , fp :  18 , tn :  28414 , fn :  5\n",
      "epoch :[76] train loss [0.020726977702644138] val score [0.8422634702634115]\n",
      "tp :  25 , fp :  29 , tn :  28403 , fn :  5\n",
      "epoch :[77] train loss [0.021570325932568975] val score [0.7973199624677456]\n",
      "tp :  25 , fp :  50 , tn :  28382 , fn :  5\n",
      "epoch :[78] train loss [0.022964037458101907] val score [0.7376112450647377]\n",
      "tp :  25 , fp :  26 , tn :  28406 , fn :  5\n",
      "epoch :[79] train loss [0.02145055296520392] val score [0.808369294415656]\n",
      "tp :  25 , fp :  31 , tn :  28401 , fn :  5\n",
      "epoch :[80] train loss [0.02098650775021977] val score [0.7903809848799157]\n",
      "tp :  25 , fp :  18 , tn :  28414 , fn :  5\n",
      "epoch :[81] train loss [0.021351694729593064] val score [0.8422634702634115]\n",
      "tp :  25 , fp :  40 , tn :  28392 , fn :  5\n",
      "epoch :[82] train loss [0.02109828988711039] val score [0.762761970120889]\n",
      "tp :  25 , fp :  40 , tn :  28392 , fn :  5\n",
      "epoch :[83] train loss [0.020979805456267462] val score [0.762761970120889]\n",
      "tp :  25 , fp :  21 , tn :  28411 , fn :  5\n",
      "epoch :[84] train loss [0.020881008977691334] val score [0.8287186884323108]\n",
      "tp :  25 , fp :  19 , tn :  28413 , fn :  5\n",
      "epoch :[85] train loss [0.01998962213595708] val score [0.8376267560436427]\n",
      "tp :  25 , fp :  38 , tn :  28394 , fn :  5\n",
      "epoch :[86] train loss [0.021029832628038196] val score [0.7684388896488608]\n",
      "tp :  25 , fp :  37 , tn :  28395 , fn :  5\n",
      "epoch :[87] train loss [0.020525070983502598] val score [0.7713696202996474]\n",
      "tp :  25 , fp :  52 , tn :  28380 , fn :  5\n",
      "epoch :[88] train loss [0.0215546362929874] val score [0.7331432493795871]\n",
      "tp :  25 , fp :  31 , tn :  28401 , fn :  5\n",
      "epoch :[89] train loss [0.021357818651530476] val score [0.7903809848799157]\n",
      "tp :  25 , fp :  17 , tn :  28415 , fn :  5\n",
      "epoch :[90] train loss [0.021052172945605383] val score [0.8470287373843977]\n",
      "tp :  25 , fp :  29 , tn :  28403 , fn :  5\n",
      "epoch :[91] train loss [0.02059804221822156] val score [0.7973199624677456]\n",
      "tp :  25 , fp :  15 , tn :  28417 , fn :  5\n",
      "epoch :[92] train loss [0.020206732716825274] val score [0.856966968023358]\n",
      "tp :  25 , fp :  5 , tn :  28427 , fn :  5\n",
      "epoch :[93] train loss [0.020345788614617454] val score [0.9165787375726882]\n",
      "tp :  25 , fp :  5 , tn :  28427 , fn :  5\n",
      "epoch :[94] train loss [0.02005089136461417] val score [0.9165787375726882]\n",
      "tp :  25 , fp :  17 , tn :  28415 , fn :  5\n",
      "epoch :[95] train loss [0.019566411566403177] val score [0.8470287373843977]\n",
      "tp :  25 , fp :  9 , tn :  28423 , fn :  5\n",
      "epoch :[96] train loss [0.020097626621524492] val score [0.890501890608512]\n",
      "tp :  25 , fp :  5 , tn :  28427 , fn :  5\n",
      "epoch :[97] train loss [0.020003178943362503] val score [0.9165787375726882]\n",
      "tp :  25 , fp :  5 , tn :  28427 , fn :  5\n",
      "epoch :[98] train loss [0.019757537005676163] val score [0.9165787375726882]\n",
      "tp :  25 , fp :  9 , tn :  28423 , fn :  5\n",
      "epoch :[99] train loss [0.019388464610609744] val score [0.890501890608512]\n"
     ]
    }
   ],
   "source": [
    "trainer.fit()"
   ]
  },
  {
   "cell_type": "code",
   "execution_count": 21,
   "id": "49c3a528-b82e-4abd-8bb8-a77aa77bb6dd",
   "metadata": {},
   "outputs": [
    {
     "name": "stdout",
     "output_type": "stream",
     "text": [
      "0.9165787375726882\n",
      "tp :  25 , fp :  5 , tn :  28427 , fn :  5\n"
     ]
    }
   ],
   "source": [
    "trainer.threshold = 0.5\n",
    "trainer.load_model(saved_model)\n",
    "true_y, pred_y = trainer.validation()\n",
    "score = f1_score(true_y, pred_y, average='macro')\n",
    "print(score)\n",
    "tn, fp, fn, tp = confusion_matrix(true_y, pred_y).ravel()\n",
    "print('tp : ', tp, ', fp : ', fp, ', tn : ', tn, ', fn : ', fn)\n",
    "# confusion_matrix(true_y, pred_y)\n"
   ]
  },
  {
   "cell_type": "code",
   "execution_count": 22,
   "id": "c05b1deb-9e06-4fdc-9204-8dd43b0ae80a",
   "metadata": {},
   "outputs": [
    {
     "data": {
      "text/plain": [
       "array([[28427,     5],\n",
       "       [    5,    25]])"
      ]
     },
     "execution_count": 22,
     "metadata": {},
     "output_type": "execute_result"
    }
   ],
   "source": [
    "confusion_matrix(true_y, pred_y)"
   ]
  },
  {
   "cell_type": "code",
   "execution_count": 23,
   "id": "3018dc07-72c8-43e7-85da-21bc5040159b",
   "metadata": {},
   "outputs": [
    {
     "name": "stdout",
     "output_type": "stream",
     "text": [
      "              precision    recall  f1-score   support\n",
      "\n",
      "           0       1.00      1.00      1.00     28432\n",
      "           1       0.83      0.83      0.83        30\n",
      "\n",
      "    accuracy                           1.00     28462\n",
      "   macro avg       0.92      0.92      0.92     28462\n",
      "weighted avg       1.00      1.00      1.00     28462\n",
      "\n"
     ]
    }
   ],
   "source": [
    "print(classification_report(true_y, pred_y))"
   ]
  },
  {
   "cell_type": "code",
   "execution_count": 24,
   "id": "774b3c8f-1aec-48c0-9f5f-2de0772337f2",
   "metadata": {},
   "outputs": [
    {
     "data": {
      "text/plain": [
       "array([   71,  1047,  1210,  4039,  7000,  9326, 14221, 15306, 19113,\n",
       "       28146])"
      ]
     },
     "execution_count": 24,
     "metadata": {},
     "output_type": "execute_result"
    }
   ],
   "source": [
    "answer = np.where(np.array(true_y) != np.array(pred_y))[0]\n",
    "answer"
   ]
  },
  {
   "cell_type": "code",
   "execution_count": 25,
   "id": "2785a760-120f-4bb5-b55c-c381a4e6b609",
   "metadata": {},
   "outputs": [
    {
     "name": "stdout",
     "output_type": "stream",
     "text": [
      "[   71  1047  1210  4039  7000  9326 14221 15306 19113 28146]\n",
      "[1 0 0 1 0 1 1 0 0 1]\n"
     ]
    }
   ],
   "source": [
    "val = pd.read_csv('../dataset/val.csv')\n",
    "print(val.index.values[answer])\n",
    "print(val.Class.values[answer])"
   ]
  },
  {
   "cell_type": "code",
   "execution_count": 26,
   "id": "4105eeb3-b7fd-4de2-91d7-28d327d17b3f",
   "metadata": {},
   "outputs": [],
   "source": [
    "pred_y = trainer.predict()"
   ]
  },
  {
   "cell_type": "code",
   "execution_count": 27,
   "id": "d2b897dc-6205-43a3-bf83-73d6f8d47d71",
   "metadata": {},
   "outputs": [],
   "source": [
    "submit = pd.read_csv('../dataset/sample_submission.csv')\n",
    "submit['Class'] = pred_y\n",
    "submit.to_csv('./submit_AE_split4.csv', index=False)"
   ]
  },
  {
   "cell_type": "code",
   "execution_count": 28,
   "id": "8308878f-f08b-4d44-9b59-fb6640310b26",
   "metadata": {},
   "outputs": [
    {
     "data": {
      "text/plain": [
       "'../saved/ae_split4/best_model1.pth'"
      ]
     },
     "execution_count": 28,
     "metadata": {},
     "output_type": "execute_result"
    }
   ],
   "source": [
    "saved_model"
   ]
  },
  {
   "cell_type": "code",
   "execution_count": null,
   "id": "0964ee7d-1b8e-438b-ba28-daae805450f6",
   "metadata": {},
   "outputs": [],
   "source": []
  },
  {
   "cell_type": "code",
   "execution_count": null,
   "id": "fbcca9e7-cdfc-46ca-9df0-81941a9cc5a8",
   "metadata": {},
   "outputs": [],
   "source": []
  },
  {
   "cell_type": "code",
   "execution_count": null,
   "id": "d1fe6b3d-38e8-47a9-890c-933db4c5d743",
   "metadata": {},
   "outputs": [],
   "source": []
  },
  {
   "cell_type": "code",
   "execution_count": null,
   "id": "7a2ad2fe-7f3b-4859-95ac-7a01ef8d8e32",
   "metadata": {},
   "outputs": [],
   "source": []
  },
  {
   "cell_type": "code",
   "execution_count": null,
   "id": "c372c4e5-9777-4af1-874f-b2f1e9239355",
   "metadata": {},
   "outputs": [],
   "source": []
  }
 ],
 "metadata": {
  "kernelspec": {
   "display_name": "pytorch",
   "language": "python",
   "name": "pytorch"
  },
  "language_info": {
   "codemirror_mode": {
    "name": "ipython",
    "version": 3
   },
   "file_extension": ".py",
   "mimetype": "text/x-python",
   "name": "python",
   "nbconvert_exporter": "python",
   "pygments_lexer": "ipython3",
   "version": "3.8.13"
  }
 },
 "nbformat": 4,
 "nbformat_minor": 5
}
