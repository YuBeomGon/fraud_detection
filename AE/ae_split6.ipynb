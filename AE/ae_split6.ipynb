{
 "cells": [
  {
   "cell_type": "code",
   "execution_count": 1,
   "id": "27beacea-6bc4-4f6d-8024-d7661d3bb946",
   "metadata": {},
   "outputs": [],
   "source": [
    "# https://dacon.io/competitions/official/235930/codeshare/5508?page=1&dtype=recent"
   ]
  },
  {
   "cell_type": "code",
   "execution_count": 2,
   "id": "cf4fe48e-c012-4895-99e0-f3e2a7d1f658",
   "metadata": {},
   "outputs": [],
   "source": [
    "import random\n",
    "import pandas as pd\n",
    "import numpy as np\n",
    "import os\n",
    "\n",
    "import torch\n",
    "import torch.nn as nn\n",
    "import torch.optim as optim\n",
    "import torch.nn.functional as F\n",
    "\n",
    "from torch.utils.data import Dataset, DataLoader\n",
    "from torch.optim.lr_scheduler import StepLR\n",
    "from tqdm import tqdm\n",
    "from sklearn.metrics import f1_score, classification_report, confusion_matrix\n",
    "\n",
    "import warnings\n",
    "warnings.filterwarnings(action='ignore')"
   ]
  },
  {
   "cell_type": "code",
   "execution_count": 3,
   "id": "23c88f55-39a2-4f92-a939-eefc0aa1378f",
   "metadata": {},
   "outputs": [
    {
     "data": {
      "text/plain": [
       "device(type='cuda')"
      ]
     },
     "execution_count": 3,
     "metadata": {},
     "output_type": "execute_result"
    }
   ],
   "source": [
    "device = torch.device('cuda' if torch.cuda.is_available() else 'cpu')\n",
    "device"
   ]
  },
  {
   "cell_type": "code",
   "execution_count": 4,
   "id": "50f138e7-da83-41ad-b588-fe85c6dbef7d",
   "metadata": {},
   "outputs": [],
   "source": [
    "epochs = 100\n",
    "lr = 1e-3\n",
    "batch_size = 512\n",
    "momentum = 0.9\n",
    "weight_decay = 1e-4\n",
    "seed = 42\n",
    "NUM_WORKERS = 8\n",
    "saved_model = '../saved/ae_split5/best_model1.pth'\n",
    "\n",
    "param = {\n",
    "            'epochs' : epochs,\n",
    "            'lr' :lr,\n",
    "            'batch_size' : batch_size,\n",
    "            'momentum' : momentum,\n",
    "            'weight_decay' : weight_decay\n",
    "        }"
   ]
  },
  {
   "cell_type": "code",
   "execution_count": 5,
   "id": "b8b2a22e-d2cc-4913-beea-246cb512369e",
   "metadata": {},
   "outputs": [
    {
     "data": {
      "text/plain": [
       "'../saved/ae_split5'"
      ]
     },
     "execution_count": 5,
     "metadata": {},
     "output_type": "execute_result"
    }
   ],
   "source": [
    "'/'.join(saved_model.split('/')[:-1])"
   ]
  },
  {
   "cell_type": "code",
   "execution_count": 6,
   "id": "6d07f699-c8c6-4c60-b181-263b093cd2f0",
   "metadata": {},
   "outputs": [],
   "source": [
    "def seed_everything(seed) :\n",
    "    random.seed(seed)\n",
    "    os.environ['PYHONHASHSEED'] = str(seed)\n",
    "    np.random.seed(seed)\n",
    "    torch.manual_seed(seed)\n",
    "    torch.cuda.manual_seed(seed)\n",
    "    torch.backends.cudnn.deterministic = True\n",
    "    torch.backends.cudnn.benchmark = True\n",
    "\n",
    "# seed_everything(seed)    "
   ]
  },
  {
   "cell_type": "code",
   "execution_count": 7,
   "id": "1dc3b08e-4bf9-442b-a9e5-2d383ef2240a",
   "metadata": {},
   "outputs": [
    {
     "name": "stdout",
     "output_type": "stream",
     "text": [
      "(113842, 30)\n"
     ]
    }
   ],
   "source": [
    "train_df = pd.read_csv('../dataset/train.csv')\n",
    "val_df = pd.read_csv('../dataset/val.csv')\n",
    "train_df = train_df.drop(columns=['ID'])\n",
    "val_df = val_df.drop(columns=['ID'])\n",
    "test_df = pd.read_csv('../dataset/test.csv')\n",
    "test_df = test_df.drop(columns=['ID'])\n",
    "print(train_df.shape)"
   ]
  },
  {
   "cell_type": "code",
   "execution_count": 8,
   "id": "de6a6b3b-1460-4a9a-9a02-18ff2efe8c7a",
   "metadata": {},
   "outputs": [],
   "source": [
    "from sklearn.preprocessing import RobustScaler, StandardScaler, MinMaxScaler\n",
    "col=[col for col in val_df.columns if col not in ['ID','Class']]\n",
    "\n",
    "for i in col:\n",
    "    sc=StandardScaler()\n",
    "    scaler = sc.fit(train_df[i].values.reshape(-1,1))\n",
    "    train_df[i] = scaler.transform(train_df[i].values.reshape(-1,1))\n",
    "    val_df[i] = scaler.transform(val_df[i].values.reshape(-1,1))\n",
    "    test_df[i] = scaler.transform(test_df[i].values.reshape(-1,1))"
   ]
  },
  {
   "cell_type": "code",
   "execution_count": 9,
   "id": "c51032d7-d3a2-4bcd-9108-562207763da2",
   "metadata": {},
   "outputs": [],
   "source": [
    "class CDataset(Dataset):\n",
    "    def __init__(self, df, eval_mode=False):\n",
    "        self.df = df\n",
    "        self.eval_mode = eval_mode\n",
    "        if self.eval_mode:\n",
    "            self.labels = self.df['Class'].values\n",
    "            self.df = self.df.drop(columns=['Class']).values\n",
    "        else:\n",
    "            self.df = self.df.values\n",
    "        \n",
    "    def __getitem__(self, index):\n",
    "        if self.eval_mode:\n",
    "            self.x = self.df[index]\n",
    "            self.y = self.labels[index]\n",
    "            return torch.Tensor(self.x), self.y\n",
    "        else:\n",
    "            self.x = self.df[index]\n",
    "            return torch.Tensor(self.x)\n",
    "        \n",
    "    def __len__(self):\n",
    "        return len(self.df)"
   ]
  },
  {
   "cell_type": "code",
   "execution_count": 10,
   "id": "6507a820-b758-4e90-b6bc-ef70222ad1b3",
   "metadata": {},
   "outputs": [],
   "source": [
    "\n",
    "train_dataset = CDataset(train_df.sample(frac=1)[:len(train_df)//5])\n",
    "train_loader = DataLoader(train_dataset, batch_size = batch_size, shuffle=True, num_workers=NUM_WORKERS)\n",
    "\n",
    "val_dataset = CDataset(val_df, eval_mode=True)\n",
    "val_loader = DataLoader(val_dataset, batch_size = batch_size, shuffle=False, num_workers=NUM_WORKERS)\n",
    "\n",
    "test_dataset = CDataset(test_df, eval_mode=False)\n",
    "test_loader = DataLoader(test_dataset, batch_size = batch_size, shuffle=False, num_workers=NUM_WORKERS)"
   ]
  },
  {
   "cell_type": "code",
   "execution_count": 11,
   "id": "5e0e6622-a750-4eaa-b2d5-55718851486a",
   "metadata": {},
   "outputs": [
    {
     "data": {
      "text/plain": [
       "torch.Size([512, 30])"
      ]
     },
     "execution_count": 11,
     "metadata": {},
     "output_type": "execute_result"
    }
   ],
   "source": [
    "x = next(iter(train_loader))\n",
    "x.shape"
   ]
  },
  {
   "cell_type": "code",
   "execution_count": 12,
   "id": "ed5927d0-5eeb-41a7-8f05-f0748d058ffe",
   "metadata": {},
   "outputs": [
    {
     "data": {
      "text/plain": [
       "torch.Size([512, 30])"
      ]
     },
     "execution_count": 12,
     "metadata": {},
     "output_type": "execute_result"
    }
   ],
   "source": [
    "x, y  = next(iter(val_loader))\n",
    "x.shape"
   ]
  },
  {
   "cell_type": "code",
   "execution_count": 13,
   "id": "cfff4a1b-d630-4c5d-8f2e-8116aab52145",
   "metadata": {},
   "outputs": [],
   "source": [
    "from torch import Tensor\n",
    "class BasicBlock(nn.Module):\n",
    "\n",
    "    def __init__(\n",
    "        self,\n",
    "        inplanes: int,\n",
    "        planes: int,\n",
    "    ) -> None:\n",
    "        super().__init__()\n",
    "        norm_layer = nn.BatchNorm1d\n",
    "        self.lin1 = nn.Linear(inplanes, planes)\n",
    "        self.bn1 = norm_layer(planes)\n",
    "        self.act = nn.GELU()\n",
    "        self.lin2 = nn.Linear(planes, inplanes)\n",
    "        self.bn2 = norm_layer(inplanes)\n",
    "\n",
    "    def forward(self, x: Tensor) -> Tensor:\n",
    "        identity = x\n",
    "\n",
    "        out = self.lin1(x)\n",
    "        out = self.bn1(out)\n",
    "        out = self.act(out)\n",
    "\n",
    "        out = self.lin2(out)\n",
    "        out = self.bn2(out)\n",
    "\n",
    "        out += identity\n",
    "        out = self.act(out)\n",
    "\n",
    "        return out"
   ]
  },
  {
   "cell_type": "code",
   "execution_count": 14,
   "id": "aea1f718-cf59-436b-8ec9-27b644eaaf70",
   "metadata": {},
   "outputs": [],
   "source": [
    "class AutoEncoder(nn.Module) :\n",
    "    def __init__(self) :\n",
    "        super().__init__()\n",
    "        self.dim = 30\n",
    "        self.embeding_dim = 512\n",
    "        self.hidden = 128\n",
    "        self.act = nn.GELU()\n",
    "        \n",
    "        self.embeding = nn.Sequential(\n",
    "            nn.Linear(self.dim,self.embeding_dim),\n",
    "            self.act,\n",
    "        ) \n",
    "        \n",
    "        self.block1 = BasicBlock(128,128)\n",
    "        self.block2 = BasicBlock(128,128)\n",
    "\n",
    "        self.encoder = nn.Sequential(\n",
    "            nn.Linear(self.embeding_dim,self.hidden),\n",
    "            nn.BatchNorm1d(self.hidden),\n",
    "            self.act,\n",
    "        )\n",
    "        \n",
    "        self.decoder = nn.Sequential(\n",
    "            nn.Linear(self.hidden,self.embeding_dim),\n",
    "            nn.BatchNorm1d(self.embeding_dim),\n",
    "            self.act,            \n",
    "        )        \n",
    "        \n",
    "        for m in self.modules():\n",
    "            if isinstance(m, nn.Conv2d):\n",
    "                nn.init.kaiming_normal_(m.weight, mode=\"fan_out\", nonlinearity=\"relu\")\n",
    "            elif isinstance(m, (nn.BatchNorm2d, nn.BatchNorm1d, nn.GroupNorm)):\n",
    "                nn.init.constant_(m.weight, 1)\n",
    "                nn.init.constant_(m.bias, 0)\n",
    "                \n",
    "        \n",
    "#         freezing embeding layer        \n",
    "        for name, child in self.named_children() :\n",
    "            for param in child.parameters() :\n",
    "                # if 'embeding' in name :\n",
    "                if name == 'embeding' :\n",
    "                    param.requires_grad = False                \n",
    "        \n",
    "    def forward(self, x) :\n",
    "        \n",
    "        x_ = self.embeding(x)\n",
    "        \n",
    "        x = self.encoder(x_)\n",
    "        x = self.block1(x)\n",
    "        x = self.block2(x)\n",
    "        x = self.decoder(x)\n",
    "        \n",
    "        return x_, x\n",
    "        "
   ]
  },
  {
   "cell_type": "code",
   "execution_count": 15,
   "id": "2281b347-2432-449d-a5e4-faabdf071d57",
   "metadata": {},
   "outputs": [],
   "source": [
    "class Trainer() :\n",
    "    def __init__(self, model, optimizer, train_loader, val_loader, test_loader, scheduler, device, **param) :\n",
    "        self.model = model\n",
    "        self.optimizer = optimizer\n",
    "        self.train_loader = train_loader\n",
    "        self.val_loader = val_loader\n",
    "        self.test_loader = test_loader\n",
    "        self.scheduler = scheduler\n",
    "        self.device = device\n",
    "        self.batch_size = param['batch_size']\n",
    "        self.epochs = param['epochs']\n",
    "        self.lr = param['lr']\n",
    "        \n",
    "        self.criterion = nn.L1Loss().to(device)\n",
    "        self.cos = nn.CosineSimilarity(dim=1, eps=1e-6)\n",
    "        self.threshold = 0.5\n",
    "        \n",
    "    def fit(self,) :\n",
    "        self.model.to(self.device)\n",
    "        best_score = 0\n",
    "        for epoch in range(self.epochs) :\n",
    "            self.model.train()\n",
    "            train_loss = []\n",
    "            \n",
    "            for x in iter(self.train_loader) :\n",
    "                x = x.to(self.device)\n",
    "                x_, x = self.model(x)\n",
    "                \n",
    "                loss = self.criterion(x_, x)\n",
    "                \n",
    "                self.optimizer.zero_grad()\n",
    "                loss.backward()\n",
    "                self.optimizer.step()\n",
    "                \n",
    "                train_loss.append(loss.item())\n",
    "                \n",
    "            true, pred = self.validation()\n",
    "            score = f1_score(true, pred, average='macro')\n",
    "            self.get_confusion(true, pred)\n",
    "            \n",
    "            if self.scheduler is not None :\n",
    "                self.scheduler.step()\n",
    "            \n",
    "            print(f'epoch :[{epoch}] train loss [{np.mean(train_loss)}] val score [{score}]')    \n",
    "\n",
    "            self.save_model('/'.join(saved_model.split('/')[:-1]) + '/' + str(epoch) +'.pth')\n",
    "            if best_score < score :\n",
    "                best_score = score\n",
    "                self.save_model(saved_model)\n",
    "            \n",
    "    def validation(self) :\n",
    "        self.model.eval()\n",
    "        pred_y = []\n",
    "        true_y = []\n",
    "        \n",
    "        with torch.no_grad():\n",
    "            for x, y in iter(self.val_loader) :\n",
    "                x = x.to(self.device)\n",
    "                y = y.to(self.device)\n",
    "                \n",
    "                x_, x = self.model(x)\n",
    "                diff = self.cos(x, x_).cpu().tolist()\n",
    "                batch_pred = np.where(np.array(diff) < self.threshold, 1, 0).tolist()\n",
    "                pred_y += batch_pred\n",
    "                true_y += y.tolist()\n",
    "                \n",
    "        return true_y, pred_y\n",
    "    \n",
    "    def predict(self) :\n",
    "        \n",
    "        self.model.eval()\n",
    "        pred_y = []\n",
    "        \n",
    "        with torch.no_grad() :\n",
    "            for x in iter(self.test_loader) :\n",
    "                x = x.to(self.device)\n",
    "                x_, x = self.model(x)\n",
    "                diff = self.cos(x, x_).cpu().tolist()\n",
    "                \n",
    "                batch_pred = np.where(np.array(diff) < self.threshold, 1, 0).tolist()\n",
    "                pred_y += batch_pred\n",
    "                \n",
    "        return pred_y\n",
    "    \n",
    "    def save_model(self, name) :\n",
    "        torch.save(self.model.state_dict(), name)\n",
    "        \n",
    "    def load_model(self, name) :\n",
    "        self.model.load_state_dict(torch.load(name))\n",
    "        \n",
    "    def get_confusion(self, true_y, pred_y) :\n",
    "        # pred_y, true_y = self.validation()\n",
    "        tn, fp, fn, tp = confusion_matrix(true_y, pred_y).ravel()\n",
    "        print('tp : ', tp, ', fp : ', fp, ', tn : ', tn, ', fn : ', fn)\n"
   ]
  },
  {
   "cell_type": "code",
   "execution_count": 16,
   "id": "c8891703-3552-48de-9a61-c8f599d1b2ea",
   "metadata": {},
   "outputs": [],
   "source": [
    "model = AutoEncoder()"
   ]
  },
  {
   "cell_type": "code",
   "execution_count": 17,
   "id": "62c43387-b116-4262-b48d-c1f3d6a38745",
   "metadata": {},
   "outputs": [],
   "source": [
    "# for p in model.parameters():\n",
    "#     print(p.shape)\n",
    "#     print(p)"
   ]
  },
  {
   "cell_type": "code",
   "execution_count": 18,
   "id": "65ab0bcb-f82c-42e5-a718-097ee27a7d4d",
   "metadata": {},
   "outputs": [],
   "source": [
    "model = AutoEncoder()\n",
    "model.eval()\n",
    "# optimizer = torch.optim.Adam(\n",
    "#             [{'params':model.embeding.parameters(), 'lr':1e-7, 'weight_decay':2e-4},\n",
    "#             {'params':model.encoder.parameters()},\n",
    "#             {'params':model.decoder.parameters()}]\n",
    "#             , lr=param['lr'])\n",
    "optimizer = torch.optim.Adam(model.parameters(), param['lr'])\n",
    "scheduler = None"
   ]
  },
  {
   "cell_type": "code",
   "execution_count": 19,
   "id": "e978a85a-d539-4932-b2c3-f7aa76e1575b",
   "metadata": {},
   "outputs": [],
   "source": [
    "trainer = Trainer(model, optimizer, train_loader, val_loader, test_loader, scheduler, device, **param)\n",
    "# trainer = Trainer(model, optimizer, train_loader, val_loader, scheduler, device)"
   ]
  },
  {
   "cell_type": "code",
   "execution_count": 20,
   "id": "b1c340fc-b182-4fd0-a6f7-52440a06c3f9",
   "metadata": {},
   "outputs": [
    {
     "name": "stdout",
     "output_type": "stream",
     "text": [
      "tp :  28 , fp :  4327 , tn :  24105 , fn :  2\n",
      "epoch :[0] train loss [0.22713033623165554] val score [0.465187437564706]\n",
      "tp :  25 , fp :  523 , tn :  27909 , fn :  5\n",
      "epoch :[1] train loss [0.14918708238336775] val score [0.5385672581308983]\n",
      "tp :  25 , fp :  227 , tn :  28205 , fn :  5\n",
      "epoch :[2] train loss [0.10090810242626402] val score [0.5866045319852622]\n",
      "tp :  25 , fp :  189 , tn :  28243 , fn :  5\n",
      "epoch :[3] train loss [0.08001330097516378] val score [0.6007476543609798]\n",
      "tp :  25 , fp :  142 , tn :  28290 , fn :  5\n",
      "epoch :[4] train loss [0.06659219993485345] val score [0.625607873993342]\n",
      "tp :  25 , fp :  173 , tn :  28259 , fn :  5\n",
      "epoch :[5] train loss [0.058394100351466076] val score [0.6080793471614693]\n",
      "tp :  25 , fp :  119 , tn :  28313 , fn :  5\n",
      "epoch :[6] train loss [0.050458403759532505] val score [0.6425856499063244]\n",
      "tp :  25 , fp :  94 , tn :  28338 , fn :  5\n",
      "epoch :[7] train loss [0.04585122697883182] val score [0.666913372283741]\n",
      "tp :  25 , fp :  115 , tn :  28317 , fn :  5\n",
      "epoch :[8] train loss [0.04191242299146122] val score [0.646001629322836]\n",
      "tp :  25 , fp :  91 , tn :  28341 , fn :  5\n",
      "epoch :[9] train loss [0.03891669776704576] val score [0.6703874788469584]\n",
      "tp :  25 , fp :  141 , tn :  28291 , fn :  5\n",
      "epoch :[10] train loss [0.038173109458552464] val score [0.6262641779317848]\n",
      "tp :  25 , fp :  69 , tn :  28363 , fn :  5\n",
      "epoch :[11] train loss [0.03818193235331112] val score [0.7009614947751022]\n",
      "tp :  25 , fp :  60 , tn :  28372 , fn :  5\n",
      "epoch :[12] train loss [0.03601573788457447] val score [0.7168192118976862]\n",
      "tp :  25 , fp :  75 , tn :  28357 , fn :  5\n",
      "epoch :[13] train loss [0.03402226020892461] val score [0.6916033925577187]\n",
      "tp :  25 , fp :  51 , tn :  28381 , fn :  5\n",
      "epoch :[14] train loss [0.032302472574843304] val score [0.7353562550268086]\n",
      "tp :  25 , fp :  46 , tn :  28386 , fn :  5\n",
      "epoch :[15] train loss [0.03204750509725677] val score [0.7470759905302604]\n",
      "tp :  25 , fp :  37 , tn :  28395 , fn :  5\n",
      "epoch :[16] train loss [0.03133622974985176] val score [0.7713696202996474]\n",
      "tp :  25 , fp :  93 , tn :  28339 , fn :  5\n",
      "epoch :[17] train loss [0.03205113824870851] val score [0.6680558781974872]\n",
      "tp :  25 , fp :  64 , tn :  28368 , fn :  5\n",
      "epoch :[18] train loss [0.03171884471343623] val score [0.7094766927103557]\n",
      "tp :  25 , fp :  58 , tn :  28374 , fn :  5\n",
      "epoch :[19] train loss [0.029792109628518422] val score [0.7206844679680786]\n",
      "tp :  25 , fp :  61 , tn :  28371 , fn :  5\n",
      "epoch :[20] train loss [0.029682071258624394] val score [0.714936337281296]\n",
      "tp :  25 , fp :  43 , tn :  28389 , fn :  5\n",
      "epoch :[21] train loss [0.02795959851808018] val score [0.75467969893057]\n",
      "tp :  25 , fp :  21 , tn :  28411 , fn :  5\n",
      "epoch :[22] train loss [0.027684451184338994] val score [0.8287186884323108]\n",
      "tp :  25 , fp :  66 , tn :  28366 , fn :  5\n",
      "epoch :[23] train loss [0.028360970690846442] val score [0.7059866032567539]\n",
      "tp :  25 , fp :  28 , tn :  28404 , fn :  5\n",
      "epoch :[24] train loss [0.026963402206699055] val score [0.8009145358549308]\n",
      "tp :  25 , fp :  29 , tn :  28403 , fn :  5\n",
      "epoch :[25] train loss [0.027301625079578822] val score [0.7973199624677456]\n",
      "tp :  25 , fp :  42 , tn :  28390 , fn :  5\n",
      "epoch :[26] train loss [0.02726817735367351] val score [0.7573184229436457]\n",
      "tp :  25 , fp :  37 , tn :  28395 , fn :  5\n",
      "epoch :[27] train loss [0.026226793395148384] val score [0.7713696202996474]\n",
      "tp :  25 , fp :  8 , tn :  28424 , fn :  5\n",
      "epoch :[28] train loss [0.026330156293180255] val score [0.8967110829723166]\n",
      "tp :  25 , fp :  21 , tn :  28411 , fn :  5\n",
      "epoch :[29] train loss [0.025956278956598706] val score [0.8287186884323108]\n",
      "tp :  25 , fp :  68 , tn :  28364 , fn :  5\n",
      "epoch :[30] train loss [0.025479908535877862] val score [0.7026094381998027]\n",
      "tp :  25 , fp :  32 , tn :  28400 , fn :  5\n",
      "epoch :[31] train loss [0.02534468782444795] val score [0.7870308296420961]\n",
      "tp :  25 , fp :  24 , tn :  28408 , fn :  5\n",
      "epoch :[32] train loss [0.02510740351345804] val score [0.8162006166001039]\n",
      "tp :  25 , fp :  45 , tn :  28387 , fn :  5\n",
      "epoch :[33] train loss [0.0251700004355775] val score [0.7495600450513867]\n",
      "tp :  25 , fp :  38 , tn :  28394 , fn :  5\n",
      "epoch :[34] train loss [0.02581121457947625] val score [0.7684388896488608]\n",
      "tp :  25 , fp :  109 , tn :  28323 , fn :  5\n",
      "epoch :[35] train loss [0.029568945202562542] val score [0.6514347960604342]\n",
      "tp :  25 , fp :  101 , tn :  28331 , fn :  5\n",
      "epoch :[36] train loss [0.027041180059313774] val score [0.6593227856791837]\n",
      "tp :  25 , fp :  48 , tn :  28384 , fn :  5\n",
      "epoch :[37] train loss [0.026127440192633206] val score [0.7422520697342344]\n",
      "tp :  25 , fp :  33 , tn :  28399 , fn :  5\n",
      "epoch :[38] train loss [0.025427188186181917] val score [0.7837566139258728]\n",
      "tp :  25 , fp :  33 , tn :  28399 , fn :  5\n",
      "epoch :[39] train loss [0.024951300356123182] val score [0.7837566139258728]\n",
      "tp :  25 , fp :  18 , tn :  28414 , fn :  5\n",
      "epoch :[40] train loss [0.024707804496089617] val score [0.8422634702634115]\n",
      "tp :  25 , fp :  10 , tn :  28422 , fn :  5\n",
      "epoch :[41] train loss [0.023734581967194874] val score [0.8844834793761085]\n",
      "tp :  25 , fp :  21 , tn :  28411 , fn :  5\n",
      "epoch :[42] train loss [0.023952152580022812] val score [0.8287186884323108]\n",
      "tp :  25 , fp :  8 , tn :  28424 , fn :  5\n",
      "epoch :[43] train loss [0.02418764175640212] val score [0.8967110829723166]\n",
      "tp :  25 , fp :  12 , tn :  28420 , fn :  5\n",
      "epoch :[44] train loss [0.02325104127327601] val score [0.872984830495149]\n",
      "tp :  25 , fp :  11 , tn :  28421 , fn :  5\n",
      "epoch :[45] train loss [0.02303485365377532] val score [0.8786471773914175]\n",
      "tp :  25 , fp :  8 , tn :  28424 , fn :  5\n",
      "epoch :[46] train loss [0.02384381074872282] val score [0.8967110829723166]\n",
      "tp :  25 , fp :  24 , tn :  28408 , fn :  5\n",
      "epoch :[47] train loss [0.023390820994973183] val score [0.8162006166001039]\n",
      "tp :  25 , fp :  130 , tn :  28302 , fn :  5\n",
      "epoch :[48] train loss [0.027074600466423564] val score [0.6339454772278755]\n",
      "tp :  25 , fp :  60 , tn :  28372 , fn :  5\n",
      "epoch :[49] train loss [0.02566705470283826] val score [0.7168192118976862]\n",
      "tp :  25 , fp :  20 , tn :  28412 , fn :  5\n",
      "epoch :[50] train loss [0.02355469154814879] val score [0.833113452596645]\n",
      "tp :  25 , fp :  11 , tn :  28421 , fn :  5\n",
      "epoch :[51] train loss [0.02329173017707136] val score [0.8786471773914175]\n",
      "tp :  25 , fp :  18 , tn :  28414 , fn :  5\n",
      "epoch :[52] train loss [0.023161155233780543] val score [0.8422634702634115]\n",
      "tp :  25 , fp :  6 , tn :  28426 , fn :  5\n",
      "epoch :[53] train loss [0.0227809001174238] val score [0.9097393418694286]\n",
      "tp :  25 , fp :  21 , tn :  28411 , fn :  5\n",
      "epoch :[54] train loss [0.022272742953565385] val score [0.8287186884323108]\n",
      "tp :  25 , fp :  16 , tn :  28416 , fn :  5\n",
      "epoch :[55] train loss [0.023315434033672016] val score [0.8519279892324237]\n",
      "tp :  25 , fp :  17 , tn :  28415 , fn :  5\n",
      "epoch :[56] train loss [0.022374264730347527] val score [0.8470287373843977]\n",
      "tp :  24 , fp :  6 , tn :  28426 , fn :  6\n",
      "epoch :[57] train loss [0.02254214125374953] val score [0.8998944850872257]\n",
      "tp :  25 , fp :  17 , tn :  28415 , fn :  5\n",
      "epoch :[58] train loss [0.022677386593487527] val score [0.8470287373843977]\n",
      "tp :  25 , fp :  21 , tn :  28411 , fn :  5\n",
      "epoch :[59] train loss [0.022297807162006696] val score [0.8287186884323108]\n",
      "tp :  24 , fp :  5 , tn :  28427 , fn :  6\n",
      "epoch :[60] train loss [0.02166800945997238] val score [0.9066829407144783]\n",
      "tp :  25 , fp :  18 , tn :  28414 , fn :  5\n",
      "epoch :[61] train loss [0.021719108935859467] val score [0.8422634702634115]\n",
      "tp :  25 , fp :  6 , tn :  28426 , fn :  5\n",
      "epoch :[62] train loss [0.021596626192331315] val score [0.9097393418694286]\n",
      "tp :  25 , fp :  6 , tn :  28426 , fn :  5\n",
      "epoch :[63] train loss [0.02238527283900314] val score [0.9097393418694286]\n",
      "tp :  25 , fp :  23 , tn :  28409 , fn :  5\n",
      "epoch :[64] train loss [0.02325460724532604] val score [0.8202665410912253]\n",
      "tp :  25 , fp :  17 , tn :  28415 , fn :  5\n",
      "epoch :[65] train loss [0.023679847891132037] val score [0.8470287373843977]\n",
      "tp :  25 , fp :  38 , tn :  28394 , fn :  5\n",
      "epoch :[66] train loss [0.02342578855653604] val score [0.7684388896488608]\n",
      "tp :  25 , fp :  17 , tn :  28415 , fn :  5\n",
      "epoch :[67] train loss [0.021806378952331014] val score [0.8470287373843977]\n",
      "tp :  25 , fp :  12 , tn :  28420 , fn :  5\n",
      "epoch :[68] train loss [0.021562797617581154] val score [0.872984830495149]\n",
      "tp :  25 , fp :  16 , tn :  28416 , fn :  5\n",
      "epoch :[69] train loss [0.021725584897730084] val score [0.8519279892324237]\n",
      "tp :  25 , fp :  22 , tn :  28410 , fn :  5\n",
      "epoch :[70] train loss [0.021848113213976224] val score [0.8244378451249526]\n",
      "tp :  25 , fp :  6 , tn :  28426 , fn :  5\n",
      "epoch :[71] train loss [0.021654696431424883] val score [0.9097393418694286]\n",
      "tp :  24 , fp :  5 , tn :  28427 , fn :  6\n",
      "epoch :[72] train loss [0.021589806386166147] val score [0.9066829407144783]\n",
      "tp :  25 , fp :  20 , tn :  28412 , fn :  5\n",
      "epoch :[73] train loss [0.021395762430297005] val score [0.833113452596645]\n",
      "tp :  25 , fp :  22 , tn :  28410 , fn :  5\n",
      "epoch :[74] train loss [0.021502210448185604] val score [0.8244378451249526]\n",
      "tp :  25 , fp :  10 , tn :  28422 , fn :  5\n",
      "epoch :[75] train loss [0.021648499824934535] val score [0.8844834793761085]\n",
      "tp :  25 , fp :  6 , tn :  28426 , fn :  5\n",
      "epoch :[76] train loss [0.021495811848176852] val score [0.9097393418694286]\n",
      "tp :  25 , fp :  9 , tn :  28423 , fn :  5\n",
      "epoch :[77] train loss [0.020940664307110838] val score [0.890501890608512]\n",
      "tp :  25 , fp :  25 , tn :  28407 , fn :  5\n",
      "epoch :[78] train loss [0.021330073434445592] val score [0.8122361199071142]\n",
      "tp :  25 , fp :  10 , tn :  28422 , fn :  5\n",
      "epoch :[79] train loss [0.021537910857134395] val score [0.8844834793761085]\n",
      "tp :  25 , fp :  13 , tn :  28419 , fn :  5\n",
      "epoch :[80] train loss [0.021168337224258316] val score [0.8674887641844412]\n",
      "tp :  25 , fp :  25 , tn :  28407 , fn :  5\n",
      "epoch :[81] train loss [0.021721217077639368] val score [0.8122361199071142]\n",
      "tp :  25 , fp :  5 , tn :  28427 , fn :  5\n",
      "epoch :[82] train loss [0.020992361216081515] val score [0.9165787375726882]\n",
      "tp :  25 , fp :  35 , tn :  28397 , fn :  5\n",
      "epoch :[83] train loss [0.02216228201157517] val score [0.777425875747303]\n",
      "tp :  25 , fp :  43 , tn :  28389 , fn :  5\n",
      "epoch :[84] train loss [0.021670701396134164] val score [0.75467969893057]\n",
      "tp :  25 , fp :  78 , tn :  28354 , fn :  5\n",
      "epoch :[85] train loss [0.02276247110631731] val score [0.687239175221426]\n",
      "tp :  25 , fp :  49 , tn :  28383 , fn :  5\n",
      "epoch :[86] train loss [0.021752584560049904] val score [0.7399094305905288]\n",
      "tp :  25 , fp :  16 , tn :  28416 , fn :  5\n",
      "epoch :[87] train loss [0.02093361239466402] val score [0.8519279892324237]\n",
      "tp :  25 , fp :  16 , tn :  28416 , fn :  5\n",
      "epoch :[88] train loss [0.0209410625613398] val score [0.8519279892324237]\n",
      "tp :  25 , fp :  29 , tn :  28403 , fn :  5\n",
      "epoch :[89] train loss [0.020788067413700952] val score [0.7973199624677456]\n",
      "tp :  25 , fp :  18 , tn :  28414 , fn :  5\n",
      "epoch :[90] train loss [0.020598512391249338] val score [0.8422634702634115]\n",
      "tp :  25 , fp :  6 , tn :  28426 , fn :  5\n",
      "epoch :[91] train loss [0.020728439403076965] val score [0.9097393418694286]\n",
      "tp :  25 , fp :  16 , tn :  28416 , fn :  5\n",
      "epoch :[92] train loss [0.020651189320617252] val score [0.8519279892324237]\n",
      "tp :  25 , fp :  23 , tn :  28409 , fn :  5\n",
      "epoch :[93] train loss [0.021567708998918533] val score [0.8202665410912253]\n",
      "tp :  25 , fp :  13 , tn :  28419 , fn :  5\n",
      "epoch :[94] train loss [0.0208593619780408] val score [0.8674887641844412]\n",
      "tp :  25 , fp :  6 , tn :  28426 , fn :  5\n",
      "epoch :[95] train loss [0.020111534661716887] val score [0.9097393418694286]\n",
      "tp :  25 , fp :  7 , tn :  28425 , fn :  5\n",
      "epoch :[96] train loss [0.019896704703569412] val score [0.9031202878275757]\n",
      "tp :  25 , fp :  15 , tn :  28417 , fn :  5\n",
      "epoch :[97] train loss [0.019865642198257975] val score [0.856966968023358]\n",
      "tp :  25 , fp :  7 , tn :  28425 , fn :  5\n",
      "epoch :[98] train loss [0.020277329575684337] val score [0.9031202878275757]\n",
      "tp :  25 , fp :  6 , tn :  28426 , fn :  5\n",
      "epoch :[99] train loss [0.020666256546974182] val score [0.9097393418694286]\n"
     ]
    }
   ],
   "source": [
    "trainer.fit()"
   ]
  },
  {
   "cell_type": "code",
   "execution_count": 21,
   "id": "49c3a528-b82e-4abd-8bb8-a77aa77bb6dd",
   "metadata": {},
   "outputs": [
    {
     "name": "stdout",
     "output_type": "stream",
     "text": [
      "0.9165787375726882\n",
      "tp :  25 , fp :  5 , tn :  28427 , fn :  5\n"
     ]
    }
   ],
   "source": [
    "trainer.threshold = 0.5\n",
    "trainer.load_model(saved_model)\n",
    "true_y, pred_y = trainer.validation()\n",
    "score = f1_score(true_y, pred_y, average='macro')\n",
    "print(score)\n",
    "tn, fp, fn, tp = confusion_matrix(true_y, pred_y).ravel()\n",
    "print('tp : ', tp, ', fp : ', fp, ', tn : ', tn, ', fn : ', fn)\n",
    "# confusion_matrix(true_y, pred_y)\n"
   ]
  },
  {
   "cell_type": "code",
   "execution_count": 22,
   "id": "c05b1deb-9e06-4fdc-9204-8dd43b0ae80a",
   "metadata": {},
   "outputs": [
    {
     "data": {
      "text/plain": [
       "array([[28427,     5],\n",
       "       [    5,    25]])"
      ]
     },
     "execution_count": 22,
     "metadata": {},
     "output_type": "execute_result"
    }
   ],
   "source": [
    "confusion_matrix(true_y, pred_y)"
   ]
  },
  {
   "cell_type": "code",
   "execution_count": 23,
   "id": "3018dc07-72c8-43e7-85da-21bc5040159b",
   "metadata": {},
   "outputs": [
    {
     "name": "stdout",
     "output_type": "stream",
     "text": [
      "              precision    recall  f1-score   support\n",
      "\n",
      "           0       1.00      1.00      1.00     28432\n",
      "           1       0.83      0.83      0.83        30\n",
      "\n",
      "    accuracy                           1.00     28462\n",
      "   macro avg       0.92      0.92      0.92     28462\n",
      "weighted avg       1.00      1.00      1.00     28462\n",
      "\n"
     ]
    }
   ],
   "source": [
    "print(classification_report(true_y, pred_y))"
   ]
  },
  {
   "cell_type": "code",
   "execution_count": 24,
   "id": "26c0e5be-e833-4ace-a57e-5b7143492239",
   "metadata": {},
   "outputs": [
    {
     "data": {
      "text/plain": [
       "array([ 1047,  1210,  6350, 15306, 19113])"
      ]
     },
     "execution_count": 24,
     "metadata": {},
     "output_type": "execute_result"
    }
   ],
   "source": [
    "answer = np.where((np.array(true_y) != np.array(pred_y)) & (np.array(pred_y) == 1))[0]\n",
    "answer"
   ]
  },
  {
   "cell_type": "code",
   "execution_count": 25,
   "id": "774b3c8f-1aec-48c0-9f5f-2de0772337f2",
   "metadata": {},
   "outputs": [
    {
     "data": {
      "text/plain": [
       "array([   71,  1047,  1210,  4039,  6350,  9326, 14221, 15306, 19113,\n",
       "       28146])"
      ]
     },
     "execution_count": 25,
     "metadata": {},
     "output_type": "execute_result"
    }
   ],
   "source": [
    "answer = np.where(np.array(true_y) != np.array(pred_y))[0]\n",
    "# answer = np.where((np.array(true_y) != np.array(pred_y)) & (np.array(pred_y) == 1))[0]\n",
    "answer"
   ]
  },
  {
   "cell_type": "code",
   "execution_count": null,
   "id": "e6f6a45a-575c-40d0-a762-4d6c0897b0f5",
   "metadata": {},
   "outputs": [],
   "source": []
  },
  {
   "cell_type": "code",
   "execution_count": 26,
   "id": "2785a760-120f-4bb5-b55c-c381a4e6b609",
   "metadata": {},
   "outputs": [
    {
     "name": "stdout",
     "output_type": "stream",
     "text": [
      "[   71  1047  1210  4039  6350  9326 14221 15306 19113 28146]\n",
      "[1 0 0 1 0 1 1 0 0 1]\n"
     ]
    }
   ],
   "source": [
    "val = pd.read_csv('../dataset/val.csv')\n",
    "print(val.index.values[answer])\n",
    "print(val.Class.values[answer])"
   ]
  },
  {
   "cell_type": "code",
   "execution_count": 27,
   "id": "4105eeb3-b7fd-4de2-91d7-28d327d17b3f",
   "metadata": {},
   "outputs": [],
   "source": [
    "pred_y = trainer.predict()"
   ]
  },
  {
   "cell_type": "code",
   "execution_count": 28,
   "id": "d2b897dc-6205-43a3-bf83-73d6f8d47d71",
   "metadata": {},
   "outputs": [],
   "source": [
    "submit = pd.read_csv('../dataset/sample_submission.csv')\n",
    "submit['Class'] = pred_y\n",
    "submit.to_csv('./submit_AE_split6.csv', index=False)"
   ]
  },
  {
   "cell_type": "code",
   "execution_count": 29,
   "id": "8308878f-f08b-4d44-9b59-fb6640310b26",
   "metadata": {},
   "outputs": [
    {
     "data": {
      "text/plain": [
       "'../saved/ae_split5/best_model1.pth'"
      ]
     },
     "execution_count": 29,
     "metadata": {},
     "output_type": "execute_result"
    }
   ],
   "source": [
    "saved_model"
   ]
  },
  {
   "cell_type": "code",
   "execution_count": null,
   "id": "0964ee7d-1b8e-438b-ba28-daae805450f6",
   "metadata": {},
   "outputs": [],
   "source": []
  },
  {
   "cell_type": "code",
   "execution_count": null,
   "id": "fbcca9e7-cdfc-46ca-9df0-81941a9cc5a8",
   "metadata": {},
   "outputs": [],
   "source": []
  },
  {
   "cell_type": "code",
   "execution_count": null,
   "id": "d1fe6b3d-38e8-47a9-890c-933db4c5d743",
   "metadata": {},
   "outputs": [],
   "source": []
  },
  {
   "cell_type": "code",
   "execution_count": null,
   "id": "7a2ad2fe-7f3b-4859-95ac-7a01ef8d8e32",
   "metadata": {},
   "outputs": [],
   "source": []
  },
  {
   "cell_type": "code",
   "execution_count": null,
   "id": "c372c4e5-9777-4af1-874f-b2f1e9239355",
   "metadata": {},
   "outputs": [],
   "source": []
  }
 ],
 "metadata": {
  "kernelspec": {
   "display_name": "pytorch",
   "language": "python",
   "name": "pytorch"
  },
  "language_info": {
   "codemirror_mode": {
    "name": "ipython",
    "version": 3
   },
   "file_extension": ".py",
   "mimetype": "text/x-python",
   "name": "python",
   "nbconvert_exporter": "python",
   "pygments_lexer": "ipython3",
   "version": "3.8.13"
  }
 },
 "nbformat": 4,
 "nbformat_minor": 5
}
